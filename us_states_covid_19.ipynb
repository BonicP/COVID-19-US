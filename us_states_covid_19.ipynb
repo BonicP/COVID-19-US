{
 "cells": [
  {
   "cell_type": "markdown",
   "metadata": {},
   "source": [
    "1 - Verificar o número de casos e mortes por COVID-19 nos Estados Unidos da América (por estado)"
   ]
  },
  {
   "cell_type": "code",
   "execution_count": 101,
   "metadata": {},
   "outputs": [],
   "source": [
    "import pandas as pd\n",
    "import numpy as np\n",
    "import plotly.express as px\n",
    "from plotly.subplots import make_subplots\n",
    "import plotly.graph_objects as go\n",
    "import matplotlib.pyplot as plt\n",
    "\n",
    "covid_df = pd.read_csv(\"us-states.csv\")\n",
    "\n",
    "population_df = pd.read_csv(\"us_population_estimates.csv\")"
   ]
  },
  {
   "cell_type": "code",
   "execution_count": 102,
   "metadata": {},
   "outputs": [
    {
     "data": {
      "text/html": [
       "<div>\n",
       "<style scoped>\n",
       "    .dataframe tbody tr th:only-of-type {\n",
       "        vertical-align: middle;\n",
       "    }\n",
       "\n",
       "    .dataframe tbody tr th {\n",
       "        vertical-align: top;\n",
       "    }\n",
       "\n",
       "    .dataframe thead th {\n",
       "        text-align: right;\n",
       "    }\n",
       "</style>\n",
       "<table border=\"1\" class=\"dataframe\">\n",
       "  <thead>\n",
       "    <tr style=\"text-align: right;\">\n",
       "      <th></th>\n",
       "      <th>STATE</th>\n",
       "      <th>NAME</th>\n",
       "      <th>POPESTIMATE2020</th>\n",
       "      <th>POPESTIMATE2021</th>\n",
       "      <th>POPESTIMATE2022</th>\n",
       "    </tr>\n",
       "  </thead>\n",
       "  <tbody>\n",
       "    <tr>\n",
       "      <th>0</th>\n",
       "      <td>0</td>\n",
       "      <td>United States</td>\n",
       "      <td>331511512</td>\n",
       "      <td>332031554</td>\n",
       "      <td>333287557</td>\n",
       "    </tr>\n",
       "    <tr>\n",
       "      <th>1</th>\n",
       "      <td>0</td>\n",
       "      <td>Northeast Region</td>\n",
       "      <td>57448898</td>\n",
       "      <td>57259257</td>\n",
       "      <td>57040406</td>\n",
       "    </tr>\n",
       "    <tr>\n",
       "      <th>2</th>\n",
       "      <td>0</td>\n",
       "      <td>New England</td>\n",
       "      <td>15074473</td>\n",
       "      <td>15121745</td>\n",
       "      <td>15129548</td>\n",
       "    </tr>\n",
       "    <tr>\n",
       "      <th>3</th>\n",
       "      <td>0</td>\n",
       "      <td>Middle Atlantic</td>\n",
       "      <td>42374425</td>\n",
       "      <td>42137512</td>\n",
       "      <td>41910858</td>\n",
       "    </tr>\n",
       "    <tr>\n",
       "      <th>4</th>\n",
       "      <td>0</td>\n",
       "      <td>Midwest Region</td>\n",
       "      <td>68961043</td>\n",
       "      <td>68836505</td>\n",
       "      <td>68787595</td>\n",
       "    </tr>\n",
       "    <tr>\n",
       "      <th>...</th>\n",
       "      <td>...</td>\n",
       "      <td>...</td>\n",
       "      <td>...</td>\n",
       "      <td>...</td>\n",
       "      <td>...</td>\n",
       "    </tr>\n",
       "    <tr>\n",
       "      <th>61</th>\n",
       "      <td>53</td>\n",
       "      <td>Washington</td>\n",
       "      <td>7724031</td>\n",
       "      <td>7740745</td>\n",
       "      <td>7785786</td>\n",
       "    </tr>\n",
       "    <tr>\n",
       "      <th>62</th>\n",
       "      <td>54</td>\n",
       "      <td>West Virginia</td>\n",
       "      <td>1791420</td>\n",
       "      <td>1785526</td>\n",
       "      <td>1775156</td>\n",
       "    </tr>\n",
       "    <tr>\n",
       "      <th>63</th>\n",
       "      <td>55</td>\n",
       "      <td>Wisconsin</td>\n",
       "      <td>5896271</td>\n",
       "      <td>5880101</td>\n",
       "      <td>5892539</td>\n",
       "    </tr>\n",
       "    <tr>\n",
       "      <th>64</th>\n",
       "      <td>56</td>\n",
       "      <td>Wyoming</td>\n",
       "      <td>577605</td>\n",
       "      <td>579483</td>\n",
       "      <td>581381</td>\n",
       "    </tr>\n",
       "    <tr>\n",
       "      <th>65</th>\n",
       "      <td>72</td>\n",
       "      <td>Puerto Rico</td>\n",
       "      <td>3281557</td>\n",
       "      <td>3262693</td>\n",
       "      <td>3221789</td>\n",
       "    </tr>\n",
       "  </tbody>\n",
       "</table>\n",
       "<p>66 rows × 5 columns</p>\n",
       "</div>"
      ],
      "text/plain": [
       "    STATE              NAME  POPESTIMATE2020  POPESTIMATE2021  POPESTIMATE2022\n",
       "0       0     United States        331511512        332031554        333287557\n",
       "1       0  Northeast Region         57448898         57259257         57040406\n",
       "2       0       New England         15074473         15121745         15129548\n",
       "3       0   Middle Atlantic         42374425         42137512         41910858\n",
       "4       0    Midwest Region         68961043         68836505         68787595\n",
       "..    ...               ...              ...              ...              ...\n",
       "61     53        Washington          7724031          7740745          7785786\n",
       "62     54     West Virginia          1791420          1785526          1775156\n",
       "63     55         Wisconsin          5896271          5880101          5892539\n",
       "64     56           Wyoming           577605           579483           581381\n",
       "65     72       Puerto Rico          3281557          3262693          3221789\n",
       "\n",
       "[66 rows x 5 columns]"
      ]
     },
     "execution_count": 102,
     "metadata": {},
     "output_type": "execute_result"
    }
   ],
   "source": [
    "#retirar da dataframe apenas as colunas que interessam\n",
    "population_df = population_df[[\"STATE\", \"NAME\", \"POPESTIMATE2020\",\n",
    "                               \"POPESTIMATE2021\", \"POPESTIMATE2022\"]]\n",
    "\n",
    "population_df"
   ]
  },
  {
   "cell_type": "code",
   "execution_count": 103,
   "metadata": {},
   "outputs": [
    {
     "data": {
      "text/html": [
       "<div>\n",
       "<style scoped>\n",
       "    .dataframe tbody tr th:only-of-type {\n",
       "        vertical-align: middle;\n",
       "    }\n",
       "\n",
       "    .dataframe tbody tr th {\n",
       "        vertical-align: top;\n",
       "    }\n",
       "\n",
       "    .dataframe thead th {\n",
       "        text-align: right;\n",
       "    }\n",
       "</style>\n",
       "<table border=\"1\" class=\"dataframe\">\n",
       "  <thead>\n",
       "    <tr style=\"text-align: right;\">\n",
       "      <th></th>\n",
       "      <th>STATE</th>\n",
       "      <th>NAME</th>\n",
       "      <th>POPESTIMATE2020</th>\n",
       "      <th>POPESTIMATE2021</th>\n",
       "      <th>POPESTIMATE2022</th>\n",
       "    </tr>\n",
       "  </thead>\n",
       "  <tbody>\n",
       "    <tr>\n",
       "      <th>0</th>\n",
       "      <td>1</td>\n",
       "      <td>Alabama</td>\n",
       "      <td>5031362</td>\n",
       "      <td>5049846</td>\n",
       "      <td>5074296</td>\n",
       "    </tr>\n",
       "    <tr>\n",
       "      <th>1</th>\n",
       "      <td>2</td>\n",
       "      <td>Alaska</td>\n",
       "      <td>732923</td>\n",
       "      <td>734182</td>\n",
       "      <td>733583</td>\n",
       "    </tr>\n",
       "    <tr>\n",
       "      <th>2</th>\n",
       "      <td>4</td>\n",
       "      <td>Arizona</td>\n",
       "      <td>7179943</td>\n",
       "      <td>7264877</td>\n",
       "      <td>7359197</td>\n",
       "    </tr>\n",
       "    <tr>\n",
       "      <th>3</th>\n",
       "      <td>5</td>\n",
       "      <td>Arkansas</td>\n",
       "      <td>3014195</td>\n",
       "      <td>3028122</td>\n",
       "      <td>3045637</td>\n",
       "    </tr>\n",
       "    <tr>\n",
       "      <th>4</th>\n",
       "      <td>6</td>\n",
       "      <td>California</td>\n",
       "      <td>39501653</td>\n",
       "      <td>39142991</td>\n",
       "      <td>39029342</td>\n",
       "    </tr>\n",
       "    <tr>\n",
       "      <th>5</th>\n",
       "      <td>8</td>\n",
       "      <td>Colorado</td>\n",
       "      <td>5784865</td>\n",
       "      <td>5811297</td>\n",
       "      <td>5839926</td>\n",
       "    </tr>\n",
       "    <tr>\n",
       "      <th>6</th>\n",
       "      <td>9</td>\n",
       "      <td>Connecticut</td>\n",
       "      <td>3597362</td>\n",
       "      <td>3623355</td>\n",
       "      <td>3626205</td>\n",
       "    </tr>\n",
       "    <tr>\n",
       "      <th>7</th>\n",
       "      <td>10</td>\n",
       "      <td>Delaware</td>\n",
       "      <td>992114</td>\n",
       "      <td>1004807</td>\n",
       "      <td>1018396</td>\n",
       "    </tr>\n",
       "    <tr>\n",
       "      <th>8</th>\n",
       "      <td>12</td>\n",
       "      <td>Florida</td>\n",
       "      <td>21589602</td>\n",
       "      <td>21828069</td>\n",
       "      <td>22244823</td>\n",
       "    </tr>\n",
       "    <tr>\n",
       "      <th>9</th>\n",
       "      <td>13</td>\n",
       "      <td>Georgia</td>\n",
       "      <td>10729828</td>\n",
       "      <td>10788029</td>\n",
       "      <td>10912876</td>\n",
       "    </tr>\n",
       "    <tr>\n",
       "      <th>10</th>\n",
       "      <td>15</td>\n",
       "      <td>Hawaii</td>\n",
       "      <td>1451043</td>\n",
       "      <td>1447154</td>\n",
       "      <td>1440196</td>\n",
       "    </tr>\n",
       "    <tr>\n",
       "      <th>11</th>\n",
       "      <td>16</td>\n",
       "      <td>Idaho</td>\n",
       "      <td>1849202</td>\n",
       "      <td>1904314</td>\n",
       "      <td>1939033</td>\n",
       "    </tr>\n",
       "    <tr>\n",
       "      <th>12</th>\n",
       "      <td>17</td>\n",
       "      <td>Illinois</td>\n",
       "      <td>12786580</td>\n",
       "      <td>12686469</td>\n",
       "      <td>12582032</td>\n",
       "    </tr>\n",
       "    <tr>\n",
       "      <th>13</th>\n",
       "      <td>18</td>\n",
       "      <td>Indiana</td>\n",
       "      <td>6788799</td>\n",
       "      <td>6813532</td>\n",
       "      <td>6833037</td>\n",
       "    </tr>\n",
       "    <tr>\n",
       "      <th>14</th>\n",
       "      <td>19</td>\n",
       "      <td>Iowa</td>\n",
       "      <td>3190571</td>\n",
       "      <td>3197689</td>\n",
       "      <td>3200517</td>\n",
       "    </tr>\n",
       "    <tr>\n",
       "      <th>15</th>\n",
       "      <td>20</td>\n",
       "      <td>Kansas</td>\n",
       "      <td>2937919</td>\n",
       "      <td>2937922</td>\n",
       "      <td>2937150</td>\n",
       "    </tr>\n",
       "    <tr>\n",
       "      <th>16</th>\n",
       "      <td>21</td>\n",
       "      <td>Kentucky</td>\n",
       "      <td>4507445</td>\n",
       "      <td>4506589</td>\n",
       "      <td>4512310</td>\n",
       "    </tr>\n",
       "    <tr>\n",
       "      <th>17</th>\n",
       "      <td>22</td>\n",
       "      <td>Louisiana</td>\n",
       "      <td>4651664</td>\n",
       "      <td>4627098</td>\n",
       "      <td>4590241</td>\n",
       "    </tr>\n",
       "    <tr>\n",
       "      <th>18</th>\n",
       "      <td>23</td>\n",
       "      <td>Maine</td>\n",
       "      <td>1363557</td>\n",
       "      <td>1377238</td>\n",
       "      <td>1385340</td>\n",
       "    </tr>\n",
       "    <tr>\n",
       "      <th>19</th>\n",
       "      <td>24</td>\n",
       "      <td>Maryland</td>\n",
       "      <td>6173205</td>\n",
       "      <td>6174610</td>\n",
       "      <td>6164660</td>\n",
       "    </tr>\n",
       "    <tr>\n",
       "      <th>20</th>\n",
       "      <td>25</td>\n",
       "      <td>Massachusetts</td>\n",
       "      <td>6995729</td>\n",
       "      <td>6989690</td>\n",
       "      <td>6981974</td>\n",
       "    </tr>\n",
       "    <tr>\n",
       "      <th>21</th>\n",
       "      <td>26</td>\n",
       "      <td>Michigan</td>\n",
       "      <td>10069577</td>\n",
       "      <td>10037504</td>\n",
       "      <td>10034113</td>\n",
       "    </tr>\n",
       "    <tr>\n",
       "      <th>22</th>\n",
       "      <td>27</td>\n",
       "      <td>Minnesota</td>\n",
       "      <td>5709852</td>\n",
       "      <td>5711471</td>\n",
       "      <td>5717184</td>\n",
       "    </tr>\n",
       "    <tr>\n",
       "      <th>23</th>\n",
       "      <td>28</td>\n",
       "      <td>Mississippi</td>\n",
       "      <td>2958141</td>\n",
       "      <td>2949586</td>\n",
       "      <td>2940057</td>\n",
       "    </tr>\n",
       "    <tr>\n",
       "      <th>24</th>\n",
       "      <td>29</td>\n",
       "      <td>Missouri</td>\n",
       "      <td>6153998</td>\n",
       "      <td>6169823</td>\n",
       "      <td>6177957</td>\n",
       "    </tr>\n",
       "    <tr>\n",
       "      <th>25</th>\n",
       "      <td>30</td>\n",
       "      <td>Montana</td>\n",
       "      <td>1087075</td>\n",
       "      <td>1106227</td>\n",
       "      <td>1122867</td>\n",
       "    </tr>\n",
       "    <tr>\n",
       "      <th>26</th>\n",
       "      <td>31</td>\n",
       "      <td>Nebraska</td>\n",
       "      <td>1962642</td>\n",
       "      <td>1963554</td>\n",
       "      <td>1967923</td>\n",
       "    </tr>\n",
       "    <tr>\n",
       "      <th>27</th>\n",
       "      <td>32</td>\n",
       "      <td>Nevada</td>\n",
       "      <td>3115648</td>\n",
       "      <td>3146402</td>\n",
       "      <td>3177772</td>\n",
       "    </tr>\n",
       "    <tr>\n",
       "      <th>28</th>\n",
       "      <td>33</td>\n",
       "      <td>New Hampshire</td>\n",
       "      <td>1378587</td>\n",
       "      <td>1387505</td>\n",
       "      <td>1395231</td>\n",
       "    </tr>\n",
       "    <tr>\n",
       "      <th>29</th>\n",
       "      <td>34</td>\n",
       "      <td>New Jersey</td>\n",
       "      <td>9271689</td>\n",
       "      <td>9267961</td>\n",
       "      <td>9261699</td>\n",
       "    </tr>\n",
       "    <tr>\n",
       "      <th>30</th>\n",
       "      <td>35</td>\n",
       "      <td>New Mexico</td>\n",
       "      <td>2118390</td>\n",
       "      <td>2116677</td>\n",
       "      <td>2113344</td>\n",
       "    </tr>\n",
       "    <tr>\n",
       "      <th>31</th>\n",
       "      <td>36</td>\n",
       "      <td>New York</td>\n",
       "      <td>20108296</td>\n",
       "      <td>19857492</td>\n",
       "      <td>19677151</td>\n",
       "    </tr>\n",
       "    <tr>\n",
       "      <th>32</th>\n",
       "      <td>37</td>\n",
       "      <td>North Carolina</td>\n",
       "      <td>10449445</td>\n",
       "      <td>10565885</td>\n",
       "      <td>10698973</td>\n",
       "    </tr>\n",
       "    <tr>\n",
       "      <th>33</th>\n",
       "      <td>38</td>\n",
       "      <td>North Dakota</td>\n",
       "      <td>779518</td>\n",
       "      <td>777934</td>\n",
       "      <td>779261</td>\n",
       "    </tr>\n",
       "    <tr>\n",
       "      <th>34</th>\n",
       "      <td>39</td>\n",
       "      <td>Ohio</td>\n",
       "      <td>11797517</td>\n",
       "      <td>11764342</td>\n",
       "      <td>11756058</td>\n",
       "    </tr>\n",
       "    <tr>\n",
       "      <th>35</th>\n",
       "      <td>40</td>\n",
       "      <td>Oklahoma</td>\n",
       "      <td>3964912</td>\n",
       "      <td>3991225</td>\n",
       "      <td>4019800</td>\n",
       "    </tr>\n",
       "    <tr>\n",
       "      <th>36</th>\n",
       "      <td>41</td>\n",
       "      <td>Oregon</td>\n",
       "      <td>4244795</td>\n",
       "      <td>4256301</td>\n",
       "      <td>4240137</td>\n",
       "    </tr>\n",
       "    <tr>\n",
       "      <th>37</th>\n",
       "      <td>42</td>\n",
       "      <td>Pennsylvania</td>\n",
       "      <td>12994440</td>\n",
       "      <td>13012059</td>\n",
       "      <td>12972008</td>\n",
       "    </tr>\n",
       "    <tr>\n",
       "      <th>38</th>\n",
       "      <td>44</td>\n",
       "      <td>Rhode Island</td>\n",
       "      <td>1096345</td>\n",
       "      <td>1096985</td>\n",
       "      <td>1093734</td>\n",
       "    </tr>\n",
       "    <tr>\n",
       "      <th>39</th>\n",
       "      <td>45</td>\n",
       "      <td>South Carolina</td>\n",
       "      <td>5131848</td>\n",
       "      <td>5193266</td>\n",
       "      <td>5282634</td>\n",
       "    </tr>\n",
       "    <tr>\n",
       "      <th>40</th>\n",
       "      <td>46</td>\n",
       "      <td>South Dakota</td>\n",
       "      <td>887799</td>\n",
       "      <td>896164</td>\n",
       "      <td>909824</td>\n",
       "    </tr>\n",
       "    <tr>\n",
       "      <th>41</th>\n",
       "      <td>47</td>\n",
       "      <td>Tennessee</td>\n",
       "      <td>6925619</td>\n",
       "      <td>6968351</td>\n",
       "      <td>7051339</td>\n",
       "    </tr>\n",
       "    <tr>\n",
       "      <th>42</th>\n",
       "      <td>48</td>\n",
       "      <td>Texas</td>\n",
       "      <td>29232474</td>\n",
       "      <td>29558864</td>\n",
       "      <td>30029572</td>\n",
       "    </tr>\n",
       "    <tr>\n",
       "      <th>43</th>\n",
       "      <td>49</td>\n",
       "      <td>Utah</td>\n",
       "      <td>3283785</td>\n",
       "      <td>3339113</td>\n",
       "      <td>3380800</td>\n",
       "    </tr>\n",
       "    <tr>\n",
       "      <th>44</th>\n",
       "      <td>50</td>\n",
       "      <td>Vermont</td>\n",
       "      <td>642893</td>\n",
       "      <td>646972</td>\n",
       "      <td>647064</td>\n",
       "    </tr>\n",
       "    <tr>\n",
       "      <th>45</th>\n",
       "      <td>51</td>\n",
       "      <td>Virginia</td>\n",
       "      <td>8636471</td>\n",
       "      <td>8657365</td>\n",
       "      <td>8683619</td>\n",
       "    </tr>\n",
       "    <tr>\n",
       "      <th>46</th>\n",
       "      <td>53</td>\n",
       "      <td>Washington</td>\n",
       "      <td>7724031</td>\n",
       "      <td>7740745</td>\n",
       "      <td>7785786</td>\n",
       "    </tr>\n",
       "    <tr>\n",
       "      <th>47</th>\n",
       "      <td>54</td>\n",
       "      <td>West Virginia</td>\n",
       "      <td>1791420</td>\n",
       "      <td>1785526</td>\n",
       "      <td>1775156</td>\n",
       "    </tr>\n",
       "    <tr>\n",
       "      <th>48</th>\n",
       "      <td>55</td>\n",
       "      <td>Wisconsin</td>\n",
       "      <td>5896271</td>\n",
       "      <td>5880101</td>\n",
       "      <td>5892539</td>\n",
       "    </tr>\n",
       "    <tr>\n",
       "      <th>49</th>\n",
       "      <td>56</td>\n",
       "      <td>Wyoming</td>\n",
       "      <td>577605</td>\n",
       "      <td>579483</td>\n",
       "      <td>581381</td>\n",
       "    </tr>\n",
       "  </tbody>\n",
       "</table>\n",
       "</div>"
      ],
      "text/plain": [
       "    STATE            NAME  POPESTIMATE2020  POPESTIMATE2021  POPESTIMATE2022\n",
       "0       1         Alabama          5031362          5049846          5074296\n",
       "1       2          Alaska           732923           734182           733583\n",
       "2       4         Arizona          7179943          7264877          7359197\n",
       "3       5        Arkansas          3014195          3028122          3045637\n",
       "4       6      California         39501653         39142991         39029342\n",
       "5       8        Colorado          5784865          5811297          5839926\n",
       "6       9     Connecticut          3597362          3623355          3626205\n",
       "7      10        Delaware           992114          1004807          1018396\n",
       "8      12         Florida         21589602         21828069         22244823\n",
       "9      13         Georgia         10729828         10788029         10912876\n",
       "10     15          Hawaii          1451043          1447154          1440196\n",
       "11     16           Idaho          1849202          1904314          1939033\n",
       "12     17        Illinois         12786580         12686469         12582032\n",
       "13     18         Indiana          6788799          6813532          6833037\n",
       "14     19            Iowa          3190571          3197689          3200517\n",
       "15     20          Kansas          2937919          2937922          2937150\n",
       "16     21        Kentucky          4507445          4506589          4512310\n",
       "17     22       Louisiana          4651664          4627098          4590241\n",
       "18     23           Maine          1363557          1377238          1385340\n",
       "19     24        Maryland          6173205          6174610          6164660\n",
       "20     25   Massachusetts          6995729          6989690          6981974\n",
       "21     26        Michigan         10069577         10037504         10034113\n",
       "22     27       Minnesota          5709852          5711471          5717184\n",
       "23     28     Mississippi          2958141          2949586          2940057\n",
       "24     29        Missouri          6153998          6169823          6177957\n",
       "25     30         Montana          1087075          1106227          1122867\n",
       "26     31        Nebraska          1962642          1963554          1967923\n",
       "27     32          Nevada          3115648          3146402          3177772\n",
       "28     33   New Hampshire          1378587          1387505          1395231\n",
       "29     34      New Jersey          9271689          9267961          9261699\n",
       "30     35      New Mexico          2118390          2116677          2113344\n",
       "31     36        New York         20108296         19857492         19677151\n",
       "32     37  North Carolina         10449445         10565885         10698973\n",
       "33     38    North Dakota           779518           777934           779261\n",
       "34     39            Ohio         11797517         11764342         11756058\n",
       "35     40        Oklahoma          3964912          3991225          4019800\n",
       "36     41          Oregon          4244795          4256301          4240137\n",
       "37     42    Pennsylvania         12994440         13012059         12972008\n",
       "38     44    Rhode Island          1096345          1096985          1093734\n",
       "39     45  South Carolina          5131848          5193266          5282634\n",
       "40     46    South Dakota           887799           896164           909824\n",
       "41     47       Tennessee          6925619          6968351          7051339\n",
       "42     48           Texas         29232474         29558864         30029572\n",
       "43     49            Utah          3283785          3339113          3380800\n",
       "44     50         Vermont           642893           646972           647064\n",
       "45     51        Virginia          8636471          8657365          8683619\n",
       "46     53      Washington          7724031          7740745          7785786\n",
       "47     54   West Virginia          1791420          1785526          1775156\n",
       "48     55       Wisconsin          5896271          5880101          5892539\n",
       "49     56         Wyoming           577605           579483           581381"
      ]
     },
     "execution_count": 103,
     "metadata": {},
     "output_type": "execute_result"
    }
   ],
   "source": [
    "#retirar regiões com código 0\n",
    "population_df = population_df[population_df[\"STATE\"] != 0].reset_index(drop=True)\n",
    "\n",
    "#retirar \"District of Columbia\" e \"Puerto Rico\"\n",
    "population_df.drop(index=[8, 51], axis=0).reset_index(drop=True)"
   ]
  },
  {
   "cell_type": "code",
   "execution_count": 104,
   "metadata": {},
   "outputs": [],
   "source": [
    "#Dicionário de abreviaturas por estado\n",
    "us_states = {\n",
    "    'Alabama': 'AL', 'Alaska': 'AK', 'Arizona': 'AZ', 'Arkansas': 'AR', 'California': 'CA',\n",
    "    'Colorado': 'CO', 'Connecticut': 'CT', 'Delaware': 'DE', 'Florida': 'FL', 'Georgia': 'GA',\n",
    "    'Hawaii': 'HI', 'Idaho': 'ID', 'Illinois': 'IL', 'Indiana': 'IN', 'Iowa': 'IA',\n",
    "    'Kansas': 'KS', 'Kentucky': 'KY', 'Louisiana': 'LA', 'Maine': 'ME', 'Maryland': 'MD',\n",
    "    'Massachusetts': 'MA', 'Michigan': 'MI', 'Minnesota': 'MN', 'Mississippi': 'MS',\n",
    "    'Missouri': 'MO', 'Montana': 'MT', 'Nebraska': 'NE', 'Nevada': 'NV', 'New Hampshire': 'NH',\n",
    "    'New Jersey': 'NJ', 'New Mexico': 'NM', 'New York': 'NY', 'North Carolina': 'NC',\n",
    "    'North Dakota': 'ND', 'Ohio': 'OH', 'Oklahoma': 'OK', 'Oregon': 'OR', 'Pennsylvania': 'PA',\n",
    "    'Rhode Island': 'RI', 'South Carolina': 'SC', 'South Dakota': 'SD', 'Tennessee': 'TN',\n",
    "    'Texas': 'TX', 'Utah': 'UT', 'Vermont': 'VT', 'Virginia': 'VA', 'Washington': 'WA',\n",
    "    'West Virginia': 'WV', 'Wisconsin': 'WI', 'Wyoming': 'WY'\n",
    "}\n",
    "\n",
    "#converter os nomes dos estados nas abreviaturas correspondentes\n",
    "population_df[\"NAME\"] = population_df[\"NAME\"].map(us_states)"
   ]
  },
  {
   "cell_type": "code",
   "execution_count": 105,
   "metadata": {},
   "outputs": [],
   "source": [
    "#retirar null values\n",
    "population_df = population_df.dropna().reset_index(drop=True)"
   ]
  },
  {
   "cell_type": "code",
   "execution_count": 106,
   "metadata": {},
   "outputs": [
    {
     "data": {
      "text/html": [
       "<div>\n",
       "<style scoped>\n",
       "    .dataframe tbody tr th:only-of-type {\n",
       "        vertical-align: middle;\n",
       "    }\n",
       "\n",
       "    .dataframe tbody tr th {\n",
       "        vertical-align: top;\n",
       "    }\n",
       "\n",
       "    .dataframe thead th {\n",
       "        text-align: right;\n",
       "    }\n",
       "</style>\n",
       "<table border=\"1\" class=\"dataframe\">\n",
       "  <thead>\n",
       "    <tr style=\"text-align: right;\">\n",
       "      <th></th>\n",
       "      <th>STATE</th>\n",
       "      <th>NAME</th>\n",
       "      <th>POPESTIMATE2020</th>\n",
       "      <th>POPESTIMATE2021</th>\n",
       "      <th>POPESTIMATE2022</th>\n",
       "    </tr>\n",
       "  </thead>\n",
       "  <tbody>\n",
       "    <tr>\n",
       "      <th>0</th>\n",
       "      <td>1</td>\n",
       "      <td>AL</td>\n",
       "      <td>5031362</td>\n",
       "      <td>5049846</td>\n",
       "      <td>5074296</td>\n",
       "    </tr>\n",
       "    <tr>\n",
       "      <th>1</th>\n",
       "      <td>2</td>\n",
       "      <td>AK</td>\n",
       "      <td>732923</td>\n",
       "      <td>734182</td>\n",
       "      <td>733583</td>\n",
       "    </tr>\n",
       "    <tr>\n",
       "      <th>2</th>\n",
       "      <td>4</td>\n",
       "      <td>AZ</td>\n",
       "      <td>7179943</td>\n",
       "      <td>7264877</td>\n",
       "      <td>7359197</td>\n",
       "    </tr>\n",
       "    <tr>\n",
       "      <th>3</th>\n",
       "      <td>5</td>\n",
       "      <td>AR</td>\n",
       "      <td>3014195</td>\n",
       "      <td>3028122</td>\n",
       "      <td>3045637</td>\n",
       "    </tr>\n",
       "    <tr>\n",
       "      <th>4</th>\n",
       "      <td>6</td>\n",
       "      <td>CA</td>\n",
       "      <td>39501653</td>\n",
       "      <td>39142991</td>\n",
       "      <td>39029342</td>\n",
       "    </tr>\n",
       "    <tr>\n",
       "      <th>5</th>\n",
       "      <td>8</td>\n",
       "      <td>CO</td>\n",
       "      <td>5784865</td>\n",
       "      <td>5811297</td>\n",
       "      <td>5839926</td>\n",
       "    </tr>\n",
       "    <tr>\n",
       "      <th>6</th>\n",
       "      <td>9</td>\n",
       "      <td>CT</td>\n",
       "      <td>3597362</td>\n",
       "      <td>3623355</td>\n",
       "      <td>3626205</td>\n",
       "    </tr>\n",
       "    <tr>\n",
       "      <th>7</th>\n",
       "      <td>10</td>\n",
       "      <td>DE</td>\n",
       "      <td>992114</td>\n",
       "      <td>1004807</td>\n",
       "      <td>1018396</td>\n",
       "    </tr>\n",
       "    <tr>\n",
       "      <th>8</th>\n",
       "      <td>12</td>\n",
       "      <td>FL</td>\n",
       "      <td>21589602</td>\n",
       "      <td>21828069</td>\n",
       "      <td>22244823</td>\n",
       "    </tr>\n",
       "    <tr>\n",
       "      <th>9</th>\n",
       "      <td>13</td>\n",
       "      <td>GA</td>\n",
       "      <td>10729828</td>\n",
       "      <td>10788029</td>\n",
       "      <td>10912876</td>\n",
       "    </tr>\n",
       "  </tbody>\n",
       "</table>\n",
       "</div>"
      ],
      "text/plain": [
       "   STATE NAME  POPESTIMATE2020  POPESTIMATE2021  POPESTIMATE2022\n",
       "0      1   AL          5031362          5049846          5074296\n",
       "1      2   AK           732923           734182           733583\n",
       "2      4   AZ          7179943          7264877          7359197\n",
       "3      5   AR          3014195          3028122          3045637\n",
       "4      6   CA         39501653         39142991         39029342\n",
       "5      8   CO          5784865          5811297          5839926\n",
       "6      9   CT          3597362          3623355          3626205\n",
       "7     10   DE           992114          1004807          1018396\n",
       "8     12   FL         21589602         21828069         22244823\n",
       "9     13   GA         10729828         10788029         10912876"
      ]
     },
     "execution_count": 106,
     "metadata": {},
     "output_type": "execute_result"
    }
   ],
   "source": [
    "population_df.head(10)"
   ]
  },
  {
   "cell_type": "code",
   "execution_count": 107,
   "metadata": {},
   "outputs": [],
   "source": [
    "#dar \"unpivot\" da dataframe para obter correspondências Estado-Ano-População\n",
    "population_df = population_df.melt(id_vars=['NAME'], \n",
    "                           value_vars=['POPESTIMATE2020', 'POPESTIMATE2021', 'POPESTIMATE2022'],\n",
    "                           var_name='year', \n",
    "                           value_name='population')"
   ]
  },
  {
   "cell_type": "code",
   "execution_count": 108,
   "metadata": {},
   "outputs": [
    {
     "data": {
      "text/html": [
       "<div>\n",
       "<style scoped>\n",
       "    .dataframe tbody tr th:only-of-type {\n",
       "        vertical-align: middle;\n",
       "    }\n",
       "\n",
       "    .dataframe tbody tr th {\n",
       "        vertical-align: top;\n",
       "    }\n",
       "\n",
       "    .dataframe thead th {\n",
       "        text-align: right;\n",
       "    }\n",
       "</style>\n",
       "<table border=\"1\" class=\"dataframe\">\n",
       "  <thead>\n",
       "    <tr style=\"text-align: right;\">\n",
       "      <th></th>\n",
       "      <th>NAME</th>\n",
       "      <th>year</th>\n",
       "      <th>population</th>\n",
       "    </tr>\n",
       "  </thead>\n",
       "  <tbody>\n",
       "    <tr>\n",
       "      <th>0</th>\n",
       "      <td>AK</td>\n",
       "      <td>POPESTIMATE2020</td>\n",
       "      <td>732923</td>\n",
       "    </tr>\n",
       "    <tr>\n",
       "      <th>1</th>\n",
       "      <td>AK</td>\n",
       "      <td>POPESTIMATE2021</td>\n",
       "      <td>734182</td>\n",
       "    </tr>\n",
       "    <tr>\n",
       "      <th>2</th>\n",
       "      <td>AK</td>\n",
       "      <td>POPESTIMATE2022</td>\n",
       "      <td>733583</td>\n",
       "    </tr>\n",
       "    <tr>\n",
       "      <th>3</th>\n",
       "      <td>AL</td>\n",
       "      <td>POPESTIMATE2020</td>\n",
       "      <td>5031362</td>\n",
       "    </tr>\n",
       "    <tr>\n",
       "      <th>4</th>\n",
       "      <td>AL</td>\n",
       "      <td>POPESTIMATE2021</td>\n",
       "      <td>5049846</td>\n",
       "    </tr>\n",
       "    <tr>\n",
       "      <th>...</th>\n",
       "      <td>...</td>\n",
       "      <td>...</td>\n",
       "      <td>...</td>\n",
       "    </tr>\n",
       "    <tr>\n",
       "      <th>145</th>\n",
       "      <td>WV</td>\n",
       "      <td>POPESTIMATE2021</td>\n",
       "      <td>1785526</td>\n",
       "    </tr>\n",
       "    <tr>\n",
       "      <th>146</th>\n",
       "      <td>WV</td>\n",
       "      <td>POPESTIMATE2022</td>\n",
       "      <td>1775156</td>\n",
       "    </tr>\n",
       "    <tr>\n",
       "      <th>147</th>\n",
       "      <td>WY</td>\n",
       "      <td>POPESTIMATE2020</td>\n",
       "      <td>577605</td>\n",
       "    </tr>\n",
       "    <tr>\n",
       "      <th>148</th>\n",
       "      <td>WY</td>\n",
       "      <td>POPESTIMATE2021</td>\n",
       "      <td>579483</td>\n",
       "    </tr>\n",
       "    <tr>\n",
       "      <th>149</th>\n",
       "      <td>WY</td>\n",
       "      <td>POPESTIMATE2022</td>\n",
       "      <td>581381</td>\n",
       "    </tr>\n",
       "  </tbody>\n",
       "</table>\n",
       "<p>150 rows × 3 columns</p>\n",
       "</div>"
      ],
      "text/plain": [
       "    NAME             year  population\n",
       "0     AK  POPESTIMATE2020      732923\n",
       "1     AK  POPESTIMATE2021      734182\n",
       "2     AK  POPESTIMATE2022      733583\n",
       "3     AL  POPESTIMATE2020     5031362\n",
       "4     AL  POPESTIMATE2021     5049846\n",
       "..   ...              ...         ...\n",
       "145   WV  POPESTIMATE2021     1785526\n",
       "146   WV  POPESTIMATE2022     1775156\n",
       "147   WY  POPESTIMATE2020      577605\n",
       "148   WY  POPESTIMATE2021      579483\n",
       "149   WY  POPESTIMATE2022      581381\n",
       "\n",
       "[150 rows x 3 columns]"
      ]
     },
     "execution_count": 108,
     "metadata": {},
     "output_type": "execute_result"
    }
   ],
   "source": [
    "#organizar dataframe por nome e ano, respetivamente\n",
    "population_df = population_df.sort_values(by=[\"NAME\", \"year\"]).reset_index(drop=True)\n",
    "\n",
    "population_df"
   ]
  },
  {
   "cell_type": "code",
   "execution_count": 109,
   "metadata": {},
   "outputs": [
    {
     "name": "stderr",
     "output_type": "stream",
     "text": [
      "C:\\Users\\joaop\\AppData\\Local\\Temp\\ipykernel_10648\\3992699902.py:2: FutureWarning:\n",
      "\n",
      "Downcasting behavior in `replace` is deprecated and will be removed in a future version. To retain the old behavior, explicitly call `result.infer_objects(copy=False)`. To opt-in to the future behavior, set `pd.set_option('future.no_silent_downcasting', True)`\n",
      "\n"
     ]
    },
    {
     "data": {
      "text/html": [
       "<div>\n",
       "<style scoped>\n",
       "    .dataframe tbody tr th:only-of-type {\n",
       "        vertical-align: middle;\n",
       "    }\n",
       "\n",
       "    .dataframe tbody tr th {\n",
       "        vertical-align: top;\n",
       "    }\n",
       "\n",
       "    .dataframe thead th {\n",
       "        text-align: right;\n",
       "    }\n",
       "</style>\n",
       "<table border=\"1\" class=\"dataframe\">\n",
       "  <thead>\n",
       "    <tr style=\"text-align: right;\">\n",
       "      <th></th>\n",
       "      <th>NAME</th>\n",
       "      <th>year</th>\n",
       "      <th>population</th>\n",
       "    </tr>\n",
       "  </thead>\n",
       "  <tbody>\n",
       "    <tr>\n",
       "      <th>0</th>\n",
       "      <td>AK</td>\n",
       "      <td>2020</td>\n",
       "      <td>732923</td>\n",
       "    </tr>\n",
       "    <tr>\n",
       "      <th>1</th>\n",
       "      <td>AK</td>\n",
       "      <td>2021</td>\n",
       "      <td>734182</td>\n",
       "    </tr>\n",
       "    <tr>\n",
       "      <th>2</th>\n",
       "      <td>AK</td>\n",
       "      <td>2022</td>\n",
       "      <td>733583</td>\n",
       "    </tr>\n",
       "    <tr>\n",
       "      <th>3</th>\n",
       "      <td>AL</td>\n",
       "      <td>2020</td>\n",
       "      <td>5031362</td>\n",
       "    </tr>\n",
       "    <tr>\n",
       "      <th>4</th>\n",
       "      <td>AL</td>\n",
       "      <td>2021</td>\n",
       "      <td>5049846</td>\n",
       "    </tr>\n",
       "    <tr>\n",
       "      <th>...</th>\n",
       "      <td>...</td>\n",
       "      <td>...</td>\n",
       "      <td>...</td>\n",
       "    </tr>\n",
       "    <tr>\n",
       "      <th>145</th>\n",
       "      <td>WV</td>\n",
       "      <td>2021</td>\n",
       "      <td>1785526</td>\n",
       "    </tr>\n",
       "    <tr>\n",
       "      <th>146</th>\n",
       "      <td>WV</td>\n",
       "      <td>2022</td>\n",
       "      <td>1775156</td>\n",
       "    </tr>\n",
       "    <tr>\n",
       "      <th>147</th>\n",
       "      <td>WY</td>\n",
       "      <td>2020</td>\n",
       "      <td>577605</td>\n",
       "    </tr>\n",
       "    <tr>\n",
       "      <th>148</th>\n",
       "      <td>WY</td>\n",
       "      <td>2021</td>\n",
       "      <td>579483</td>\n",
       "    </tr>\n",
       "    <tr>\n",
       "      <th>149</th>\n",
       "      <td>WY</td>\n",
       "      <td>2022</td>\n",
       "      <td>581381</td>\n",
       "    </tr>\n",
       "  </tbody>\n",
       "</table>\n",
       "<p>150 rows × 3 columns</p>\n",
       "</div>"
      ],
      "text/plain": [
       "    NAME  year  population\n",
       "0     AK  2020      732923\n",
       "1     AK  2021      734182\n",
       "2     AK  2022      733583\n",
       "3     AL  2020     5031362\n",
       "4     AL  2021     5049846\n",
       "..   ...   ...         ...\n",
       "145   WV  2021     1785526\n",
       "146   WV  2022     1775156\n",
       "147   WY  2020      577605\n",
       "148   WY  2021      579483\n",
       "149   WY  2022      581381\n",
       "\n",
       "[150 rows x 3 columns]"
      ]
     },
     "execution_count": 109,
     "metadata": {},
     "output_type": "execute_result"
    }
   ],
   "source": [
    "#converter \"POPESTIMATES\" nos respetivos anos\n",
    "population_df[\"year\"] = population_df[\"year\"].replace([\"POPESTIMATE2020\",\n",
    "                                                       \"POPESTIMATE2021\",\n",
    "                                                       \"POPESTIMATE2022\"],\n",
    "                                                       [2020, 2021, 2022])\n",
    "\n",
    "population_df"
   ]
  },
  {
   "cell_type": "code",
   "execution_count": 110,
   "metadata": {},
   "outputs": [
    {
     "data": {
      "text/html": [
       "<div>\n",
       "<style scoped>\n",
       "    .dataframe tbody tr th:only-of-type {\n",
       "        vertical-align: middle;\n",
       "    }\n",
       "\n",
       "    .dataframe tbody tr th {\n",
       "        vertical-align: top;\n",
       "    }\n",
       "\n",
       "    .dataframe thead th {\n",
       "        text-align: right;\n",
       "    }\n",
       "</style>\n",
       "<table border=\"1\" class=\"dataframe\">\n",
       "  <thead>\n",
       "    <tr style=\"text-align: right;\">\n",
       "      <th></th>\n",
       "      <th>state</th>\n",
       "      <th>year</th>\n",
       "      <th>population</th>\n",
       "    </tr>\n",
       "  </thead>\n",
       "  <tbody>\n",
       "    <tr>\n",
       "      <th>0</th>\n",
       "      <td>AK</td>\n",
       "      <td>2020</td>\n",
       "      <td>732923</td>\n",
       "    </tr>\n",
       "    <tr>\n",
       "      <th>1</th>\n",
       "      <td>AK</td>\n",
       "      <td>2021</td>\n",
       "      <td>734182</td>\n",
       "    </tr>\n",
       "    <tr>\n",
       "      <th>2</th>\n",
       "      <td>AK</td>\n",
       "      <td>2022</td>\n",
       "      <td>733583</td>\n",
       "    </tr>\n",
       "    <tr>\n",
       "      <th>3</th>\n",
       "      <td>AL</td>\n",
       "      <td>2020</td>\n",
       "      <td>5031362</td>\n",
       "    </tr>\n",
       "    <tr>\n",
       "      <th>4</th>\n",
       "      <td>AL</td>\n",
       "      <td>2021</td>\n",
       "      <td>5049846</td>\n",
       "    </tr>\n",
       "    <tr>\n",
       "      <th>...</th>\n",
       "      <td>...</td>\n",
       "      <td>...</td>\n",
       "      <td>...</td>\n",
       "    </tr>\n",
       "    <tr>\n",
       "      <th>145</th>\n",
       "      <td>WV</td>\n",
       "      <td>2021</td>\n",
       "      <td>1785526</td>\n",
       "    </tr>\n",
       "    <tr>\n",
       "      <th>146</th>\n",
       "      <td>WV</td>\n",
       "      <td>2022</td>\n",
       "      <td>1775156</td>\n",
       "    </tr>\n",
       "    <tr>\n",
       "      <th>147</th>\n",
       "      <td>WY</td>\n",
       "      <td>2020</td>\n",
       "      <td>577605</td>\n",
       "    </tr>\n",
       "    <tr>\n",
       "      <th>148</th>\n",
       "      <td>WY</td>\n",
       "      <td>2021</td>\n",
       "      <td>579483</td>\n",
       "    </tr>\n",
       "    <tr>\n",
       "      <th>149</th>\n",
       "      <td>WY</td>\n",
       "      <td>2022</td>\n",
       "      <td>581381</td>\n",
       "    </tr>\n",
       "  </tbody>\n",
       "</table>\n",
       "<p>150 rows × 3 columns</p>\n",
       "</div>"
      ],
      "text/plain": [
       "    state  year  population\n",
       "0      AK  2020      732923\n",
       "1      AK  2021      734182\n",
       "2      AK  2022      733583\n",
       "3      AL  2020     5031362\n",
       "4      AL  2021     5049846\n",
       "..    ...   ...         ...\n",
       "145    WV  2021     1785526\n",
       "146    WV  2022     1775156\n",
       "147    WY  2020      577605\n",
       "148    WY  2021      579483\n",
       "149    WY  2022      581381\n",
       "\n",
       "[150 rows x 3 columns]"
      ]
     },
     "execution_count": 110,
     "metadata": {},
     "output_type": "execute_result"
    }
   ],
   "source": [
    "#alterar o nome da coluna \"NAME\" para \"state\"\n",
    "population_df = population_df.rename(columns={\"NAME\": \"state\"})\n",
    "\n",
    "population_df"
   ]
  },
  {
   "cell_type": "code",
   "execution_count": 111,
   "metadata": {},
   "outputs": [
    {
     "data": {
      "text/html": [
       "<div>\n",
       "<style scoped>\n",
       "    .dataframe tbody tr th:only-of-type {\n",
       "        vertical-align: middle;\n",
       "    }\n",
       "\n",
       "    .dataframe tbody tr th {\n",
       "        vertical-align: top;\n",
       "    }\n",
       "\n",
       "    .dataframe thead th {\n",
       "        text-align: right;\n",
       "    }\n",
       "</style>\n",
       "<table border=\"1\" class=\"dataframe\">\n",
       "  <thead>\n",
       "    <tr style=\"text-align: right;\">\n",
       "      <th></th>\n",
       "      <th>date</th>\n",
       "      <th>state</th>\n",
       "      <th>fips</th>\n",
       "      <th>cases</th>\n",
       "      <th>deaths</th>\n",
       "    </tr>\n",
       "  </thead>\n",
       "  <tbody>\n",
       "    <tr>\n",
       "      <th>0</th>\n",
       "      <td>2020-01-21</td>\n",
       "      <td>Washington</td>\n",
       "      <td>53</td>\n",
       "      <td>1</td>\n",
       "      <td>0</td>\n",
       "    </tr>\n",
       "    <tr>\n",
       "      <th>1</th>\n",
       "      <td>2020-01-22</td>\n",
       "      <td>Washington</td>\n",
       "      <td>53</td>\n",
       "      <td>1</td>\n",
       "      <td>0</td>\n",
       "    </tr>\n",
       "    <tr>\n",
       "      <th>2</th>\n",
       "      <td>2020-01-23</td>\n",
       "      <td>Washington</td>\n",
       "      <td>53</td>\n",
       "      <td>1</td>\n",
       "      <td>0</td>\n",
       "    </tr>\n",
       "    <tr>\n",
       "      <th>3</th>\n",
       "      <td>2020-01-24</td>\n",
       "      <td>Illinois</td>\n",
       "      <td>17</td>\n",
       "      <td>1</td>\n",
       "      <td>0</td>\n",
       "    </tr>\n",
       "    <tr>\n",
       "      <th>4</th>\n",
       "      <td>2020-01-24</td>\n",
       "      <td>Washington</td>\n",
       "      <td>53</td>\n",
       "      <td>1</td>\n",
       "      <td>0</td>\n",
       "    </tr>\n",
       "    <tr>\n",
       "      <th>...</th>\n",
       "      <td>...</td>\n",
       "      <td>...</td>\n",
       "      <td>...</td>\n",
       "      <td>...</td>\n",
       "      <td>...</td>\n",
       "    </tr>\n",
       "    <tr>\n",
       "      <th>57345</th>\n",
       "      <td>2022-12-31</td>\n",
       "      <td>Virginia</td>\n",
       "      <td>51</td>\n",
       "      <td>2205518</td>\n",
       "      <td>22793</td>\n",
       "    </tr>\n",
       "    <tr>\n",
       "      <th>57346</th>\n",
       "      <td>2022-12-31</td>\n",
       "      <td>Washington</td>\n",
       "      <td>53</td>\n",
       "      <td>1883676</td>\n",
       "      <td>15067</td>\n",
       "    </tr>\n",
       "    <tr>\n",
       "      <th>57347</th>\n",
       "      <td>2022-12-31</td>\n",
       "      <td>West Virginia</td>\n",
       "      <td>54</td>\n",
       "      <td>624721</td>\n",
       "      <td>7795</td>\n",
       "    </tr>\n",
       "    <tr>\n",
       "      <th>57348</th>\n",
       "      <td>2022-12-31</td>\n",
       "      <td>Wisconsin</td>\n",
       "      <td>55</td>\n",
       "      <td>1960884</td>\n",
       "      <td>15860</td>\n",
       "    </tr>\n",
       "    <tr>\n",
       "      <th>57349</th>\n",
       "      <td>2022-12-31</td>\n",
       "      <td>Wyoming</td>\n",
       "      <td>56</td>\n",
       "      <td>182847</td>\n",
       "      <td>1959</td>\n",
       "    </tr>\n",
       "  </tbody>\n",
       "</table>\n",
       "<p>57350 rows × 5 columns</p>\n",
       "</div>"
      ],
      "text/plain": [
       "            date          state  fips    cases  deaths\n",
       "0     2020-01-21     Washington    53        1       0\n",
       "1     2020-01-22     Washington    53        1       0\n",
       "2     2020-01-23     Washington    53        1       0\n",
       "3     2020-01-24       Illinois    17        1       0\n",
       "4     2020-01-24     Washington    53        1       0\n",
       "...          ...            ...   ...      ...     ...\n",
       "57345 2022-12-31       Virginia    51  2205518   22793\n",
       "57346 2022-12-31     Washington    53  1883676   15067\n",
       "57347 2022-12-31  West Virginia    54   624721    7795\n",
       "57348 2022-12-31      Wisconsin    55  1960884   15860\n",
       "57349 2022-12-31        Wyoming    56   182847    1959\n",
       "\n",
       "[57350 rows x 5 columns]"
      ]
     },
     "execution_count": 111,
     "metadata": {},
     "output_type": "execute_result"
    }
   ],
   "source": [
    "#converter a coluna de datas na covid dataframe em datetime object\n",
    "covid_df['date'] = pd.to_datetime(covid_df['date'])\n",
    "\n",
    "#Remover resultados relativos a 2023\n",
    "covid_df = covid_df[covid_df['date'].dt.year != 2023]\n",
    "covid_df"
   ]
  },
  {
   "cell_type": "code",
   "execution_count": 112,
   "metadata": {},
   "outputs": [
    {
     "name": "stdout",
     "output_type": "stream",
     "text": [
      "date      0\n",
      "state     0\n",
      "fips      0\n",
      "cases     0\n",
      "deaths    0\n",
      "dtype: int64\n",
      "False\n"
     ]
    }
   ],
   "source": [
    "#Verificar se existem valores nulos ou inexistentes\n",
    "print(covid_df.isnull().sum())\n",
    "print(covid_df.isnull().values.any())"
   ]
  },
  {
   "cell_type": "code",
   "execution_count": 113,
   "metadata": {},
   "outputs": [
    {
     "data": {
      "text/html": [
       "<div>\n",
       "<style scoped>\n",
       "    .dataframe tbody tr th:only-of-type {\n",
       "        vertical-align: middle;\n",
       "    }\n",
       "\n",
       "    .dataframe tbody tr th {\n",
       "        vertical-align: top;\n",
       "    }\n",
       "\n",
       "    .dataframe thead th {\n",
       "        text-align: right;\n",
       "    }\n",
       "</style>\n",
       "<table border=\"1\" class=\"dataframe\">\n",
       "  <thead>\n",
       "    <tr style=\"text-align: right;\">\n",
       "      <th></th>\n",
       "      <th>date</th>\n",
       "      <th>state</th>\n",
       "      <th>fips</th>\n",
       "      <th>cases</th>\n",
       "      <th>deaths</th>\n",
       "      <th>year</th>\n",
       "    </tr>\n",
       "  </thead>\n",
       "  <tbody>\n",
       "    <tr>\n",
       "      <th>0</th>\n",
       "      <td>2020-01-21</td>\n",
       "      <td>Washington</td>\n",
       "      <td>53</td>\n",
       "      <td>1</td>\n",
       "      <td>0</td>\n",
       "      <td>2020</td>\n",
       "    </tr>\n",
       "    <tr>\n",
       "      <th>1</th>\n",
       "      <td>2020-01-22</td>\n",
       "      <td>Washington</td>\n",
       "      <td>53</td>\n",
       "      <td>1</td>\n",
       "      <td>0</td>\n",
       "      <td>2020</td>\n",
       "    </tr>\n",
       "    <tr>\n",
       "      <th>2</th>\n",
       "      <td>2020-01-23</td>\n",
       "      <td>Washington</td>\n",
       "      <td>53</td>\n",
       "      <td>1</td>\n",
       "      <td>0</td>\n",
       "      <td>2020</td>\n",
       "    </tr>\n",
       "    <tr>\n",
       "      <th>3</th>\n",
       "      <td>2020-01-24</td>\n",
       "      <td>Illinois</td>\n",
       "      <td>17</td>\n",
       "      <td>1</td>\n",
       "      <td>0</td>\n",
       "      <td>2020</td>\n",
       "    </tr>\n",
       "    <tr>\n",
       "      <th>4</th>\n",
       "      <td>2020-01-24</td>\n",
       "      <td>Washington</td>\n",
       "      <td>53</td>\n",
       "      <td>1</td>\n",
       "      <td>0</td>\n",
       "      <td>2020</td>\n",
       "    </tr>\n",
       "    <tr>\n",
       "      <th>5</th>\n",
       "      <td>2020-01-25</td>\n",
       "      <td>California</td>\n",
       "      <td>6</td>\n",
       "      <td>1</td>\n",
       "      <td>0</td>\n",
       "      <td>2020</td>\n",
       "    </tr>\n",
       "    <tr>\n",
       "      <th>6</th>\n",
       "      <td>2020-01-25</td>\n",
       "      <td>Illinois</td>\n",
       "      <td>17</td>\n",
       "      <td>1</td>\n",
       "      <td>0</td>\n",
       "      <td>2020</td>\n",
       "    </tr>\n",
       "    <tr>\n",
       "      <th>7</th>\n",
       "      <td>2020-01-25</td>\n",
       "      <td>Washington</td>\n",
       "      <td>53</td>\n",
       "      <td>1</td>\n",
       "      <td>0</td>\n",
       "      <td>2020</td>\n",
       "    </tr>\n",
       "    <tr>\n",
       "      <th>8</th>\n",
       "      <td>2020-01-26</td>\n",
       "      <td>Arizona</td>\n",
       "      <td>4</td>\n",
       "      <td>1</td>\n",
       "      <td>0</td>\n",
       "      <td>2020</td>\n",
       "    </tr>\n",
       "    <tr>\n",
       "      <th>9</th>\n",
       "      <td>2020-01-26</td>\n",
       "      <td>California</td>\n",
       "      <td>6</td>\n",
       "      <td>2</td>\n",
       "      <td>0</td>\n",
       "      <td>2020</td>\n",
       "    </tr>\n",
       "  </tbody>\n",
       "</table>\n",
       "</div>"
      ],
      "text/plain": [
       "        date       state  fips  cases  deaths  year\n",
       "0 2020-01-21  Washington    53      1       0  2020\n",
       "1 2020-01-22  Washington    53      1       0  2020\n",
       "2 2020-01-23  Washington    53      1       0  2020\n",
       "3 2020-01-24    Illinois    17      1       0  2020\n",
       "4 2020-01-24  Washington    53      1       0  2020\n",
       "5 2020-01-25  California     6      1       0  2020\n",
       "6 2020-01-25    Illinois    17      1       0  2020\n",
       "7 2020-01-25  Washington    53      1       0  2020\n",
       "8 2020-01-26     Arizona     4      1       0  2020\n",
       "9 2020-01-26  California     6      2       0  2020"
      ]
     },
     "execution_count": 113,
     "metadata": {},
     "output_type": "execute_result"
    }
   ],
   "source": [
    "#Extrair o ano de cada uma das datas\n",
    "covid_df['year'] = covid_df['date'].dt.year\n",
    "\n",
    "covid_df.head(10)"
   ]
  },
  {
   "cell_type": "code",
   "execution_count": 114,
   "metadata": {},
   "outputs": [
    {
     "data": {
      "text/html": [
       "<div>\n",
       "<style scoped>\n",
       "    .dataframe tbody tr th:only-of-type {\n",
       "        vertical-align: middle;\n",
       "    }\n",
       "\n",
       "    .dataframe tbody tr th {\n",
       "        vertical-align: top;\n",
       "    }\n",
       "\n",
       "    .dataframe thead th {\n",
       "        text-align: right;\n",
       "    }\n",
       "</style>\n",
       "<table border=\"1\" class=\"dataframe\">\n",
       "  <thead>\n",
       "    <tr style=\"text-align: right;\">\n",
       "      <th></th>\n",
       "      <th>date</th>\n",
       "      <th>state</th>\n",
       "      <th>fips</th>\n",
       "      <th>cases</th>\n",
       "      <th>deaths</th>\n",
       "      <th>year</th>\n",
       "    </tr>\n",
       "  </thead>\n",
       "  <tbody>\n",
       "    <tr>\n",
       "      <th>586</th>\n",
       "      <td>2020-03-13</td>\n",
       "      <td>Alabama</td>\n",
       "      <td>1</td>\n",
       "      <td>6</td>\n",
       "      <td>0</td>\n",
       "      <td>2020</td>\n",
       "    </tr>\n",
       "    <tr>\n",
       "      <th>637</th>\n",
       "      <td>2020-03-14</td>\n",
       "      <td>Alabama</td>\n",
       "      <td>1</td>\n",
       "      <td>12</td>\n",
       "      <td>0</td>\n",
       "      <td>2020</td>\n",
       "    </tr>\n",
       "    <tr>\n",
       "      <th>689</th>\n",
       "      <td>2020-03-15</td>\n",
       "      <td>Alabama</td>\n",
       "      <td>1</td>\n",
       "      <td>23</td>\n",
       "      <td>0</td>\n",
       "      <td>2020</td>\n",
       "    </tr>\n",
       "    <tr>\n",
       "      <th>742</th>\n",
       "      <td>2020-03-16</td>\n",
       "      <td>Alabama</td>\n",
       "      <td>1</td>\n",
       "      <td>29</td>\n",
       "      <td>0</td>\n",
       "      <td>2020</td>\n",
       "    </tr>\n",
       "    <tr>\n",
       "      <th>795</th>\n",
       "      <td>2020-03-17</td>\n",
       "      <td>Alabama</td>\n",
       "      <td>1</td>\n",
       "      <td>39</td>\n",
       "      <td>0</td>\n",
       "      <td>2020</td>\n",
       "    </tr>\n",
       "    <tr>\n",
       "      <th>...</th>\n",
       "      <td>...</td>\n",
       "      <td>...</td>\n",
       "      <td>...</td>\n",
       "      <td>...</td>\n",
       "      <td>...</td>\n",
       "      <td>...</td>\n",
       "    </tr>\n",
       "    <tr>\n",
       "      <th>57125</th>\n",
       "      <td>2022-12-27</td>\n",
       "      <td>Wyoming</td>\n",
       "      <td>56</td>\n",
       "      <td>182847</td>\n",
       "      <td>1959</td>\n",
       "      <td>2022</td>\n",
       "    </tr>\n",
       "    <tr>\n",
       "      <th>57181</th>\n",
       "      <td>2022-12-28</td>\n",
       "      <td>Wyoming</td>\n",
       "      <td>56</td>\n",
       "      <td>182847</td>\n",
       "      <td>1959</td>\n",
       "      <td>2022</td>\n",
       "    </tr>\n",
       "    <tr>\n",
       "      <th>57237</th>\n",
       "      <td>2022-12-29</td>\n",
       "      <td>Wyoming</td>\n",
       "      <td>56</td>\n",
       "      <td>182847</td>\n",
       "      <td>1959</td>\n",
       "      <td>2022</td>\n",
       "    </tr>\n",
       "    <tr>\n",
       "      <th>57293</th>\n",
       "      <td>2022-12-30</td>\n",
       "      <td>Wyoming</td>\n",
       "      <td>56</td>\n",
       "      <td>182847</td>\n",
       "      <td>1959</td>\n",
       "      <td>2022</td>\n",
       "    </tr>\n",
       "    <tr>\n",
       "      <th>57349</th>\n",
       "      <td>2022-12-31</td>\n",
       "      <td>Wyoming</td>\n",
       "      <td>56</td>\n",
       "      <td>182847</td>\n",
       "      <td>1959</td>\n",
       "      <td>2022</td>\n",
       "    </tr>\n",
       "  </tbody>\n",
       "</table>\n",
       "<p>57350 rows × 6 columns</p>\n",
       "</div>"
      ],
      "text/plain": [
       "            date    state  fips   cases  deaths  year\n",
       "586   2020-03-13  Alabama     1       6       0  2020\n",
       "637   2020-03-14  Alabama     1      12       0  2020\n",
       "689   2020-03-15  Alabama     1      23       0  2020\n",
       "742   2020-03-16  Alabama     1      29       0  2020\n",
       "795   2020-03-17  Alabama     1      39       0  2020\n",
       "...          ...      ...   ...     ...     ...   ...\n",
       "57125 2022-12-27  Wyoming    56  182847    1959  2022\n",
       "57181 2022-12-28  Wyoming    56  182847    1959  2022\n",
       "57237 2022-12-29  Wyoming    56  182847    1959  2022\n",
       "57293 2022-12-30  Wyoming    56  182847    1959  2022\n",
       "57349 2022-12-31  Wyoming    56  182847    1959  2022\n",
       "\n",
       "[57350 rows x 6 columns]"
      ]
     },
     "execution_count": 114,
     "metadata": {},
     "output_type": "execute_result"
    }
   ],
   "source": [
    "#Ordenar a dataframe por estado e data\n",
    "sorted_df = covid_df.sort_values(by=['state', 'date'])\n",
    "\n",
    "sorted_df"
   ]
  },
  {
   "cell_type": "code",
   "execution_count": 115,
   "metadata": {},
   "outputs": [
    {
     "data": {
      "text/html": [
       "<div>\n",
       "<style scoped>\n",
       "    .dataframe tbody tr th:only-of-type {\n",
       "        vertical-align: middle;\n",
       "    }\n",
       "\n",
       "    .dataframe tbody tr th {\n",
       "        vertical-align: top;\n",
       "    }\n",
       "\n",
       "    .dataframe thead th {\n",
       "        text-align: right;\n",
       "    }\n",
       "</style>\n",
       "<table border=\"1\" class=\"dataframe\">\n",
       "  <thead>\n",
       "    <tr style=\"text-align: right;\">\n",
       "      <th></th>\n",
       "      <th>state</th>\n",
       "      <th>year</th>\n",
       "      <th>new_cases</th>\n",
       "      <th>new_deaths</th>\n",
       "    </tr>\n",
       "  </thead>\n",
       "  <tbody>\n",
       "    <tr>\n",
       "      <th>0</th>\n",
       "      <td>Alabama</td>\n",
       "      <td>2020</td>\n",
       "      <td>361220</td>\n",
       "      <td>4827</td>\n",
       "    </tr>\n",
       "    <tr>\n",
       "      <th>1</th>\n",
       "      <td>Alabama</td>\n",
       "      <td>2021</td>\n",
       "      <td>530867</td>\n",
       "      <td>11583</td>\n",
       "    </tr>\n",
       "    <tr>\n",
       "      <th>2</th>\n",
       "      <td>Alabama</td>\n",
       "      <td>2022</td>\n",
       "      <td>677023</td>\n",
       "      <td>4753</td>\n",
       "    </tr>\n",
       "    <tr>\n",
       "      <th>3</th>\n",
       "      <td>Alaska</td>\n",
       "      <td>2020</td>\n",
       "      <td>46739</td>\n",
       "      <td>198</td>\n",
       "    </tr>\n",
       "    <tr>\n",
       "      <th>4</th>\n",
       "      <td>Alaska</td>\n",
       "      <td>2021</td>\n",
       "      <td>109390</td>\n",
       "      <td>756</td>\n",
       "    </tr>\n",
       "    <tr>\n",
       "      <th>...</th>\n",
       "      <td>...</td>\n",
       "      <td>...</td>\n",
       "      <td>...</td>\n",
       "      <td>...</td>\n",
       "    </tr>\n",
       "    <tr>\n",
       "      <th>162</th>\n",
       "      <td>Wisconsin</td>\n",
       "      <td>2021</td>\n",
       "      <td>598146</td>\n",
       "      <td>5916</td>\n",
       "    </tr>\n",
       "    <tr>\n",
       "      <th>163</th>\n",
       "      <td>Wisconsin</td>\n",
       "      <td>2022</td>\n",
       "      <td>840215</td>\n",
       "      <td>4687</td>\n",
       "    </tr>\n",
       "    <tr>\n",
       "      <th>164</th>\n",
       "      <td>Wyoming</td>\n",
       "      <td>2020</td>\n",
       "      <td>44408</td>\n",
       "      <td>438</td>\n",
       "    </tr>\n",
       "    <tr>\n",
       "      <th>165</th>\n",
       "      <td>Wyoming</td>\n",
       "      <td>2021</td>\n",
       "      <td>71229</td>\n",
       "      <td>1088</td>\n",
       "    </tr>\n",
       "    <tr>\n",
       "      <th>166</th>\n",
       "      <td>Wyoming</td>\n",
       "      <td>2022</td>\n",
       "      <td>67209</td>\n",
       "      <td>433</td>\n",
       "    </tr>\n",
       "  </tbody>\n",
       "</table>\n",
       "<p>167 rows × 4 columns</p>\n",
       "</div>"
      ],
      "text/plain": [
       "         state  year  new_cases  new_deaths\n",
       "0      Alabama  2020     361220        4827\n",
       "1      Alabama  2021     530867       11583\n",
       "2      Alabama  2022     677023        4753\n",
       "3       Alaska  2020      46739         198\n",
       "4       Alaska  2021     109390         756\n",
       "..         ...   ...        ...         ...\n",
       "162  Wisconsin  2021     598146        5916\n",
       "163  Wisconsin  2022     840215        4687\n",
       "164    Wyoming  2020      44408         438\n",
       "165    Wyoming  2021      71229        1088\n",
       "166    Wyoming  2022      67209         433\n",
       "\n",
       "[167 rows x 4 columns]"
      ]
     },
     "execution_count": 115,
     "metadata": {},
     "output_type": "execute_result"
    }
   ],
   "source": [
    "#obter casos por ano por estado fazendo a diferença entre primeiros e ultimos valores do ano\n",
    "cases_per_year_state = sorted_df.groupby(by=['state', 'year']).agg(\n",
    "    new_cases=('cases', lambda x: x.iloc[-1] - x.iloc[0]),\n",
    "    new_deaths=('deaths', lambda x: x.iloc[-1] - x.iloc[0])\n",
    ").reset_index()\n",
    "\n",
    "cases_per_year_state"
   ]
  },
  {
   "cell_type": "code",
   "execution_count": 116,
   "metadata": {},
   "outputs": [],
   "source": [
    "#Dicionário de abreviaturas por estado\n",
    "us_states = {\n",
    "    'Alabama': 'AL', 'Alaska': 'AK', 'Arizona': 'AZ', 'Arkansas': 'AR', 'California': 'CA',\n",
    "    'Colorado': 'CO', 'Connecticut': 'CT', 'Delaware': 'DE', 'Florida': 'FL', 'Georgia': 'GA',\n",
    "    'Hawaii': 'HI', 'Idaho': 'ID', 'Illinois': 'IL', 'Indiana': 'IN', 'Iowa': 'IA',\n",
    "    'Kansas': 'KS', 'Kentucky': 'KY', 'Louisiana': 'LA', 'Maine': 'ME', 'Maryland': 'MD',\n",
    "    'Massachusetts': 'MA', 'Michigan': 'MI', 'Minnesota': 'MN', 'Mississippi': 'MS',\n",
    "    'Missouri': 'MO', 'Montana': 'MT', 'Nebraska': 'NE', 'Nevada': 'NV', 'New Hampshire': 'NH',\n",
    "    'New Jersey': 'NJ', 'New Mexico': 'NM', 'New York': 'NY', 'North Carolina': 'NC',\n",
    "    'North Dakota': 'ND', 'Ohio': 'OH', 'Oklahoma': 'OK', 'Oregon': 'OR', 'Pennsylvania': 'PA',\n",
    "    'Rhode Island': 'RI', 'South Carolina': 'SC', 'South Dakota': 'SD', 'Tennessee': 'TN',\n",
    "    'Texas': 'TX', 'Utah': 'UT', 'Vermont': 'VT', 'Virginia': 'VA', 'Washington': 'WA',\n",
    "    'West Virginia': 'WV', 'Wisconsin': 'WI', 'Wyoming': 'WY'\n",
    "}\n",
    "\n",
    "#Converte os nomes dos estados em abreviaturas\n",
    "cases_per_year_state['state'] = cases_per_year_state['state'].map(us_states)"
   ]
  },
  {
   "cell_type": "code",
   "execution_count": 117,
   "metadata": {},
   "outputs": [
    {
     "data": {
      "text/html": [
       "<div>\n",
       "<style scoped>\n",
       "    .dataframe tbody tr th:only-of-type {\n",
       "        vertical-align: middle;\n",
       "    }\n",
       "\n",
       "    .dataframe tbody tr th {\n",
       "        vertical-align: top;\n",
       "    }\n",
       "\n",
       "    .dataframe thead th {\n",
       "        text-align: right;\n",
       "    }\n",
       "</style>\n",
       "<table border=\"1\" class=\"dataframe\">\n",
       "  <thead>\n",
       "    <tr style=\"text-align: right;\">\n",
       "      <th></th>\n",
       "      <th>state</th>\n",
       "      <th>year</th>\n",
       "      <th>new_cases</th>\n",
       "      <th>new_deaths</th>\n",
       "    </tr>\n",
       "  </thead>\n",
       "  <tbody>\n",
       "    <tr>\n",
       "      <th>0</th>\n",
       "      <td>AL</td>\n",
       "      <td>2020</td>\n",
       "      <td>361220</td>\n",
       "      <td>4827</td>\n",
       "    </tr>\n",
       "    <tr>\n",
       "      <th>1</th>\n",
       "      <td>AL</td>\n",
       "      <td>2021</td>\n",
       "      <td>530867</td>\n",
       "      <td>11583</td>\n",
       "    </tr>\n",
       "    <tr>\n",
       "      <th>2</th>\n",
       "      <td>AL</td>\n",
       "      <td>2022</td>\n",
       "      <td>677023</td>\n",
       "      <td>4753</td>\n",
       "    </tr>\n",
       "    <tr>\n",
       "      <th>3</th>\n",
       "      <td>AK</td>\n",
       "      <td>2020</td>\n",
       "      <td>46739</td>\n",
       "      <td>198</td>\n",
       "    </tr>\n",
       "    <tr>\n",
       "      <th>4</th>\n",
       "      <td>AK</td>\n",
       "      <td>2021</td>\n",
       "      <td>109390</td>\n",
       "      <td>756</td>\n",
       "    </tr>\n",
       "    <tr>\n",
       "      <th>5</th>\n",
       "      <td>AK</td>\n",
       "      <td>2022</td>\n",
       "      <td>145644</td>\n",
       "      <td>454</td>\n",
       "    </tr>\n",
       "    <tr>\n",
       "      <th>6</th>\n",
       "      <td>NaN</td>\n",
       "      <td>2021</td>\n",
       "      <td>10</td>\n",
       "      <td>0</td>\n",
       "    </tr>\n",
       "    <tr>\n",
       "      <th>7</th>\n",
       "      <td>NaN</td>\n",
       "      <td>2022</td>\n",
       "      <td>8255</td>\n",
       "      <td>34</td>\n",
       "    </tr>\n",
       "    <tr>\n",
       "      <th>8</th>\n",
       "      <td>AZ</td>\n",
       "      <td>2020</td>\n",
       "      <td>523828</td>\n",
       "      <td>8879</td>\n",
       "    </tr>\n",
       "    <tr>\n",
       "      <th>9</th>\n",
       "      <td>AZ</td>\n",
       "      <td>2021</td>\n",
       "      <td>851221</td>\n",
       "      <td>15214</td>\n",
       "    </tr>\n",
       "  </tbody>\n",
       "</table>\n",
       "</div>"
      ],
      "text/plain": [
       "  state  year  new_cases  new_deaths\n",
       "0    AL  2020     361220        4827\n",
       "1    AL  2021     530867       11583\n",
       "2    AL  2022     677023        4753\n",
       "3    AK  2020      46739         198\n",
       "4    AK  2021     109390         756\n",
       "5    AK  2022     145644         454\n",
       "6   NaN  2021         10           0\n",
       "7   NaN  2022       8255          34\n",
       "8    AZ  2020     523828        8879\n",
       "9    AZ  2021     851221       15214"
      ]
     },
     "execution_count": 117,
     "metadata": {},
     "output_type": "execute_result"
    }
   ],
   "source": [
    "cases_per_year_state.head(10)"
   ]
  },
  {
   "cell_type": "code",
   "execution_count": 118,
   "metadata": {},
   "outputs": [
    {
     "data": {
      "text/html": [
       "<div>\n",
       "<style scoped>\n",
       "    .dataframe tbody tr th:only-of-type {\n",
       "        vertical-align: middle;\n",
       "    }\n",
       "\n",
       "    .dataframe tbody tr th {\n",
       "        vertical-align: top;\n",
       "    }\n",
       "\n",
       "    .dataframe thead th {\n",
       "        text-align: right;\n",
       "    }\n",
       "</style>\n",
       "<table border=\"1\" class=\"dataframe\">\n",
       "  <thead>\n",
       "    <tr style=\"text-align: right;\">\n",
       "      <th></th>\n",
       "      <th>state</th>\n",
       "      <th>year</th>\n",
       "      <th>new_cases</th>\n",
       "      <th>new_deaths</th>\n",
       "    </tr>\n",
       "  </thead>\n",
       "  <tbody>\n",
       "    <tr>\n",
       "      <th>0</th>\n",
       "      <td>AL</td>\n",
       "      <td>2020</td>\n",
       "      <td>361220</td>\n",
       "      <td>4827</td>\n",
       "    </tr>\n",
       "    <tr>\n",
       "      <th>1</th>\n",
       "      <td>AL</td>\n",
       "      <td>2021</td>\n",
       "      <td>530867</td>\n",
       "      <td>11583</td>\n",
       "    </tr>\n",
       "    <tr>\n",
       "      <th>2</th>\n",
       "      <td>AL</td>\n",
       "      <td>2022</td>\n",
       "      <td>677023</td>\n",
       "      <td>4753</td>\n",
       "    </tr>\n",
       "    <tr>\n",
       "      <th>3</th>\n",
       "      <td>AK</td>\n",
       "      <td>2020</td>\n",
       "      <td>46739</td>\n",
       "      <td>198</td>\n",
       "    </tr>\n",
       "    <tr>\n",
       "      <th>4</th>\n",
       "      <td>AK</td>\n",
       "      <td>2021</td>\n",
       "      <td>109390</td>\n",
       "      <td>756</td>\n",
       "    </tr>\n",
       "    <tr>\n",
       "      <th>...</th>\n",
       "      <td>...</td>\n",
       "      <td>...</td>\n",
       "      <td>...</td>\n",
       "      <td>...</td>\n",
       "    </tr>\n",
       "    <tr>\n",
       "      <th>145</th>\n",
       "      <td>WI</td>\n",
       "      <td>2021</td>\n",
       "      <td>598146</td>\n",
       "      <td>5916</td>\n",
       "    </tr>\n",
       "    <tr>\n",
       "      <th>146</th>\n",
       "      <td>WI</td>\n",
       "      <td>2022</td>\n",
       "      <td>840215</td>\n",
       "      <td>4687</td>\n",
       "    </tr>\n",
       "    <tr>\n",
       "      <th>147</th>\n",
       "      <td>WY</td>\n",
       "      <td>2020</td>\n",
       "      <td>44408</td>\n",
       "      <td>438</td>\n",
       "    </tr>\n",
       "    <tr>\n",
       "      <th>148</th>\n",
       "      <td>WY</td>\n",
       "      <td>2021</td>\n",
       "      <td>71229</td>\n",
       "      <td>1088</td>\n",
       "    </tr>\n",
       "    <tr>\n",
       "      <th>149</th>\n",
       "      <td>WY</td>\n",
       "      <td>2022</td>\n",
       "      <td>67209</td>\n",
       "      <td>433</td>\n",
       "    </tr>\n",
       "  </tbody>\n",
       "</table>\n",
       "<p>150 rows × 4 columns</p>\n",
       "</div>"
      ],
      "text/plain": [
       "    state  year  new_cases  new_deaths\n",
       "0      AL  2020     361220        4827\n",
       "1      AL  2021     530867       11583\n",
       "2      AL  2022     677023        4753\n",
       "3      AK  2020      46739         198\n",
       "4      AK  2021     109390         756\n",
       "..    ...   ...        ...         ...\n",
       "145    WI  2021     598146        5916\n",
       "146    WI  2022     840215        4687\n",
       "147    WY  2020      44408         438\n",
       "148    WY  2021      71229        1088\n",
       "149    WY  2022      67209         433\n",
       "\n",
       "[150 rows x 4 columns]"
      ]
     },
     "execution_count": 118,
     "metadata": {},
     "output_type": "execute_result"
    }
   ],
   "source": [
    "#remover null values\n",
    "cases_per_year_state =  cases_per_year_state.dropna().reset_index(drop=True)\n",
    "\n",
    "cases_per_year_state"
   ]
  },
  {
   "cell_type": "code",
   "execution_count": 119,
   "metadata": {},
   "outputs": [
    {
     "data": {
      "text/plain": [
       "state         object\n",
       "year           int32\n",
       "new_cases      int64\n",
       "new_deaths     int64\n",
       "population     int64\n",
       "dtype: object"
      ]
     },
     "execution_count": 119,
     "metadata": {},
     "output_type": "execute_result"
    }
   ],
   "source": [
    "#unir as population e covid dataframes\n",
    "merged_df = cases_per_year_state.merge(population_df,how = \"inner\", on= [\"state\", \"year\"])\n",
    "\n",
    "merged_df.dtypes"
   ]
  },
  {
   "cell_type": "code",
   "execution_count": 120,
   "metadata": {},
   "outputs": [
    {
     "data": {
      "text/plain": [
       "state         object\n",
       "year           int32\n",
       "new_cases      int64\n",
       "new_deaths     int64\n",
       "population     int64\n",
       "dtype: object"
      ]
     },
     "execution_count": 120,
     "metadata": {},
     "output_type": "execute_result"
    }
   ],
   "source": [
    "#converter nº de casos e mortes para int\n",
    "conversions = {\"new_cases\": int, \"new_deaths\": int}\n",
    "\n",
    "merged_df = merged_df.astype(conversions)\n",
    "\n",
    "merged_df.dtypes"
   ]
  },
  {
   "cell_type": "code",
   "execution_count": 121,
   "metadata": {},
   "outputs": [
    {
     "data": {
      "text/html": [
       "<div>\n",
       "<style scoped>\n",
       "    .dataframe tbody tr th:only-of-type {\n",
       "        vertical-align: middle;\n",
       "    }\n",
       "\n",
       "    .dataframe tbody tr th {\n",
       "        vertical-align: top;\n",
       "    }\n",
       "\n",
       "    .dataframe thead th {\n",
       "        text-align: right;\n",
       "    }\n",
       "</style>\n",
       "<table border=\"1\" class=\"dataframe\">\n",
       "  <thead>\n",
       "    <tr style=\"text-align: right;\">\n",
       "      <th></th>\n",
       "      <th>state</th>\n",
       "      <th>year</th>\n",
       "      <th>new_cases</th>\n",
       "      <th>new_deaths</th>\n",
       "      <th>population</th>\n",
       "      <th>cases_per_hundred</th>\n",
       "      <th>deaths_per_hundred</th>\n",
       "    </tr>\n",
       "  </thead>\n",
       "  <tbody>\n",
       "    <tr>\n",
       "      <th>0</th>\n",
       "      <td>AL</td>\n",
       "      <td>2020</td>\n",
       "      <td>361220</td>\n",
       "      <td>4827</td>\n",
       "      <td>5031362</td>\n",
       "      <td>7.179368</td>\n",
       "      <td>0.095938</td>\n",
       "    </tr>\n",
       "    <tr>\n",
       "      <th>1</th>\n",
       "      <td>AL</td>\n",
       "      <td>2021</td>\n",
       "      <td>530867</td>\n",
       "      <td>11583</td>\n",
       "      <td>5049846</td>\n",
       "      <td>10.512538</td>\n",
       "      <td>0.229373</td>\n",
       "    </tr>\n",
       "    <tr>\n",
       "      <th>2</th>\n",
       "      <td>AL</td>\n",
       "      <td>2022</td>\n",
       "      <td>677023</td>\n",
       "      <td>4753</td>\n",
       "      <td>5074296</td>\n",
       "      <td>13.342206</td>\n",
       "      <td>0.093668</td>\n",
       "    </tr>\n",
       "    <tr>\n",
       "      <th>3</th>\n",
       "      <td>AK</td>\n",
       "      <td>2020</td>\n",
       "      <td>46739</td>\n",
       "      <td>198</td>\n",
       "      <td>732923</td>\n",
       "      <td>6.377068</td>\n",
       "      <td>0.027015</td>\n",
       "    </tr>\n",
       "    <tr>\n",
       "      <th>4</th>\n",
       "      <td>AK</td>\n",
       "      <td>2021</td>\n",
       "      <td>109390</td>\n",
       "      <td>756</td>\n",
       "      <td>734182</td>\n",
       "      <td>14.899575</td>\n",
       "      <td>0.102972</td>\n",
       "    </tr>\n",
       "    <tr>\n",
       "      <th>5</th>\n",
       "      <td>AK</td>\n",
       "      <td>2022</td>\n",
       "      <td>145644</td>\n",
       "      <td>454</td>\n",
       "      <td>733583</td>\n",
       "      <td>19.853786</td>\n",
       "      <td>0.061888</td>\n",
       "    </tr>\n",
       "    <tr>\n",
       "      <th>6</th>\n",
       "      <td>AZ</td>\n",
       "      <td>2020</td>\n",
       "      <td>523828</td>\n",
       "      <td>8879</td>\n",
       "      <td>7179943</td>\n",
       "      <td>7.295713</td>\n",
       "      <td>0.123664</td>\n",
       "    </tr>\n",
       "    <tr>\n",
       "      <th>7</th>\n",
       "      <td>AZ</td>\n",
       "      <td>2021</td>\n",
       "      <td>851221</td>\n",
       "      <td>15214</td>\n",
       "      <td>7264877</td>\n",
       "      <td>11.716936</td>\n",
       "      <td>0.209419</td>\n",
       "    </tr>\n",
       "    <tr>\n",
       "      <th>8</th>\n",
       "      <td>AZ</td>\n",
       "      <td>2022</td>\n",
       "      <td>988626</td>\n",
       "      <td>7828</td>\n",
       "      <td>7359197</td>\n",
       "      <td>13.433884</td>\n",
       "      <td>0.106370</td>\n",
       "    </tr>\n",
       "    <tr>\n",
       "      <th>9</th>\n",
       "      <td>AR</td>\n",
       "      <td>2020</td>\n",
       "      <td>225137</td>\n",
       "      <td>3676</td>\n",
       "      <td>3014195</td>\n",
       "      <td>7.469225</td>\n",
       "      <td>0.121956</td>\n",
       "    </tr>\n",
       "  </tbody>\n",
       "</table>\n",
       "</div>"
      ],
      "text/plain": [
       "  state  year  new_cases  new_deaths  population  cases_per_hundred  \\\n",
       "0    AL  2020     361220        4827     5031362           7.179368   \n",
       "1    AL  2021     530867       11583     5049846          10.512538   \n",
       "2    AL  2022     677023        4753     5074296          13.342206   \n",
       "3    AK  2020      46739         198      732923           6.377068   \n",
       "4    AK  2021     109390         756      734182          14.899575   \n",
       "5    AK  2022     145644         454      733583          19.853786   \n",
       "6    AZ  2020     523828        8879     7179943           7.295713   \n",
       "7    AZ  2021     851221       15214     7264877          11.716936   \n",
       "8    AZ  2022     988626        7828     7359197          13.433884   \n",
       "9    AR  2020     225137        3676     3014195           7.469225   \n",
       "\n",
       "   deaths_per_hundred  \n",
       "0            0.095938  \n",
       "1            0.229373  \n",
       "2            0.093668  \n",
       "3            0.027015  \n",
       "4            0.102972  \n",
       "5            0.061888  \n",
       "6            0.123664  \n",
       "7            0.209419  \n",
       "8            0.106370  \n",
       "9            0.121956  "
      ]
     },
     "execution_count": 121,
     "metadata": {},
     "output_type": "execute_result"
    }
   ],
   "source": [
    "#calcular casos e mortes por 100 habitantes em cada estado e ano\n",
    "merged_df[\"cases_per_hundred\"] = (merged_df[\"new_cases\"] / merged_df[\"population\"]) * 100\n",
    "\n",
    "merged_df[\"deaths_per_hundred\"] = (merged_df[\"new_deaths\"] / merged_df[\"population\"]) * 100\n",
    "\n",
    "merged_df.head(10)"
   ]
  },
  {
   "cell_type": "code",
   "execution_count": null,
   "metadata": {},
   "outputs": [
    {
     "data": {
      "application/vnd.plotly.v1+json": {
       "config": {
        "plotlyServerURL": "https://plot.ly"
       },
       "data": [
        {
         "coloraxis": "coloraxis",
         "geo": "geo",
         "hovertemplate": "<b>%{hovertext}</b><br><br>year=2020<br>state=%{location}<br>Cases=%{z}<extra></extra>",
         "hovertext": [
          "AL",
          "AK",
          "AZ",
          "AR",
          "CA",
          "CO",
          "CT",
          "DE",
          "FL",
          "GA",
          "HI",
          "ID",
          "IL",
          "IN",
          "IA",
          "KS",
          "KY",
          "LA",
          "ME",
          "MD",
          "MA",
          "MI",
          "MN",
          "MS",
          "MO",
          "MT",
          "NE",
          "NV",
          "NH",
          "NJ",
          "NM",
          "NY",
          "NC",
          "ND",
          "OH",
          "OK",
          "OR",
          "PA",
          "RI",
          "SC",
          "SD",
          "TN",
          "TX",
          "UT",
          "VT",
          "VA",
          "WA",
          "WV",
          "WI",
          "WY"
         ],
         "locationmode": "USA-states",
         "locations": [
          "AL",
          "AK",
          "AZ",
          "AR",
          "CA",
          "CO",
          "CT",
          "DE",
          "FL",
          "GA",
          "HI",
          "ID",
          "IL",
          "IN",
          "IA",
          "KS",
          "KY",
          "LA",
          "ME",
          "MD",
          "MA",
          "MI",
          "MN",
          "MS",
          "MO",
          "MT",
          "NE",
          "NV",
          "NH",
          "NJ",
          "NM",
          "NY",
          "NC",
          "ND",
          "OH",
          "OK",
          "OR",
          "PA",
          "RI",
          "SC",
          "SD",
          "TN",
          "TX",
          "UT",
          "VT",
          "VA",
          "WA",
          "WV",
          "WI",
          "WY"
         ],
         "name": "",
         "type": "choropleth",
         "z": {
          "bdata": "dhSIR6y3HED0pIwuHoIZQF/H7kLPLh1A0X9DdnzgHUD5VrOtp14XQM/mMqorNBdAYYtEwDSmFEBKJI8/KCoXQKgaF6R3hBhAWUnXwZsCGECRu312KKn3P9Lbp7VWlR5AVEJPTNI2HkC8C8+k2k8eQIElcheqqCFAs8sFERyyHkDQlfMlNNsXQCSKFBJTHBtAMacLL3Vl/D8yMtiuBfARQD12CnyncxVAOW3SusvrFEAQnEPpBxkdQLf47h+NLh1AzHI3YO41G0DCv98RrA8eQHO+KxUOGSFAjkTinknoHEBAbSQaj4wJQPQlqbNzrhRAr3NvQj/7GkBPgF3mrnkTQEzeynI9thRAf+AibJ27J0D2kM6GIL8XQPtby/PYWR1AAjp0nLh4BUDNCi5pIOMTQLGoBR0uCyBAgKcxseb3F0Cvg+DwkVYmQOWxLWX6iCBA8p5FBxI6GEC0ZWJ22tggQMTo+EqycfI/vea0HuYwEECHgDko2QAKQLzEygrADRNArX+F4DCnIUCWOYB60cAeQA==",
          "dtype": "f8"
         }
        },
        {
         "coloraxis": "coloraxis",
         "geo": "geo2",
         "hovertemplate": "<b>%{hovertext}</b><br><br>year=2021<br>state=%{location}<br>Cases=%{z}<extra></extra>",
         "hovertext": [
          "AL",
          "AK",
          "AZ",
          "AR",
          "CA",
          "CO",
          "CT",
          "DE",
          "FL",
          "GA",
          "HI",
          "ID",
          "IL",
          "IN",
          "IA",
          "KS",
          "KY",
          "LA",
          "ME",
          "MD",
          "MA",
          "MI",
          "MN",
          "MS",
          "MO",
          "MT",
          "NE",
          "NV",
          "NH",
          "NJ",
          "NM",
          "NY",
          "NC",
          "ND",
          "OH",
          "OK",
          "OR",
          "PA",
          "RI",
          "SC",
          "SD",
          "TN",
          "TX",
          "UT",
          "VT",
          "VA",
          "WA",
          "WV",
          "WI",
          "WY"
         ],
         "locationmode": "USA-states",
         "locations": [
          "AL",
          "AK",
          "AZ",
          "AR",
          "CA",
          "CO",
          "CT",
          "DE",
          "FL",
          "GA",
          "HI",
          "ID",
          "IL",
          "IN",
          "IA",
          "KS",
          "KY",
          "LA",
          "ME",
          "MD",
          "MA",
          "MI",
          "MN",
          "MS",
          "MO",
          "MT",
          "NE",
          "NV",
          "NH",
          "NJ",
          "NM",
          "NY",
          "NC",
          "ND",
          "OH",
          "OK",
          "OR",
          "PA",
          "RI",
          "SC",
          "SD",
          "TN",
          "TX",
          "UT",
          "VT",
          "VA",
          "WA",
          "WV",
          "WI",
          "WY"
         ],
         "name": "",
         "type": "choropleth",
         "z": {
          "bdata": "43P2bmsGJUBTmI4ilcwtQJ5GikESbydAMLQvDcxCJkCWtEHsLTIgQDe09XtSeSRA215muRTpIUDpDljX51coQMjWmzLADCpALwG6jEYzJUCeJMJchUcYQB73p5w3syJA01Z+85m5IkD5JWoGKmwlQAsVH/G3SyJAnKp70n3AI0C/YhBsWGkqQBVbSP8eMSZAaId351fLIUDT7yUK9zsbQMNspC/g5iVAU2aI3YaAJ0DHZ3zSUUElQHJ/If6PDyZAnZl8GnGEI0BD1QG1uPwkQDoYAfqxSCFAiCuFfOBsIUCEkPk/TEomQPawDNPiSidAma2gloJ0I0Cx2amo8PQoQCSCMDeZmyVAPvIXIDPwJEDUAtk1K14mQOcJ4Fsw8iRAQwt6hyS/HEDo2BGcs0MlQBGWIJUnGSpAAM7sa+q3KUDeQ86V4NwhQFf6irPrKydAIBvgAw3sIkC6P6uqL5glQDRFjDChoSFAbDotENykIUDEgjJinBEfQBHMyP/P6ypA41CHtEFYJEDUdCFEaZUoQA==",
          "dtype": "f8"
         }
        },
        {
         "coloraxis": "coloraxis",
         "geo": "geo3",
         "hovertemplate": "<b>%{hovertext}</b><br><br>year=2022<br>state=%{location}<br>Cases=%{z}<extra></extra>",
         "hovertext": [
          "AL",
          "AK",
          "AZ",
          "AR",
          "CA",
          "CO",
          "CT",
          "DE",
          "FL",
          "GA",
          "HI",
          "ID",
          "IL",
          "IN",
          "IA",
          "KS",
          "KY",
          "LA",
          "ME",
          "MD",
          "MA",
          "MI",
          "MN",
          "MS",
          "MO",
          "MT",
          "NE",
          "NV",
          "NH",
          "NJ",
          "NM",
          "NY",
          "NC",
          "ND",
          "OH",
          "OK",
          "OR",
          "PA",
          "RI",
          "SC",
          "SD",
          "TN",
          "TX",
          "UT",
          "VT",
          "VA",
          "WA",
          "WV",
          "WI",
          "WY"
         ],
         "locationmode": "USA-states",
         "locations": [
          "AL",
          "AK",
          "AZ",
          "AR",
          "CA",
          "CO",
          "CT",
          "DE",
          "FL",
          "GA",
          "HI",
          "ID",
          "IL",
          "IN",
          "IA",
          "KS",
          "KY",
          "LA",
          "ME",
          "MD",
          "MA",
          "MI",
          "MN",
          "MS",
          "MO",
          "MT",
          "NE",
          "NV",
          "NH",
          "NJ",
          "NM",
          "NY",
          "NC",
          "ND",
          "OH",
          "OK",
          "OR",
          "PA",
          "RI",
          "SC",
          "SD",
          "TN",
          "TX",
          "UT",
          "VT",
          "VA",
          "WA",
          "WV",
          "WI",
          "WY"
         ],
         "name": "",
         "type": "choropleth",
         "z": {
          "bdata": "V1AujzWvKkAiJIm6kdozQAXYgBAm3ipAt6jhmgw+K0B84oLyZCswQK5FM7AzcitA32qrI60lKEC+kecOXxorQJap05Ih5itAfu7gwEgpJEAurjIh7WsxQKRwDwwj1SNAXuSWDHD5LEBGakb7MwQmQE8sO6XBbSNAu/boCVIBK0D38Bj625gxQD1G9Ec43S1Ag0hPfA8WJ0DpzlFcbAokQPapziPUDS1A/SKaoVxgKUD+eS2xCv8oQB4Vz3WE/CtAyT8li4dQJ0AG0wdLt1gmQJ6YdNLpMSZA98zON/SYJ0A1RskpHDUoQOebeSV7uSxAN2osy3U+LUC0+DGqRpQuQCprwNSkfi5Aza4o6sMuK0AM+Uj/n/glQCgJO3el6ypAcqyqD2BvKED61RSCKuokQGLV0BbvbjNAnqYop7cWLkCQdlnD9F0kQPM6za8JBixACnD7IfeGJ0BNiNvsHekpQFc+62ld8ilA3qjXAiAJKUAwI6a8+HoqQLUWLLrBtDBAk1uP5ZaELEDZl2Pm1h4nQA==",
          "dtype": "f8"
         }
        }
       ],
       "layout": {
        "annotations": [
         {
          "font": {},
          "showarrow": false,
          "text": "year=2020",
          "x": 0.15999999999999998,
          "xanchor": "center",
          "xref": "paper",
          "y": 1,
          "yanchor": "bottom",
          "yref": "paper"
         },
         {
          "font": {},
          "showarrow": false,
          "text": "year=2021",
          "x": 0.49999999999999994,
          "xanchor": "center",
          "xref": "paper",
          "y": 1,
          "yanchor": "bottom",
          "yref": "paper"
         },
         {
          "font": {},
          "showarrow": false,
          "text": "year=2022",
          "x": 0.8399999999999999,
          "xanchor": "center",
          "xref": "paper",
          "y": 1,
          "yanchor": "bottom",
          "yref": "paper"
         }
        ],
        "coloraxis": {
         "colorbar": {
          "title": {
           "text": "Cases"
          }
         },
         "colorscale": [
          [
           0,
           "rgb(255,245,240)"
          ],
          [
           0.125,
           "rgb(254,224,210)"
          ],
          [
           0.25,
           "rgb(252,187,161)"
          ],
          [
           0.375,
           "rgb(252,146,114)"
          ],
          [
           0.5,
           "rgb(251,106,74)"
          ],
          [
           0.625,
           "rgb(239,59,44)"
          ],
          [
           0.75,
           "rgb(203,24,29)"
          ],
          [
           0.875,
           "rgb(165,15,21)"
          ],
          [
           1,
           "rgb(103,0,13)"
          ]
         ]
        },
        "geo": {
         "center": {},
         "domain": {
          "x": [
           0,
           0.31999999999999995
          ],
          "y": [
           0,
           1
          ]
         },
         "scope": "usa"
        },
        "geo2": {
         "center": {},
         "domain": {
          "x": [
           0.33999999999999997,
           0.6599999999999999
          ],
          "y": [
           0,
           1
          ]
         },
         "scope": "usa"
        },
        "geo3": {
         "center": {},
         "domain": {
          "x": [
           0.6799999999999999,
           0.9999999999999999
          ],
          "y": [
           0,
           1
          ]
         },
         "scope": "usa"
        },
        "legend": {
         "tracegroupgap": 0
        },
        "template": {
         "data": {
          "bar": [
           {
            "error_x": {
             "color": "#2a3f5f"
            },
            "error_y": {
             "color": "#2a3f5f"
            },
            "marker": {
             "line": {
              "color": "#E5ECF6",
              "width": 0.5
             },
             "pattern": {
              "fillmode": "overlay",
              "size": 10,
              "solidity": 0.2
             }
            },
            "type": "bar"
           }
          ],
          "barpolar": [
           {
            "marker": {
             "line": {
              "color": "#E5ECF6",
              "width": 0.5
             },
             "pattern": {
              "fillmode": "overlay",
              "size": 10,
              "solidity": 0.2
             }
            },
            "type": "barpolar"
           }
          ],
          "carpet": [
           {
            "aaxis": {
             "endlinecolor": "#2a3f5f",
             "gridcolor": "white",
             "linecolor": "white",
             "minorgridcolor": "white",
             "startlinecolor": "#2a3f5f"
            },
            "baxis": {
             "endlinecolor": "#2a3f5f",
             "gridcolor": "white",
             "linecolor": "white",
             "minorgridcolor": "white",
             "startlinecolor": "#2a3f5f"
            },
            "type": "carpet"
           }
          ],
          "choropleth": [
           {
            "colorbar": {
             "outlinewidth": 0,
             "ticks": ""
            },
            "type": "choropleth"
           }
          ],
          "contour": [
           {
            "colorbar": {
             "outlinewidth": 0,
             "ticks": ""
            },
            "colorscale": [
             [
              0,
              "#0d0887"
             ],
             [
              0.1111111111111111,
              "#46039f"
             ],
             [
              0.2222222222222222,
              "#7201a8"
             ],
             [
              0.3333333333333333,
              "#9c179e"
             ],
             [
              0.4444444444444444,
              "#bd3786"
             ],
             [
              0.5555555555555556,
              "#d8576b"
             ],
             [
              0.6666666666666666,
              "#ed7953"
             ],
             [
              0.7777777777777778,
              "#fb9f3a"
             ],
             [
              0.8888888888888888,
              "#fdca26"
             ],
             [
              1,
              "#f0f921"
             ]
            ],
            "type": "contour"
           }
          ],
          "contourcarpet": [
           {
            "colorbar": {
             "outlinewidth": 0,
             "ticks": ""
            },
            "type": "contourcarpet"
           }
          ],
          "heatmap": [
           {
            "colorbar": {
             "outlinewidth": 0,
             "ticks": ""
            },
            "colorscale": [
             [
              0,
              "#0d0887"
             ],
             [
              0.1111111111111111,
              "#46039f"
             ],
             [
              0.2222222222222222,
              "#7201a8"
             ],
             [
              0.3333333333333333,
              "#9c179e"
             ],
             [
              0.4444444444444444,
              "#bd3786"
             ],
             [
              0.5555555555555556,
              "#d8576b"
             ],
             [
              0.6666666666666666,
              "#ed7953"
             ],
             [
              0.7777777777777778,
              "#fb9f3a"
             ],
             [
              0.8888888888888888,
              "#fdca26"
             ],
             [
              1,
              "#f0f921"
             ]
            ],
            "type": "heatmap"
           }
          ],
          "histogram": [
           {
            "marker": {
             "pattern": {
              "fillmode": "overlay",
              "size": 10,
              "solidity": 0.2
             }
            },
            "type": "histogram"
           }
          ],
          "histogram2d": [
           {
            "colorbar": {
             "outlinewidth": 0,
             "ticks": ""
            },
            "colorscale": [
             [
              0,
              "#0d0887"
             ],
             [
              0.1111111111111111,
              "#46039f"
             ],
             [
              0.2222222222222222,
              "#7201a8"
             ],
             [
              0.3333333333333333,
              "#9c179e"
             ],
             [
              0.4444444444444444,
              "#bd3786"
             ],
             [
              0.5555555555555556,
              "#d8576b"
             ],
             [
              0.6666666666666666,
              "#ed7953"
             ],
             [
              0.7777777777777778,
              "#fb9f3a"
             ],
             [
              0.8888888888888888,
              "#fdca26"
             ],
             [
              1,
              "#f0f921"
             ]
            ],
            "type": "histogram2d"
           }
          ],
          "histogram2dcontour": [
           {
            "colorbar": {
             "outlinewidth": 0,
             "ticks": ""
            },
            "colorscale": [
             [
              0,
              "#0d0887"
             ],
             [
              0.1111111111111111,
              "#46039f"
             ],
             [
              0.2222222222222222,
              "#7201a8"
             ],
             [
              0.3333333333333333,
              "#9c179e"
             ],
             [
              0.4444444444444444,
              "#bd3786"
             ],
             [
              0.5555555555555556,
              "#d8576b"
             ],
             [
              0.6666666666666666,
              "#ed7953"
             ],
             [
              0.7777777777777778,
              "#fb9f3a"
             ],
             [
              0.8888888888888888,
              "#fdca26"
             ],
             [
              1,
              "#f0f921"
             ]
            ],
            "type": "histogram2dcontour"
           }
          ],
          "mesh3d": [
           {
            "colorbar": {
             "outlinewidth": 0,
             "ticks": ""
            },
            "type": "mesh3d"
           }
          ],
          "parcoords": [
           {
            "line": {
             "colorbar": {
              "outlinewidth": 0,
              "ticks": ""
             }
            },
            "type": "parcoords"
           }
          ],
          "pie": [
           {
            "automargin": true,
            "type": "pie"
           }
          ],
          "scatter": [
           {
            "fillpattern": {
             "fillmode": "overlay",
             "size": 10,
             "solidity": 0.2
            },
            "type": "scatter"
           }
          ],
          "scatter3d": [
           {
            "line": {
             "colorbar": {
              "outlinewidth": 0,
              "ticks": ""
             }
            },
            "marker": {
             "colorbar": {
              "outlinewidth": 0,
              "ticks": ""
             }
            },
            "type": "scatter3d"
           }
          ],
          "scattercarpet": [
           {
            "marker": {
             "colorbar": {
              "outlinewidth": 0,
              "ticks": ""
             }
            },
            "type": "scattercarpet"
           }
          ],
          "scattergeo": [
           {
            "marker": {
             "colorbar": {
              "outlinewidth": 0,
              "ticks": ""
             }
            },
            "type": "scattergeo"
           }
          ],
          "scattergl": [
           {
            "marker": {
             "colorbar": {
              "outlinewidth": 0,
              "ticks": ""
             }
            },
            "type": "scattergl"
           }
          ],
          "scattermap": [
           {
            "marker": {
             "colorbar": {
              "outlinewidth": 0,
              "ticks": ""
             }
            },
            "type": "scattermap"
           }
          ],
          "scattermapbox": [
           {
            "marker": {
             "colorbar": {
              "outlinewidth": 0,
              "ticks": ""
             }
            },
            "type": "scattermapbox"
           }
          ],
          "scatterpolar": [
           {
            "marker": {
             "colorbar": {
              "outlinewidth": 0,
              "ticks": ""
             }
            },
            "type": "scatterpolar"
           }
          ],
          "scatterpolargl": [
           {
            "marker": {
             "colorbar": {
              "outlinewidth": 0,
              "ticks": ""
             }
            },
            "type": "scatterpolargl"
           }
          ],
          "scatterternary": [
           {
            "marker": {
             "colorbar": {
              "outlinewidth": 0,
              "ticks": ""
             }
            },
            "type": "scatterternary"
           }
          ],
          "surface": [
           {
            "colorbar": {
             "outlinewidth": 0,
             "ticks": ""
            },
            "colorscale": [
             [
              0,
              "#0d0887"
             ],
             [
              0.1111111111111111,
              "#46039f"
             ],
             [
              0.2222222222222222,
              "#7201a8"
             ],
             [
              0.3333333333333333,
              "#9c179e"
             ],
             [
              0.4444444444444444,
              "#bd3786"
             ],
             [
              0.5555555555555556,
              "#d8576b"
             ],
             [
              0.6666666666666666,
              "#ed7953"
             ],
             [
              0.7777777777777778,
              "#fb9f3a"
             ],
             [
              0.8888888888888888,
              "#fdca26"
             ],
             [
              1,
              "#f0f921"
             ]
            ],
            "type": "surface"
           }
          ],
          "table": [
           {
            "cells": {
             "fill": {
              "color": "#EBF0F8"
             },
             "line": {
              "color": "white"
             }
            },
            "header": {
             "fill": {
              "color": "#C8D4E3"
             },
             "line": {
              "color": "white"
             }
            },
            "type": "table"
           }
          ]
         },
         "layout": {
          "annotationdefaults": {
           "arrowcolor": "#2a3f5f",
           "arrowhead": 0,
           "arrowwidth": 1
          },
          "autotypenumbers": "strict",
          "coloraxis": {
           "colorbar": {
            "outlinewidth": 0,
            "ticks": ""
           }
          },
          "colorscale": {
           "diverging": [
            [
             0,
             "#8e0152"
            ],
            [
             0.1,
             "#c51b7d"
            ],
            [
             0.2,
             "#de77ae"
            ],
            [
             0.3,
             "#f1b6da"
            ],
            [
             0.4,
             "#fde0ef"
            ],
            [
             0.5,
             "#f7f7f7"
            ],
            [
             0.6,
             "#e6f5d0"
            ],
            [
             0.7,
             "#b8e186"
            ],
            [
             0.8,
             "#7fbc41"
            ],
            [
             0.9,
             "#4d9221"
            ],
            [
             1,
             "#276419"
            ]
           ],
           "sequential": [
            [
             0,
             "#0d0887"
            ],
            [
             0.1111111111111111,
             "#46039f"
            ],
            [
             0.2222222222222222,
             "#7201a8"
            ],
            [
             0.3333333333333333,
             "#9c179e"
            ],
            [
             0.4444444444444444,
             "#bd3786"
            ],
            [
             0.5555555555555556,
             "#d8576b"
            ],
            [
             0.6666666666666666,
             "#ed7953"
            ],
            [
             0.7777777777777778,
             "#fb9f3a"
            ],
            [
             0.8888888888888888,
             "#fdca26"
            ],
            [
             1,
             "#f0f921"
            ]
           ],
           "sequentialminus": [
            [
             0,
             "#0d0887"
            ],
            [
             0.1111111111111111,
             "#46039f"
            ],
            [
             0.2222222222222222,
             "#7201a8"
            ],
            [
             0.3333333333333333,
             "#9c179e"
            ],
            [
             0.4444444444444444,
             "#bd3786"
            ],
            [
             0.5555555555555556,
             "#d8576b"
            ],
            [
             0.6666666666666666,
             "#ed7953"
            ],
            [
             0.7777777777777778,
             "#fb9f3a"
            ],
            [
             0.8888888888888888,
             "#fdca26"
            ],
            [
             1,
             "#f0f921"
            ]
           ]
          },
          "colorway": [
           "#636efa",
           "#EF553B",
           "#00cc96",
           "#ab63fa",
           "#FFA15A",
           "#19d3f3",
           "#FF6692",
           "#B6E880",
           "#FF97FF",
           "#FECB52"
          ],
          "font": {
           "color": "#2a3f5f"
          },
          "geo": {
           "bgcolor": "white",
           "lakecolor": "white",
           "landcolor": "#E5ECF6",
           "showlakes": true,
           "showland": true,
           "subunitcolor": "white"
          },
          "hoverlabel": {
           "align": "left"
          },
          "hovermode": "closest",
          "mapbox": {
           "style": "light"
          },
          "paper_bgcolor": "white",
          "plot_bgcolor": "#E5ECF6",
          "polar": {
           "angularaxis": {
            "gridcolor": "white",
            "linecolor": "white",
            "ticks": ""
           },
           "bgcolor": "#E5ECF6",
           "radialaxis": {
            "gridcolor": "white",
            "linecolor": "white",
            "ticks": ""
           }
          },
          "scene": {
           "xaxis": {
            "backgroundcolor": "#E5ECF6",
            "gridcolor": "white",
            "gridwidth": 2,
            "linecolor": "white",
            "showbackground": true,
            "ticks": "",
            "zerolinecolor": "white"
           },
           "yaxis": {
            "backgroundcolor": "#E5ECF6",
            "gridcolor": "white",
            "gridwidth": 2,
            "linecolor": "white",
            "showbackground": true,
            "ticks": "",
            "zerolinecolor": "white"
           },
           "zaxis": {
            "backgroundcolor": "#E5ECF6",
            "gridcolor": "white",
            "gridwidth": 2,
            "linecolor": "white",
            "showbackground": true,
            "ticks": "",
            "zerolinecolor": "white"
           }
          },
          "shapedefaults": {
           "line": {
            "color": "#2a3f5f"
           }
          },
          "ternary": {
           "aaxis": {
            "gridcolor": "white",
            "linecolor": "white",
            "ticks": ""
           },
           "baxis": {
            "gridcolor": "white",
            "linecolor": "white",
            "ticks": ""
           },
           "bgcolor": "#E5ECF6",
           "caxis": {
            "gridcolor": "white",
            "linecolor": "white",
            "ticks": ""
           }
          },
          "title": {
           "x": 0.05
          },
          "xaxis": {
           "automargin": true,
           "gridcolor": "white",
           "linecolor": "white",
           "ticks": "",
           "title": {
            "standoff": 15
           },
           "zerolinecolor": "white",
           "zerolinewidth": 2
          },
          "yaxis": {
           "automargin": true,
           "gridcolor": "white",
           "linecolor": "white",
           "ticks": "",
           "title": {
            "standoff": 15
           },
           "zerolinecolor": "white",
           "zerolinewidth": 2
          }
         }
        },
        "title": {
         "text": "Yearly New COVID-19 Cases per State in the U.S. (per hundred)"
        }
       }
      }
     },
     "metadata": {},
     "output_type": "display_data"
    }
   ],
   "source": [
    "#Gráfico novos casos por estado por ano nos USA\n",
    "fig = px.choropleth(\n",
    "    merged_df,\n",
    "    locations=\"state\",\n",
    "    locationmode=\"USA-states\",\n",
    "    color=\"cases_per_hundred\",\n",
    "    labels={\"cases_per_hundred\": \"Cases\"},\n",
    "    hover_name=\"state\",\n",
    "    color_continuous_scale=\"Reds\",\n",
    "    scope=\"usa\",\n",
    "    facet_col=\"year\",\n",
    "    title=\"Yearly New COVID-19 Cases per State in the U.S. (per hundred)\"\n",
    ")\n",
    "\n",
    "#Mostrar mapa\n",
    "fig.show()"
   ]
  },
  {
   "cell_type": "code",
   "execution_count": null,
   "metadata": {},
   "outputs": [
    {
     "data": {
      "application/vnd.plotly.v1+json": {
       "config": {
        "plotlyServerURL": "https://plot.ly"
       },
       "data": [
        {
         "coloraxis": "coloraxis",
         "geo": "geo",
         "hovertemplate": "<b>%{hovertext}</b><br><br>year=2020<br>state=%{location}<br>Deaths=%{z}<extra></extra>",
         "hovertext": [
          "AL",
          "AK",
          "AZ",
          "AR",
          "CA",
          "CO",
          "CT",
          "DE",
          "FL",
          "GA",
          "HI",
          "ID",
          "IL",
          "IN",
          "IA",
          "KS",
          "KY",
          "LA",
          "ME",
          "MD",
          "MA",
          "MI",
          "MN",
          "MS",
          "MO",
          "MT",
          "NE",
          "NV",
          "NH",
          "NJ",
          "NM",
          "NY",
          "NC",
          "ND",
          "OH",
          "OK",
          "OR",
          "PA",
          "RI",
          "SC",
          "SD",
          "TN",
          "TX",
          "UT",
          "VT",
          "VA",
          "WA",
          "WV",
          "WI",
          "WY"
         ],
         "locationmode": "USA-states",
         "locations": [
          "AL",
          "AK",
          "AZ",
          "AR",
          "CA",
          "CO",
          "CT",
          "DE",
          "FL",
          "GA",
          "HI",
          "ID",
          "IL",
          "IN",
          "IA",
          "KS",
          "KY",
          "LA",
          "ME",
          "MD",
          "MA",
          "MI",
          "MN",
          "MS",
          "MO",
          "MT",
          "NE",
          "NV",
          "NH",
          "NJ",
          "NM",
          "NY",
          "NC",
          "ND",
          "OH",
          "OK",
          "OR",
          "PA",
          "RI",
          "SC",
          "SD",
          "TN",
          "TX",
          "UT",
          "VT",
          "VA",
          "WA",
          "WV",
          "WI",
          "WY"
         ],
         "name": "",
         "type": "choropleth",
         "z": {
          "bdata": "TkdchmiPuD9gjg7C2ambP0e02olwqL8/DF3BzIY4vz9l1wxXxtOwP7XxS2hbl7U/Tri0pMhUxT8vQQUK3+S3P2lOabmcsrk/wMt0TPlCuT/3/3oM2S6UPylOdjpL6LM/YLWDYnT/wT919K4huii/P87Fil9ROL8/djFpd1Xitz9gSVpd4MmwP7aB20PRmsQ/K/VMSRQPmj8jNV19QHK4P9/nniTvusY/0RvuBqmJwD9ulLgWTSG4PyLf6C2rtsQ/fiqhy0N9uD8pac7kkKe2P65/NYwzC7Y/QmYxy2jEuT9m1mlSWTCsP+k1JK7SSco/1Jk+WjX1vT+1zWwAM+jHP3PUWz+rr7A/5eLlsYFUxT9Tus+Ec3KzPxiMvPEQErA/0e5f+WzpoT/m5y3agY+/P23N8EQrv8Q/PWwsvjpruj9qdHMBaHDFP1QY9QFCTrk/xotCygqouD/4opC5Mc2jP5q2rB1+qZU/XxKmgdnUrT/IBYbRT1qnPwh4sWbXHrM/ZjrZUbnFtj9FKMV4nmmzPw==",
          "dtype": "f8"
         }
        },
        {
         "coloraxis": "coloraxis",
         "geo": "geo2",
         "hovertemplate": "<b>%{hovertext}</b><br><br>year=2021<br>state=%{location}<br>Deaths=%{z}<extra></extra>",
         "hovertext": [
          "AL",
          "AK",
          "AZ",
          "AR",
          "CA",
          "CO",
          "CT",
          "DE",
          "FL",
          "GA",
          "HI",
          "ID",
          "IL",
          "IN",
          "IA",
          "KS",
          "KY",
          "LA",
          "ME",
          "MD",
          "MA",
          "MI",
          "MN",
          "MS",
          "MO",
          "MT",
          "NE",
          "NV",
          "NH",
          "NJ",
          "NM",
          "NY",
          "NC",
          "ND",
          "OH",
          "OK",
          "OR",
          "PA",
          "RI",
          "SC",
          "SD",
          "TN",
          "TX",
          "UT",
          "VT",
          "VA",
          "WA",
          "WV",
          "WI",
          "WY"
         ],
         "locationmode": "USA-states",
         "locations": [
          "AL",
          "AK",
          "AZ",
          "AR",
          "CA",
          "CO",
          "CT",
          "DE",
          "FL",
          "GA",
          "HI",
          "ID",
          "IL",
          "IN",
          "IA",
          "KS",
          "KY",
          "LA",
          "ME",
          "MD",
          "MA",
          "MI",
          "MN",
          "MS",
          "MO",
          "MT",
          "NE",
          "NV",
          "NH",
          "NJ",
          "NM",
          "NY",
          "NC",
          "ND",
          "OH",
          "OK",
          "OR",
          "PA",
          "RI",
          "SC",
          "SD",
          "TN",
          "TX",
          "UT",
          "VT",
          "VA",
          "WA",
          "WV",
          "WI",
          "WY"
         ],
         "name": "",
         "type": "choropleth",
         "z": {
          "bdata": "UqFv9hpczT+DjFArW1y6P+h5kB06zso/BL/OfYD7xj8kqW2QRoHAP/Rr7PIobLg/JL8Si5Fctj+okLt2FUbBP07tdu2k8cc/k+YFsY5Xxz/Wx0PEx02sP9BqMoD5UMI/oQyuzTFPuj8dJLmjjAnEP8X1iPTws78/H0kISM0Vwj+V5O/WWRzKPwgPrm/nvcQ/YRxwPRMCtj+4V/Oc+hy4P3VTzB88wLw/JIe27HlexD8fy4NBoKO3P3HEdtACc8g/0d5j015nxT+3eZkWXYHGPxBdK0L8PLU/4VEeu5J0xT8+8pSQZy22P2cP1ChESLs/J0pOSLxGxD8+E/zSeGi7P3HMX03Tkb4/diwyWnRiuD9OHF2T0knGP+3stZK7EM0/5QNtPhX8uD9F2qxe5R/EP5NFBRK8FL4/ZXbryUQFxz/5xgVAUoK8P//S+ul+Vsk/Y1PizOKfxD+XUpd1K0azP3nf2Zbdgqo/XKMA5AIRvz/WF/fHYxq1P3AO1Aztfsw/Cbj2XpzBuT/YPAASTwjIPw==",
          "dtype": "f8"
         }
        },
        {
         "coloraxis": "coloraxis",
         "geo": "geo3",
         "hovertemplate": "<b>%{hovertext}</b><br><br>year=2022<br>state=%{location}<br>Deaths=%{z}<extra></extra>",
         "hovertext": [
          "AL",
          "AK",
          "AZ",
          "AR",
          "CA",
          "CO",
          "CT",
          "DE",
          "FL",
          "GA",
          "HI",
          "ID",
          "IL",
          "IN",
          "IA",
          "KS",
          "KY",
          "LA",
          "ME",
          "MD",
          "MA",
          "MI",
          "MN",
          "MS",
          "MO",
          "MT",
          "NE",
          "NV",
          "NH",
          "NJ",
          "NM",
          "NY",
          "NC",
          "ND",
          "OH",
          "OK",
          "OR",
          "PA",
          "RI",
          "SC",
          "SD",
          "TN",
          "TX",
          "UT",
          "VT",
          "VA",
          "WA",
          "WV",
          "WI",
          "WY"
         ],
         "locationmode": "USA-states",
         "locations": [
          "AL",
          "AK",
          "AZ",
          "AR",
          "CA",
          "CO",
          "CT",
          "DE",
          "FL",
          "GA",
          "HI",
          "ID",
          "IL",
          "IN",
          "IA",
          "KS",
          "KY",
          "LA",
          "ME",
          "MD",
          "MA",
          "MI",
          "MN",
          "MS",
          "MO",
          "MT",
          "NE",
          "NV",
          "NH",
          "NJ",
          "NM",
          "NY",
          "NC",
          "ND",
          "OH",
          "OK",
          "OR",
          "PA",
          "RI",
          "SC",
          "SD",
          "TN",
          "TX",
          "UT",
          "VT",
          "VA",
          "WA",
          "WV",
          "WI",
          "WY"
         ],
         "name": "",
         "type": "choropleth",
         "z": {
          "bdata": "mjSYDaP6tz9YniNjya+vPx9LDoQVO7s/RiGTGMqcvT+ru7FvS7CvPynslgal+a0/pjTxd+eAsj8wfRh7ZiC3P1P84VjEorg/nkEhsM+1tj8VB3YhW7anP3GVkeLCya4/orQ6bR+osz9VVaDjQbS3PzkIerBRhrQ/VwIRh0mouD9+FZklP8i/Pw1AX4hr37I/9ELvKkWntz/fGi7ox8GxP4jZm3u8jqM/xgCcoNoPvj/ugli+CWiwP7gVPyiKSLc/BcVXc/g7vT/dK48yT7CwPy6GO/6gmrM/9wABX6Xfuz9uq2578WuwP3Bi8mND6bE/69VDup7+wT8RcSo3gEO4PxRUFpshYbY/EGU7v/Rlqz9qN1u+bzK5P08oYby+q7w/F0nozw//sz8HawgY4DC4P8ZJAngXLrE/7xH3x5MDtz88LSZndFiyP7Tz7tcht7s/sSUF3gVirD9TETGruzOlP9GxROgNUqk/gGNOtm0+tT9Qq10N5vmwP3TvgHQfu8E/IDdl99BctD8/6fjG+hCzPw==",
          "dtype": "f8"
         }
        }
       ],
       "layout": {
        "annotations": [
         {
          "font": {},
          "showarrow": false,
          "text": "year=2020",
          "x": 0.15999999999999998,
          "xanchor": "center",
          "xref": "paper",
          "y": 1,
          "yanchor": "bottom",
          "yref": "paper"
         },
         {
          "font": {},
          "showarrow": false,
          "text": "year=2021",
          "x": 0.49999999999999994,
          "xanchor": "center",
          "xref": "paper",
          "y": 1,
          "yanchor": "bottom",
          "yref": "paper"
         },
         {
          "font": {},
          "showarrow": false,
          "text": "year=2022",
          "x": 0.8399999999999999,
          "xanchor": "center",
          "xref": "paper",
          "y": 1,
          "yanchor": "bottom",
          "yref": "paper"
         }
        ],
        "coloraxis": {
         "colorbar": {
          "title": {
           "text": "Deaths"
          }
         },
         "colorscale": [
          [
           0,
           "rgb(255,245,240)"
          ],
          [
           0.125,
           "rgb(254,224,210)"
          ],
          [
           0.25,
           "rgb(252,187,161)"
          ],
          [
           0.375,
           "rgb(252,146,114)"
          ],
          [
           0.5,
           "rgb(251,106,74)"
          ],
          [
           0.625,
           "rgb(239,59,44)"
          ],
          [
           0.75,
           "rgb(203,24,29)"
          ],
          [
           0.875,
           "rgb(165,15,21)"
          ],
          [
           1,
           "rgb(103,0,13)"
          ]
         ]
        },
        "geo": {
         "center": {},
         "domain": {
          "x": [
           0,
           0.31999999999999995
          ],
          "y": [
           0,
           1
          ]
         },
         "scope": "usa"
        },
        "geo2": {
         "center": {},
         "domain": {
          "x": [
           0.33999999999999997,
           0.6599999999999999
          ],
          "y": [
           0,
           1
          ]
         },
         "scope": "usa"
        },
        "geo3": {
         "center": {},
         "domain": {
          "x": [
           0.6799999999999999,
           0.9999999999999999
          ],
          "y": [
           0,
           1
          ]
         },
         "scope": "usa"
        },
        "legend": {
         "tracegroupgap": 0
        },
        "template": {
         "data": {
          "bar": [
           {
            "error_x": {
             "color": "#2a3f5f"
            },
            "error_y": {
             "color": "#2a3f5f"
            },
            "marker": {
             "line": {
              "color": "#E5ECF6",
              "width": 0.5
             },
             "pattern": {
              "fillmode": "overlay",
              "size": 10,
              "solidity": 0.2
             }
            },
            "type": "bar"
           }
          ],
          "barpolar": [
           {
            "marker": {
             "line": {
              "color": "#E5ECF6",
              "width": 0.5
             },
             "pattern": {
              "fillmode": "overlay",
              "size": 10,
              "solidity": 0.2
             }
            },
            "type": "barpolar"
           }
          ],
          "carpet": [
           {
            "aaxis": {
             "endlinecolor": "#2a3f5f",
             "gridcolor": "white",
             "linecolor": "white",
             "minorgridcolor": "white",
             "startlinecolor": "#2a3f5f"
            },
            "baxis": {
             "endlinecolor": "#2a3f5f",
             "gridcolor": "white",
             "linecolor": "white",
             "minorgridcolor": "white",
             "startlinecolor": "#2a3f5f"
            },
            "type": "carpet"
           }
          ],
          "choropleth": [
           {
            "colorbar": {
             "outlinewidth": 0,
             "ticks": ""
            },
            "type": "choropleth"
           }
          ],
          "contour": [
           {
            "colorbar": {
             "outlinewidth": 0,
             "ticks": ""
            },
            "colorscale": [
             [
              0,
              "#0d0887"
             ],
             [
              0.1111111111111111,
              "#46039f"
             ],
             [
              0.2222222222222222,
              "#7201a8"
             ],
             [
              0.3333333333333333,
              "#9c179e"
             ],
             [
              0.4444444444444444,
              "#bd3786"
             ],
             [
              0.5555555555555556,
              "#d8576b"
             ],
             [
              0.6666666666666666,
              "#ed7953"
             ],
             [
              0.7777777777777778,
              "#fb9f3a"
             ],
             [
              0.8888888888888888,
              "#fdca26"
             ],
             [
              1,
              "#f0f921"
             ]
            ],
            "type": "contour"
           }
          ],
          "contourcarpet": [
           {
            "colorbar": {
             "outlinewidth": 0,
             "ticks": ""
            },
            "type": "contourcarpet"
           }
          ],
          "heatmap": [
           {
            "colorbar": {
             "outlinewidth": 0,
             "ticks": ""
            },
            "colorscale": [
             [
              0,
              "#0d0887"
             ],
             [
              0.1111111111111111,
              "#46039f"
             ],
             [
              0.2222222222222222,
              "#7201a8"
             ],
             [
              0.3333333333333333,
              "#9c179e"
             ],
             [
              0.4444444444444444,
              "#bd3786"
             ],
             [
              0.5555555555555556,
              "#d8576b"
             ],
             [
              0.6666666666666666,
              "#ed7953"
             ],
             [
              0.7777777777777778,
              "#fb9f3a"
             ],
             [
              0.8888888888888888,
              "#fdca26"
             ],
             [
              1,
              "#f0f921"
             ]
            ],
            "type": "heatmap"
           }
          ],
          "histogram": [
           {
            "marker": {
             "pattern": {
              "fillmode": "overlay",
              "size": 10,
              "solidity": 0.2
             }
            },
            "type": "histogram"
           }
          ],
          "histogram2d": [
           {
            "colorbar": {
             "outlinewidth": 0,
             "ticks": ""
            },
            "colorscale": [
             [
              0,
              "#0d0887"
             ],
             [
              0.1111111111111111,
              "#46039f"
             ],
             [
              0.2222222222222222,
              "#7201a8"
             ],
             [
              0.3333333333333333,
              "#9c179e"
             ],
             [
              0.4444444444444444,
              "#bd3786"
             ],
             [
              0.5555555555555556,
              "#d8576b"
             ],
             [
              0.6666666666666666,
              "#ed7953"
             ],
             [
              0.7777777777777778,
              "#fb9f3a"
             ],
             [
              0.8888888888888888,
              "#fdca26"
             ],
             [
              1,
              "#f0f921"
             ]
            ],
            "type": "histogram2d"
           }
          ],
          "histogram2dcontour": [
           {
            "colorbar": {
             "outlinewidth": 0,
             "ticks": ""
            },
            "colorscale": [
             [
              0,
              "#0d0887"
             ],
             [
              0.1111111111111111,
              "#46039f"
             ],
             [
              0.2222222222222222,
              "#7201a8"
             ],
             [
              0.3333333333333333,
              "#9c179e"
             ],
             [
              0.4444444444444444,
              "#bd3786"
             ],
             [
              0.5555555555555556,
              "#d8576b"
             ],
             [
              0.6666666666666666,
              "#ed7953"
             ],
             [
              0.7777777777777778,
              "#fb9f3a"
             ],
             [
              0.8888888888888888,
              "#fdca26"
             ],
             [
              1,
              "#f0f921"
             ]
            ],
            "type": "histogram2dcontour"
           }
          ],
          "mesh3d": [
           {
            "colorbar": {
             "outlinewidth": 0,
             "ticks": ""
            },
            "type": "mesh3d"
           }
          ],
          "parcoords": [
           {
            "line": {
             "colorbar": {
              "outlinewidth": 0,
              "ticks": ""
             }
            },
            "type": "parcoords"
           }
          ],
          "pie": [
           {
            "automargin": true,
            "type": "pie"
           }
          ],
          "scatter": [
           {
            "fillpattern": {
             "fillmode": "overlay",
             "size": 10,
             "solidity": 0.2
            },
            "type": "scatter"
           }
          ],
          "scatter3d": [
           {
            "line": {
             "colorbar": {
              "outlinewidth": 0,
              "ticks": ""
             }
            },
            "marker": {
             "colorbar": {
              "outlinewidth": 0,
              "ticks": ""
             }
            },
            "type": "scatter3d"
           }
          ],
          "scattercarpet": [
           {
            "marker": {
             "colorbar": {
              "outlinewidth": 0,
              "ticks": ""
             }
            },
            "type": "scattercarpet"
           }
          ],
          "scattergeo": [
           {
            "marker": {
             "colorbar": {
              "outlinewidth": 0,
              "ticks": ""
             }
            },
            "type": "scattergeo"
           }
          ],
          "scattergl": [
           {
            "marker": {
             "colorbar": {
              "outlinewidth": 0,
              "ticks": ""
             }
            },
            "type": "scattergl"
           }
          ],
          "scattermap": [
           {
            "marker": {
             "colorbar": {
              "outlinewidth": 0,
              "ticks": ""
             }
            },
            "type": "scattermap"
           }
          ],
          "scattermapbox": [
           {
            "marker": {
             "colorbar": {
              "outlinewidth": 0,
              "ticks": ""
             }
            },
            "type": "scattermapbox"
           }
          ],
          "scatterpolar": [
           {
            "marker": {
             "colorbar": {
              "outlinewidth": 0,
              "ticks": ""
             }
            },
            "type": "scatterpolar"
           }
          ],
          "scatterpolargl": [
           {
            "marker": {
             "colorbar": {
              "outlinewidth": 0,
              "ticks": ""
             }
            },
            "type": "scatterpolargl"
           }
          ],
          "scatterternary": [
           {
            "marker": {
             "colorbar": {
              "outlinewidth": 0,
              "ticks": ""
             }
            },
            "type": "scatterternary"
           }
          ],
          "surface": [
           {
            "colorbar": {
             "outlinewidth": 0,
             "ticks": ""
            },
            "colorscale": [
             [
              0,
              "#0d0887"
             ],
             [
              0.1111111111111111,
              "#46039f"
             ],
             [
              0.2222222222222222,
              "#7201a8"
             ],
             [
              0.3333333333333333,
              "#9c179e"
             ],
             [
              0.4444444444444444,
              "#bd3786"
             ],
             [
              0.5555555555555556,
              "#d8576b"
             ],
             [
              0.6666666666666666,
              "#ed7953"
             ],
             [
              0.7777777777777778,
              "#fb9f3a"
             ],
             [
              0.8888888888888888,
              "#fdca26"
             ],
             [
              1,
              "#f0f921"
             ]
            ],
            "type": "surface"
           }
          ],
          "table": [
           {
            "cells": {
             "fill": {
              "color": "#EBF0F8"
             },
             "line": {
              "color": "white"
             }
            },
            "header": {
             "fill": {
              "color": "#C8D4E3"
             },
             "line": {
              "color": "white"
             }
            },
            "type": "table"
           }
          ]
         },
         "layout": {
          "annotationdefaults": {
           "arrowcolor": "#2a3f5f",
           "arrowhead": 0,
           "arrowwidth": 1
          },
          "autotypenumbers": "strict",
          "coloraxis": {
           "colorbar": {
            "outlinewidth": 0,
            "ticks": ""
           }
          },
          "colorscale": {
           "diverging": [
            [
             0,
             "#8e0152"
            ],
            [
             0.1,
             "#c51b7d"
            ],
            [
             0.2,
             "#de77ae"
            ],
            [
             0.3,
             "#f1b6da"
            ],
            [
             0.4,
             "#fde0ef"
            ],
            [
             0.5,
             "#f7f7f7"
            ],
            [
             0.6,
             "#e6f5d0"
            ],
            [
             0.7,
             "#b8e186"
            ],
            [
             0.8,
             "#7fbc41"
            ],
            [
             0.9,
             "#4d9221"
            ],
            [
             1,
             "#276419"
            ]
           ],
           "sequential": [
            [
             0,
             "#0d0887"
            ],
            [
             0.1111111111111111,
             "#46039f"
            ],
            [
             0.2222222222222222,
             "#7201a8"
            ],
            [
             0.3333333333333333,
             "#9c179e"
            ],
            [
             0.4444444444444444,
             "#bd3786"
            ],
            [
             0.5555555555555556,
             "#d8576b"
            ],
            [
             0.6666666666666666,
             "#ed7953"
            ],
            [
             0.7777777777777778,
             "#fb9f3a"
            ],
            [
             0.8888888888888888,
             "#fdca26"
            ],
            [
             1,
             "#f0f921"
            ]
           ],
           "sequentialminus": [
            [
             0,
             "#0d0887"
            ],
            [
             0.1111111111111111,
             "#46039f"
            ],
            [
             0.2222222222222222,
             "#7201a8"
            ],
            [
             0.3333333333333333,
             "#9c179e"
            ],
            [
             0.4444444444444444,
             "#bd3786"
            ],
            [
             0.5555555555555556,
             "#d8576b"
            ],
            [
             0.6666666666666666,
             "#ed7953"
            ],
            [
             0.7777777777777778,
             "#fb9f3a"
            ],
            [
             0.8888888888888888,
             "#fdca26"
            ],
            [
             1,
             "#f0f921"
            ]
           ]
          },
          "colorway": [
           "#636efa",
           "#EF553B",
           "#00cc96",
           "#ab63fa",
           "#FFA15A",
           "#19d3f3",
           "#FF6692",
           "#B6E880",
           "#FF97FF",
           "#FECB52"
          ],
          "font": {
           "color": "#2a3f5f"
          },
          "geo": {
           "bgcolor": "white",
           "lakecolor": "white",
           "landcolor": "#E5ECF6",
           "showlakes": true,
           "showland": true,
           "subunitcolor": "white"
          },
          "hoverlabel": {
           "align": "left"
          },
          "hovermode": "closest",
          "mapbox": {
           "style": "light"
          },
          "paper_bgcolor": "white",
          "plot_bgcolor": "#E5ECF6",
          "polar": {
           "angularaxis": {
            "gridcolor": "white",
            "linecolor": "white",
            "ticks": ""
           },
           "bgcolor": "#E5ECF6",
           "radialaxis": {
            "gridcolor": "white",
            "linecolor": "white",
            "ticks": ""
           }
          },
          "scene": {
           "xaxis": {
            "backgroundcolor": "#E5ECF6",
            "gridcolor": "white",
            "gridwidth": 2,
            "linecolor": "white",
            "showbackground": true,
            "ticks": "",
            "zerolinecolor": "white"
           },
           "yaxis": {
            "backgroundcolor": "#E5ECF6",
            "gridcolor": "white",
            "gridwidth": 2,
            "linecolor": "white",
            "showbackground": true,
            "ticks": "",
            "zerolinecolor": "white"
           },
           "zaxis": {
            "backgroundcolor": "#E5ECF6",
            "gridcolor": "white",
            "gridwidth": 2,
            "linecolor": "white",
            "showbackground": true,
            "ticks": "",
            "zerolinecolor": "white"
           }
          },
          "shapedefaults": {
           "line": {
            "color": "#2a3f5f"
           }
          },
          "ternary": {
           "aaxis": {
            "gridcolor": "white",
            "linecolor": "white",
            "ticks": ""
           },
           "baxis": {
            "gridcolor": "white",
            "linecolor": "white",
            "ticks": ""
           },
           "bgcolor": "#E5ECF6",
           "caxis": {
            "gridcolor": "white",
            "linecolor": "white",
            "ticks": ""
           }
          },
          "title": {
           "x": 0.05
          },
          "xaxis": {
           "automargin": true,
           "gridcolor": "white",
           "linecolor": "white",
           "ticks": "",
           "title": {
            "standoff": 15
           },
           "zerolinecolor": "white",
           "zerolinewidth": 2
          },
          "yaxis": {
           "automargin": true,
           "gridcolor": "white",
           "linecolor": "white",
           "ticks": "",
           "title": {
            "standoff": 15
           },
           "zerolinecolor": "white",
           "zerolinewidth": 2
          }
         }
        },
        "title": {
         "text": "Yearly New COVID-19 Deaths per State in the U.S."
        }
       }
      }
     },
     "metadata": {},
     "output_type": "display_data"
    }
   ],
   "source": [
    "#Gráficos de mortes por estado por ano nos USA\n",
    "fig = px.choropleth(\n",
    "    merged_df,\n",
    "    locations=\"state\",\n",
    "    locationmode=\"USA-states\",\n",
    "    color=\"deaths_per_hundred\",\n",
    "    labels={\"deaths_per_hundred\": \"Deaths\"},\n",
    "    hover_name=\"state\",\n",
    "    color_continuous_scale=\"Reds\",\n",
    "    scope=\"usa\",\n",
    "    facet_col=\"year\",\n",
    "    title=\"Yearly New COVID-19 Deaths per State in the U.S.\"\n",
    ")\n",
    "\n",
    "#Mostrar mapa\n",
    "fig.show()"
   ]
  },
  {
   "cell_type": "code",
   "execution_count": 124,
   "metadata": {},
   "outputs": [
    {
     "data": {
      "text/html": [
       "<div>\n",
       "<style scoped>\n",
       "    .dataframe tbody tr th:only-of-type {\n",
       "        vertical-align: middle;\n",
       "    }\n",
       "\n",
       "    .dataframe tbody tr th {\n",
       "        vertical-align: top;\n",
       "    }\n",
       "\n",
       "    .dataframe thead th {\n",
       "        text-align: right;\n",
       "    }\n",
       "</style>\n",
       "<table border=\"1\" class=\"dataframe\">\n",
       "  <thead>\n",
       "    <tr style=\"text-align: right;\">\n",
       "      <th></th>\n",
       "      <th>date</th>\n",
       "      <th>state</th>\n",
       "      <th>fips</th>\n",
       "      <th>cases</th>\n",
       "      <th>deaths</th>\n",
       "      <th>year</th>\n",
       "      <th>month</th>\n",
       "    </tr>\n",
       "  </thead>\n",
       "  <tbody>\n",
       "    <tr>\n",
       "      <th>586</th>\n",
       "      <td>2020-03-13</td>\n",
       "      <td>Alabama</td>\n",
       "      <td>1</td>\n",
       "      <td>6</td>\n",
       "      <td>0</td>\n",
       "      <td>2020</td>\n",
       "      <td>3</td>\n",
       "    </tr>\n",
       "    <tr>\n",
       "      <th>637</th>\n",
       "      <td>2020-03-14</td>\n",
       "      <td>Alabama</td>\n",
       "      <td>1</td>\n",
       "      <td>12</td>\n",
       "      <td>0</td>\n",
       "      <td>2020</td>\n",
       "      <td>3</td>\n",
       "    </tr>\n",
       "    <tr>\n",
       "      <th>689</th>\n",
       "      <td>2020-03-15</td>\n",
       "      <td>Alabama</td>\n",
       "      <td>1</td>\n",
       "      <td>23</td>\n",
       "      <td>0</td>\n",
       "      <td>2020</td>\n",
       "      <td>3</td>\n",
       "    </tr>\n",
       "    <tr>\n",
       "      <th>742</th>\n",
       "      <td>2020-03-16</td>\n",
       "      <td>Alabama</td>\n",
       "      <td>1</td>\n",
       "      <td>29</td>\n",
       "      <td>0</td>\n",
       "      <td>2020</td>\n",
       "      <td>3</td>\n",
       "    </tr>\n",
       "    <tr>\n",
       "      <th>795</th>\n",
       "      <td>2020-03-17</td>\n",
       "      <td>Alabama</td>\n",
       "      <td>1</td>\n",
       "      <td>39</td>\n",
       "      <td>0</td>\n",
       "      <td>2020</td>\n",
       "      <td>3</td>\n",
       "    </tr>\n",
       "    <tr>\n",
       "      <th>...</th>\n",
       "      <td>...</td>\n",
       "      <td>...</td>\n",
       "      <td>...</td>\n",
       "      <td>...</td>\n",
       "      <td>...</td>\n",
       "      <td>...</td>\n",
       "      <td>...</td>\n",
       "    </tr>\n",
       "    <tr>\n",
       "      <th>57125</th>\n",
       "      <td>2022-12-27</td>\n",
       "      <td>Wyoming</td>\n",
       "      <td>56</td>\n",
       "      <td>182847</td>\n",
       "      <td>1959</td>\n",
       "      <td>2022</td>\n",
       "      <td>12</td>\n",
       "    </tr>\n",
       "    <tr>\n",
       "      <th>57181</th>\n",
       "      <td>2022-12-28</td>\n",
       "      <td>Wyoming</td>\n",
       "      <td>56</td>\n",
       "      <td>182847</td>\n",
       "      <td>1959</td>\n",
       "      <td>2022</td>\n",
       "      <td>12</td>\n",
       "    </tr>\n",
       "    <tr>\n",
       "      <th>57237</th>\n",
       "      <td>2022-12-29</td>\n",
       "      <td>Wyoming</td>\n",
       "      <td>56</td>\n",
       "      <td>182847</td>\n",
       "      <td>1959</td>\n",
       "      <td>2022</td>\n",
       "      <td>12</td>\n",
       "    </tr>\n",
       "    <tr>\n",
       "      <th>57293</th>\n",
       "      <td>2022-12-30</td>\n",
       "      <td>Wyoming</td>\n",
       "      <td>56</td>\n",
       "      <td>182847</td>\n",
       "      <td>1959</td>\n",
       "      <td>2022</td>\n",
       "      <td>12</td>\n",
       "    </tr>\n",
       "    <tr>\n",
       "      <th>57349</th>\n",
       "      <td>2022-12-31</td>\n",
       "      <td>Wyoming</td>\n",
       "      <td>56</td>\n",
       "      <td>182847</td>\n",
       "      <td>1959</td>\n",
       "      <td>2022</td>\n",
       "      <td>12</td>\n",
       "    </tr>\n",
       "  </tbody>\n",
       "</table>\n",
       "<p>57350 rows × 7 columns</p>\n",
       "</div>"
      ],
      "text/plain": [
       "            date    state  fips   cases  deaths  year  month\n",
       "586   2020-03-13  Alabama     1       6       0  2020      3\n",
       "637   2020-03-14  Alabama     1      12       0  2020      3\n",
       "689   2020-03-15  Alabama     1      23       0  2020      3\n",
       "742   2020-03-16  Alabama     1      29       0  2020      3\n",
       "795   2020-03-17  Alabama     1      39       0  2020      3\n",
       "...          ...      ...   ...     ...     ...   ...    ...\n",
       "57125 2022-12-27  Wyoming    56  182847    1959  2022     12\n",
       "57181 2022-12-28  Wyoming    56  182847    1959  2022     12\n",
       "57237 2022-12-29  Wyoming    56  182847    1959  2022     12\n",
       "57293 2022-12-30  Wyoming    56  182847    1959  2022     12\n",
       "57349 2022-12-31  Wyoming    56  182847    1959  2022     12\n",
       "\n",
       "[57350 rows x 7 columns]"
      ]
     },
     "execution_count": 124,
     "metadata": {},
     "output_type": "execute_result"
    }
   ],
   "source": [
    "#retirar o mês de cada \n",
    "covid_df[\"month\"] = covid_df[\"date\"].dt.month\n",
    "\n",
    "sorted_season_df = covid_df.sort_values(by=[\"state\", \"year\", \"month\"])\n",
    "\n",
    "sorted_season_df"
   ]
  },
  {
   "cell_type": "code",
   "execution_count": 125,
   "metadata": {},
   "outputs": [
    {
     "data": {
      "text/html": [
       "<div>\n",
       "<style scoped>\n",
       "    .dataframe tbody tr th:only-of-type {\n",
       "        vertical-align: middle;\n",
       "    }\n",
       "\n",
       "    .dataframe tbody tr th {\n",
       "        vertical-align: top;\n",
       "    }\n",
       "\n",
       "    .dataframe thead th {\n",
       "        text-align: right;\n",
       "    }\n",
       "</style>\n",
       "<table border=\"1\" class=\"dataframe\">\n",
       "  <thead>\n",
       "    <tr style=\"text-align: right;\">\n",
       "      <th></th>\n",
       "      <th>date</th>\n",
       "      <th>state</th>\n",
       "      <th>fips</th>\n",
       "      <th>cases</th>\n",
       "      <th>deaths</th>\n",
       "      <th>year</th>\n",
       "      <th>month</th>\n",
       "    </tr>\n",
       "  </thead>\n",
       "  <tbody>\n",
       "    <tr>\n",
       "      <th>586</th>\n",
       "      <td>2020-03-13</td>\n",
       "      <td>Alabama</td>\n",
       "      <td>1</td>\n",
       "      <td>6</td>\n",
       "      <td>0</td>\n",
       "      <td>2020</td>\n",
       "      <td>Spring</td>\n",
       "    </tr>\n",
       "    <tr>\n",
       "      <th>637</th>\n",
       "      <td>2020-03-14</td>\n",
       "      <td>Alabama</td>\n",
       "      <td>1</td>\n",
       "      <td>12</td>\n",
       "      <td>0</td>\n",
       "      <td>2020</td>\n",
       "      <td>Spring</td>\n",
       "    </tr>\n",
       "    <tr>\n",
       "      <th>689</th>\n",
       "      <td>2020-03-15</td>\n",
       "      <td>Alabama</td>\n",
       "      <td>1</td>\n",
       "      <td>23</td>\n",
       "      <td>0</td>\n",
       "      <td>2020</td>\n",
       "      <td>Spring</td>\n",
       "    </tr>\n",
       "    <tr>\n",
       "      <th>742</th>\n",
       "      <td>2020-03-16</td>\n",
       "      <td>Alabama</td>\n",
       "      <td>1</td>\n",
       "      <td>29</td>\n",
       "      <td>0</td>\n",
       "      <td>2020</td>\n",
       "      <td>Spring</td>\n",
       "    </tr>\n",
       "    <tr>\n",
       "      <th>795</th>\n",
       "      <td>2020-03-17</td>\n",
       "      <td>Alabama</td>\n",
       "      <td>1</td>\n",
       "      <td>39</td>\n",
       "      <td>0</td>\n",
       "      <td>2020</td>\n",
       "      <td>Spring</td>\n",
       "    </tr>\n",
       "    <tr>\n",
       "      <th>...</th>\n",
       "      <td>...</td>\n",
       "      <td>...</td>\n",
       "      <td>...</td>\n",
       "      <td>...</td>\n",
       "      <td>...</td>\n",
       "      <td>...</td>\n",
       "      <td>...</td>\n",
       "    </tr>\n",
       "    <tr>\n",
       "      <th>57125</th>\n",
       "      <td>2022-12-27</td>\n",
       "      <td>Wyoming</td>\n",
       "      <td>56</td>\n",
       "      <td>182847</td>\n",
       "      <td>1959</td>\n",
       "      <td>2022</td>\n",
       "      <td>Winter</td>\n",
       "    </tr>\n",
       "    <tr>\n",
       "      <th>57181</th>\n",
       "      <td>2022-12-28</td>\n",
       "      <td>Wyoming</td>\n",
       "      <td>56</td>\n",
       "      <td>182847</td>\n",
       "      <td>1959</td>\n",
       "      <td>2022</td>\n",
       "      <td>Winter</td>\n",
       "    </tr>\n",
       "    <tr>\n",
       "      <th>57237</th>\n",
       "      <td>2022-12-29</td>\n",
       "      <td>Wyoming</td>\n",
       "      <td>56</td>\n",
       "      <td>182847</td>\n",
       "      <td>1959</td>\n",
       "      <td>2022</td>\n",
       "      <td>Winter</td>\n",
       "    </tr>\n",
       "    <tr>\n",
       "      <th>57293</th>\n",
       "      <td>2022-12-30</td>\n",
       "      <td>Wyoming</td>\n",
       "      <td>56</td>\n",
       "      <td>182847</td>\n",
       "      <td>1959</td>\n",
       "      <td>2022</td>\n",
       "      <td>Winter</td>\n",
       "    </tr>\n",
       "    <tr>\n",
       "      <th>57349</th>\n",
       "      <td>2022-12-31</td>\n",
       "      <td>Wyoming</td>\n",
       "      <td>56</td>\n",
       "      <td>182847</td>\n",
       "      <td>1959</td>\n",
       "      <td>2022</td>\n",
       "      <td>Winter</td>\n",
       "    </tr>\n",
       "  </tbody>\n",
       "</table>\n",
       "<p>57350 rows × 7 columns</p>\n",
       "</div>"
      ],
      "text/plain": [
       "            date    state  fips   cases  deaths  year   month\n",
       "586   2020-03-13  Alabama     1       6       0  2020  Spring\n",
       "637   2020-03-14  Alabama     1      12       0  2020  Spring\n",
       "689   2020-03-15  Alabama     1      23       0  2020  Spring\n",
       "742   2020-03-16  Alabama     1      29       0  2020  Spring\n",
       "795   2020-03-17  Alabama     1      39       0  2020  Spring\n",
       "...          ...      ...   ...     ...     ...   ...     ...\n",
       "57125 2022-12-27  Wyoming    56  182847    1959  2022  Winter\n",
       "57181 2022-12-28  Wyoming    56  182847    1959  2022  Winter\n",
       "57237 2022-12-29  Wyoming    56  182847    1959  2022  Winter\n",
       "57293 2022-12-30  Wyoming    56  182847    1959  2022  Winter\n",
       "57349 2022-12-31  Wyoming    56  182847    1959  2022  Winter\n",
       "\n",
       "[57350 rows x 7 columns]"
      ]
     },
     "execution_count": 125,
     "metadata": {},
     "output_type": "execute_result"
    }
   ],
   "source": [
    "#converter os meses para as respetivas estações\n",
    "winter = [12, 1, 2]\n",
    "spring = [3, 4, 5]\n",
    "summer = [6, 7, 8]\n",
    "fall = [9, 10, 11]\n",
    "\n",
    "sorted_season_df[\"month\"] = sorted_season_df[\"month\"].apply(lambda x: \"Winter\" if x in winter else\n",
    "                                      \"Spring\" if x in spring else\n",
    "                                       \"Summer\" if x in summer else\n",
    "                                        \"Fall\")\n",
    "\n",
    "sorted_season_df"
   ]
  },
  {
   "cell_type": "code",
   "execution_count": 126,
   "metadata": {},
   "outputs": [],
   "source": [
    "#agrupar o número de casos estação\n",
    "cases_per_season = sorted_season_df.groupby([\"month\"])[\"cases\"].sum()\n",
    "deaths_per_season = sorted_season_df.groupby(\"month\")[\"deaths\"].sum()\n",
    "\n",
    "#converter as séries de volta a dataframes e reindexar para obter o nome das colunas\n",
    "deaths_per_season = deaths_per_season.to_frame().reset_index()\n",
    "cases_per_season = cases_per_season.to_frame().reset_index()"
   ]
  },
  {
   "cell_type": "code",
   "execution_count": 127,
   "metadata": {},
   "outputs": [
    {
     "data": {
      "application/vnd.plotly.v1+json": {
       "config": {
        "plotlyServerURL": "https://plot.ly"
       },
       "data": [
        {
         "domain": {
          "x": [
           0,
           0.45
          ],
          "y": [
           0,
           1
          ]
         },
         "hole": 0.4,
         "labels": [
          "Fall",
          "Spring",
          "Summer",
          "Winter"
         ],
         "name": "Cases Per Season",
         "type": "pie",
         "values": [
          13640399972,
          10393007134,
          11781024784,
          10902071367
         ]
        },
        {
         "domain": {
          "x": [
           0.55,
           1
          ],
          "y": [
           0,
           1
          ]
         },
         "hole": 0.4,
         "labels": [
          "Fall",
          "Spring",
          "Summer",
          "Winter"
         ],
         "name": "Deaths Per Season",
         "type": "pie",
         "values": {
          "bdata": "Kb3dCru1sgg7FLsJIvW4CA==",
          "dtype": "i4"
         }
        }
       ],
       "layout": {
        "annotations": [
         {
          "font": {
           "size": 20
          },
          "showarrow": false,
          "text": "Cases",
          "x": 0.195,
          "y": 0.5
         },
         {
          "font": {
           "size": 20
          },
          "showarrow": false,
          "text": "Deaths",
          "x": 0.812,
          "y": 0.5
         }
        ],
        "template": {
         "data": {
          "bar": [
           {
            "error_x": {
             "color": "#2a3f5f"
            },
            "error_y": {
             "color": "#2a3f5f"
            },
            "marker": {
             "line": {
              "color": "#E5ECF6",
              "width": 0.5
             },
             "pattern": {
              "fillmode": "overlay",
              "size": 10,
              "solidity": 0.2
             }
            },
            "type": "bar"
           }
          ],
          "barpolar": [
           {
            "marker": {
             "line": {
              "color": "#E5ECF6",
              "width": 0.5
             },
             "pattern": {
              "fillmode": "overlay",
              "size": 10,
              "solidity": 0.2
             }
            },
            "type": "barpolar"
           }
          ],
          "carpet": [
           {
            "aaxis": {
             "endlinecolor": "#2a3f5f",
             "gridcolor": "white",
             "linecolor": "white",
             "minorgridcolor": "white",
             "startlinecolor": "#2a3f5f"
            },
            "baxis": {
             "endlinecolor": "#2a3f5f",
             "gridcolor": "white",
             "linecolor": "white",
             "minorgridcolor": "white",
             "startlinecolor": "#2a3f5f"
            },
            "type": "carpet"
           }
          ],
          "choropleth": [
           {
            "colorbar": {
             "outlinewidth": 0,
             "ticks": ""
            },
            "type": "choropleth"
           }
          ],
          "contour": [
           {
            "colorbar": {
             "outlinewidth": 0,
             "ticks": ""
            },
            "colorscale": [
             [
              0,
              "#0d0887"
             ],
             [
              0.1111111111111111,
              "#46039f"
             ],
             [
              0.2222222222222222,
              "#7201a8"
             ],
             [
              0.3333333333333333,
              "#9c179e"
             ],
             [
              0.4444444444444444,
              "#bd3786"
             ],
             [
              0.5555555555555556,
              "#d8576b"
             ],
             [
              0.6666666666666666,
              "#ed7953"
             ],
             [
              0.7777777777777778,
              "#fb9f3a"
             ],
             [
              0.8888888888888888,
              "#fdca26"
             ],
             [
              1,
              "#f0f921"
             ]
            ],
            "type": "contour"
           }
          ],
          "contourcarpet": [
           {
            "colorbar": {
             "outlinewidth": 0,
             "ticks": ""
            },
            "type": "contourcarpet"
           }
          ],
          "heatmap": [
           {
            "colorbar": {
             "outlinewidth": 0,
             "ticks": ""
            },
            "colorscale": [
             [
              0,
              "#0d0887"
             ],
             [
              0.1111111111111111,
              "#46039f"
             ],
             [
              0.2222222222222222,
              "#7201a8"
             ],
             [
              0.3333333333333333,
              "#9c179e"
             ],
             [
              0.4444444444444444,
              "#bd3786"
             ],
             [
              0.5555555555555556,
              "#d8576b"
             ],
             [
              0.6666666666666666,
              "#ed7953"
             ],
             [
              0.7777777777777778,
              "#fb9f3a"
             ],
             [
              0.8888888888888888,
              "#fdca26"
             ],
             [
              1,
              "#f0f921"
             ]
            ],
            "type": "heatmap"
           }
          ],
          "histogram": [
           {
            "marker": {
             "pattern": {
              "fillmode": "overlay",
              "size": 10,
              "solidity": 0.2
             }
            },
            "type": "histogram"
           }
          ],
          "histogram2d": [
           {
            "colorbar": {
             "outlinewidth": 0,
             "ticks": ""
            },
            "colorscale": [
             [
              0,
              "#0d0887"
             ],
             [
              0.1111111111111111,
              "#46039f"
             ],
             [
              0.2222222222222222,
              "#7201a8"
             ],
             [
              0.3333333333333333,
              "#9c179e"
             ],
             [
              0.4444444444444444,
              "#bd3786"
             ],
             [
              0.5555555555555556,
              "#d8576b"
             ],
             [
              0.6666666666666666,
              "#ed7953"
             ],
             [
              0.7777777777777778,
              "#fb9f3a"
             ],
             [
              0.8888888888888888,
              "#fdca26"
             ],
             [
              1,
              "#f0f921"
             ]
            ],
            "type": "histogram2d"
           }
          ],
          "histogram2dcontour": [
           {
            "colorbar": {
             "outlinewidth": 0,
             "ticks": ""
            },
            "colorscale": [
             [
              0,
              "#0d0887"
             ],
             [
              0.1111111111111111,
              "#46039f"
             ],
             [
              0.2222222222222222,
              "#7201a8"
             ],
             [
              0.3333333333333333,
              "#9c179e"
             ],
             [
              0.4444444444444444,
              "#bd3786"
             ],
             [
              0.5555555555555556,
              "#d8576b"
             ],
             [
              0.6666666666666666,
              "#ed7953"
             ],
             [
              0.7777777777777778,
              "#fb9f3a"
             ],
             [
              0.8888888888888888,
              "#fdca26"
             ],
             [
              1,
              "#f0f921"
             ]
            ],
            "type": "histogram2dcontour"
           }
          ],
          "mesh3d": [
           {
            "colorbar": {
             "outlinewidth": 0,
             "ticks": ""
            },
            "type": "mesh3d"
           }
          ],
          "parcoords": [
           {
            "line": {
             "colorbar": {
              "outlinewidth": 0,
              "ticks": ""
             }
            },
            "type": "parcoords"
           }
          ],
          "pie": [
           {
            "automargin": true,
            "type": "pie"
           }
          ],
          "scatter": [
           {
            "fillpattern": {
             "fillmode": "overlay",
             "size": 10,
             "solidity": 0.2
            },
            "type": "scatter"
           }
          ],
          "scatter3d": [
           {
            "line": {
             "colorbar": {
              "outlinewidth": 0,
              "ticks": ""
             }
            },
            "marker": {
             "colorbar": {
              "outlinewidth": 0,
              "ticks": ""
             }
            },
            "type": "scatter3d"
           }
          ],
          "scattercarpet": [
           {
            "marker": {
             "colorbar": {
              "outlinewidth": 0,
              "ticks": ""
             }
            },
            "type": "scattercarpet"
           }
          ],
          "scattergeo": [
           {
            "marker": {
             "colorbar": {
              "outlinewidth": 0,
              "ticks": ""
             }
            },
            "type": "scattergeo"
           }
          ],
          "scattergl": [
           {
            "marker": {
             "colorbar": {
              "outlinewidth": 0,
              "ticks": ""
             }
            },
            "type": "scattergl"
           }
          ],
          "scattermap": [
           {
            "marker": {
             "colorbar": {
              "outlinewidth": 0,
              "ticks": ""
             }
            },
            "type": "scattermap"
           }
          ],
          "scattermapbox": [
           {
            "marker": {
             "colorbar": {
              "outlinewidth": 0,
              "ticks": ""
             }
            },
            "type": "scattermapbox"
           }
          ],
          "scatterpolar": [
           {
            "marker": {
             "colorbar": {
              "outlinewidth": 0,
              "ticks": ""
             }
            },
            "type": "scatterpolar"
           }
          ],
          "scatterpolargl": [
           {
            "marker": {
             "colorbar": {
              "outlinewidth": 0,
              "ticks": ""
             }
            },
            "type": "scatterpolargl"
           }
          ],
          "scatterternary": [
           {
            "marker": {
             "colorbar": {
              "outlinewidth": 0,
              "ticks": ""
             }
            },
            "type": "scatterternary"
           }
          ],
          "surface": [
           {
            "colorbar": {
             "outlinewidth": 0,
             "ticks": ""
            },
            "colorscale": [
             [
              0,
              "#0d0887"
             ],
             [
              0.1111111111111111,
              "#46039f"
             ],
             [
              0.2222222222222222,
              "#7201a8"
             ],
             [
              0.3333333333333333,
              "#9c179e"
             ],
             [
              0.4444444444444444,
              "#bd3786"
             ],
             [
              0.5555555555555556,
              "#d8576b"
             ],
             [
              0.6666666666666666,
              "#ed7953"
             ],
             [
              0.7777777777777778,
              "#fb9f3a"
             ],
             [
              0.8888888888888888,
              "#fdca26"
             ],
             [
              1,
              "#f0f921"
             ]
            ],
            "type": "surface"
           }
          ],
          "table": [
           {
            "cells": {
             "fill": {
              "color": "#EBF0F8"
             },
             "line": {
              "color": "white"
             }
            },
            "header": {
             "fill": {
              "color": "#C8D4E3"
             },
             "line": {
              "color": "white"
             }
            },
            "type": "table"
           }
          ]
         },
         "layout": {
          "annotationdefaults": {
           "arrowcolor": "#2a3f5f",
           "arrowhead": 0,
           "arrowwidth": 1
          },
          "autotypenumbers": "strict",
          "coloraxis": {
           "colorbar": {
            "outlinewidth": 0,
            "ticks": ""
           }
          },
          "colorscale": {
           "diverging": [
            [
             0,
             "#8e0152"
            ],
            [
             0.1,
             "#c51b7d"
            ],
            [
             0.2,
             "#de77ae"
            ],
            [
             0.3,
             "#f1b6da"
            ],
            [
             0.4,
             "#fde0ef"
            ],
            [
             0.5,
             "#f7f7f7"
            ],
            [
             0.6,
             "#e6f5d0"
            ],
            [
             0.7,
             "#b8e186"
            ],
            [
             0.8,
             "#7fbc41"
            ],
            [
             0.9,
             "#4d9221"
            ],
            [
             1,
             "#276419"
            ]
           ],
           "sequential": [
            [
             0,
             "#0d0887"
            ],
            [
             0.1111111111111111,
             "#46039f"
            ],
            [
             0.2222222222222222,
             "#7201a8"
            ],
            [
             0.3333333333333333,
             "#9c179e"
            ],
            [
             0.4444444444444444,
             "#bd3786"
            ],
            [
             0.5555555555555556,
             "#d8576b"
            ],
            [
             0.6666666666666666,
             "#ed7953"
            ],
            [
             0.7777777777777778,
             "#fb9f3a"
            ],
            [
             0.8888888888888888,
             "#fdca26"
            ],
            [
             1,
             "#f0f921"
            ]
           ],
           "sequentialminus": [
            [
             0,
             "#0d0887"
            ],
            [
             0.1111111111111111,
             "#46039f"
            ],
            [
             0.2222222222222222,
             "#7201a8"
            ],
            [
             0.3333333333333333,
             "#9c179e"
            ],
            [
             0.4444444444444444,
             "#bd3786"
            ],
            [
             0.5555555555555556,
             "#d8576b"
            ],
            [
             0.6666666666666666,
             "#ed7953"
            ],
            [
             0.7777777777777778,
             "#fb9f3a"
            ],
            [
             0.8888888888888888,
             "#fdca26"
            ],
            [
             1,
             "#f0f921"
            ]
           ]
          },
          "colorway": [
           "#636efa",
           "#EF553B",
           "#00cc96",
           "#ab63fa",
           "#FFA15A",
           "#19d3f3",
           "#FF6692",
           "#B6E880",
           "#FF97FF",
           "#FECB52"
          ],
          "font": {
           "color": "#2a3f5f"
          },
          "geo": {
           "bgcolor": "white",
           "lakecolor": "white",
           "landcolor": "#E5ECF6",
           "showlakes": true,
           "showland": true,
           "subunitcolor": "white"
          },
          "hoverlabel": {
           "align": "left"
          },
          "hovermode": "closest",
          "mapbox": {
           "style": "light"
          },
          "paper_bgcolor": "white",
          "plot_bgcolor": "#E5ECF6",
          "polar": {
           "angularaxis": {
            "gridcolor": "white",
            "linecolor": "white",
            "ticks": ""
           },
           "bgcolor": "#E5ECF6",
           "radialaxis": {
            "gridcolor": "white",
            "linecolor": "white",
            "ticks": ""
           }
          },
          "scene": {
           "xaxis": {
            "backgroundcolor": "#E5ECF6",
            "gridcolor": "white",
            "gridwidth": 2,
            "linecolor": "white",
            "showbackground": true,
            "ticks": "",
            "zerolinecolor": "white"
           },
           "yaxis": {
            "backgroundcolor": "#E5ECF6",
            "gridcolor": "white",
            "gridwidth": 2,
            "linecolor": "white",
            "showbackground": true,
            "ticks": "",
            "zerolinecolor": "white"
           },
           "zaxis": {
            "backgroundcolor": "#E5ECF6",
            "gridcolor": "white",
            "gridwidth": 2,
            "linecolor": "white",
            "showbackground": true,
            "ticks": "",
            "zerolinecolor": "white"
           }
          },
          "shapedefaults": {
           "line": {
            "color": "#2a3f5f"
           }
          },
          "ternary": {
           "aaxis": {
            "gridcolor": "white",
            "linecolor": "white",
            "ticks": ""
           },
           "baxis": {
            "gridcolor": "white",
            "linecolor": "white",
            "ticks": ""
           },
           "bgcolor": "#E5ECF6",
           "caxis": {
            "gridcolor": "white",
            "linecolor": "white",
            "ticks": ""
           }
          },
          "title": {
           "x": 0.05
          },
          "xaxis": {
           "automargin": true,
           "gridcolor": "white",
           "linecolor": "white",
           "ticks": "",
           "title": {
            "standoff": 15
           },
           "zerolinecolor": "white",
           "zerolinewidth": 2
          },
          "yaxis": {
           "automargin": true,
           "gridcolor": "white",
           "linecolor": "white",
           "ticks": "",
           "title": {
            "standoff": 15
           },
           "zerolinecolor": "white",
           "zerolinewidth": 2
          }
         }
        },
        "title": {
         "text": "Cases and Deaths by COVID-19 by Season (US)"
        }
       }
      }
     },
     "metadata": {},
     "output_type": "display_data"
    }
   ],
   "source": [
    "#criar 2 gráficos lado a lado para comparar casos e mortes por estação\n",
    "fig = make_subplots(rows=1, cols=2, specs=[[{\"type\": \"domain\"}, {\"type\": \"domain\"}]])\n",
    "\n",
    "#adicionar a informação aos gráficos\n",
    "fig.add_trace(go.Pie(labels=cases_per_season[\"month\"], values=cases_per_season[\"cases\"], name= \"Cases Per Season\"), 1, 1)\n",
    "\n",
    "fig.add_trace(go.Pie(labels=deaths_per_season[\"month\"], values=deaths_per_season[\"deaths\"], name= \"Deaths Per Season\"), 1, 2)\n",
    "\n",
    "#criar uma abertura no centro do gráfico\n",
    "fig.update_traces(hole =.4)\n",
    "\n",
    "#costumização de aspetos do gráfico\n",
    "fig.update_layout(title_text= \"Cases and Deaths by COVID-19 by Season (US)\",\n",
    "                  annotations = [dict(text=\"Cases\", x= 0.195, y=0.5, showarrow=False, font_size=20),\n",
    "                                  dict(text=\"Deaths\", x =0.812, y= 0.5, showarrow=False, font_size=20)])\n",
    "\n",
    "fig.show()"
   ]
  },
  {
   "cell_type": "code",
   "execution_count": 148,
   "metadata": {},
   "outputs": [
    {
     "data": {
      "text/html": [
       "<div>\n",
       "<style scoped>\n",
       "    .dataframe tbody tr th:only-of-type {\n",
       "        vertical-align: middle;\n",
       "    }\n",
       "\n",
       "    .dataframe tbody tr th {\n",
       "        vertical-align: top;\n",
       "    }\n",
       "\n",
       "    .dataframe thead th {\n",
       "        text-align: right;\n",
       "    }\n",
       "</style>\n",
       "<table border=\"1\" class=\"dataframe\">\n",
       "  <thead>\n",
       "    <tr style=\"text-align: right;\">\n",
       "      <th></th>\n",
       "      <th>year</th>\n",
       "      <th>new_cases</th>\n",
       "      <th>new_deaths</th>\n",
       "    </tr>\n",
       "  </thead>\n",
       "  <tbody>\n",
       "    <tr>\n",
       "      <th>0</th>\n",
       "      <td>2020</td>\n",
       "      <td>19875385</td>\n",
       "      <td>343612</td>\n",
       "    </tr>\n",
       "    <tr>\n",
       "      <th>1</th>\n",
       "      <td>2021</td>\n",
       "      <td>34234604</td>\n",
       "      <td>473934</td>\n",
       "    </tr>\n",
       "    <tr>\n",
       "      <th>2</th>\n",
       "      <td>2022</td>\n",
       "      <td>44677715</td>\n",
       "      <td>272555</td>\n",
       "    </tr>\n",
       "  </tbody>\n",
       "</table>\n",
       "</div>"
      ],
      "text/plain": [
       "   year  new_cases  new_deaths\n",
       "0  2020   19875385      343612\n",
       "1  2021   34234604      473934\n",
       "2  2022   44677715      272555"
      ]
     },
     "execution_count": 148,
     "metadata": {},
     "output_type": "execute_result"
    }
   ],
   "source": [
    "#criar uma dataframe que associa o ano com o número de casos e mortes nesse ano\n",
    "total_cases_deaths_per_year = cases_per_year_state.groupby(\"year\").sum()\n",
    "total_cases_deaths_per_year = total_cases_deaths_per_year.drop(columns=\"state\").reset_index()\n",
    "\n",
    "total_cases_deaths_per_year\n"
   ]
  },
  {
   "cell_type": "code",
   "execution_count": 182,
   "metadata": {},
   "outputs": [
    {
     "data": {
      "image/png": "[encoded data removed]",
      "text/plain": [
       "<Figure size 640x480 with 2 Axes>"
      ]
     },
     "metadata": {},
     "output_type": "display_data"
    }
   ],
   "source": [
    "#gráfico de barras para prespetivar os dados acima\n",
    "x = np.arange(len(total_cases_deaths_per_year[\"year\"]))\n",
    "width = 0.25\n",
    "\n",
    "fig, axs = plt.subplots(2, layout=\"constrained\")\n",
    "fig.suptitle(\"Evolution of Cases and Deaths by COVID-19 per Year in the US\")\n",
    "\n",
    "#adicionar os dados aos gráficos\n",
    "axs[0].bar(x, total_cases_deaths_per_year[\"new_cases\"], width,\n",
    "           label=\"New Cases\", color=\"orange\")\n",
    "axs[1].bar(x, total_cases_deaths_per_year[\"new_deaths\"], width,\n",
    "           label=\"New Deaths\", color=\"red\")\n",
    "\n",
    "#costumizar aspetos dos gáficos\n",
    "axs[0].set_xlabel(\"Year\")\n",
    "axs[0].set_ylabel(\"Number of Cases\")\n",
    "axs[0].set_xticks(x)\n",
    "axs[0].set_xticklabels(total_cases_deaths_per_year[\"year\"])\n",
    "axs[0].legend()\n",
    "\n",
    "axs[1].set_xlabel(\"Year\")\n",
    "axs[1].set_ylabel(\"Number of Deaths\")\n",
    "axs[1].set_xticks(x)\n",
    "axs[1].set_xticklabels(total_cases_deaths_per_year[\"year\"])\n",
    "axs[1].legend()\n",
    "\n",
    "plt.ticklabel_format(style=\"sci\", axis=\"y\", scilimits=(0,0))\n",
    "\n",
    "plt.show()"
   ]
  },
  {
   "cell_type": "code",
   "execution_count": 183,
   "metadata": {},
   "outputs": [
    {
     "name": "stdout",
     "output_type": "stream",
     "text": [
      "Total Mortality Rate: 1.1%\n"
     ]
    }
   ],
   "source": [
    "#taxa de mortalidade total por COVID-19 nos EUA\n",
    "total_cases = cases_per_year_state[\"new_cases\"].sum()\n",
    "total_deaths = cases_per_year_state[\"new_deaths\"].sum()\n",
    "\n",
    "mortality_rate = round((total_deaths/total_cases) * 100, 2)\n",
    "\n",
    "print(f\"Total Mortality Rate: {mortality_rate}%\")"
   ]
  },
  {
   "cell_type": "code",
   "execution_count": 186,
   "metadata": {},
   "outputs": [
    {
     "data": {
      "text/html": [
       "<div>\n",
       "<style scoped>\n",
       "    .dataframe tbody tr th:only-of-type {\n",
       "        vertical-align: middle;\n",
       "    }\n",
       "\n",
       "    .dataframe tbody tr th {\n",
       "        vertical-align: top;\n",
       "    }\n",
       "\n",
       "    .dataframe thead th {\n",
       "        text-align: right;\n",
       "    }\n",
       "</style>\n",
       "<table border=\"1\" class=\"dataframe\">\n",
       "  <thead>\n",
       "    <tr style=\"text-align: right;\">\n",
       "      <th></th>\n",
       "      <th>year</th>\n",
       "      <th>new_cases</th>\n",
       "      <th>new_deaths</th>\n",
       "      <th>mortality_rate</th>\n",
       "    </tr>\n",
       "  </thead>\n",
       "  <tbody>\n",
       "    <tr>\n",
       "      <th>0</th>\n",
       "      <td>2020</td>\n",
       "      <td>19875385</td>\n",
       "      <td>343612</td>\n",
       "      <td>1.73</td>\n",
       "    </tr>\n",
       "    <tr>\n",
       "      <th>1</th>\n",
       "      <td>2021</td>\n",
       "      <td>34234604</td>\n",
       "      <td>473934</td>\n",
       "      <td>1.38</td>\n",
       "    </tr>\n",
       "    <tr>\n",
       "      <th>2</th>\n",
       "      <td>2022</td>\n",
       "      <td>44677715</td>\n",
       "      <td>272555</td>\n",
       "      <td>0.61</td>\n",
       "    </tr>\n",
       "  </tbody>\n",
       "</table>\n",
       "</div>"
      ],
      "text/plain": [
       "   year  new_cases  new_deaths  mortality_rate\n",
       "0  2020   19875385      343612            1.73\n",
       "1  2021   34234604      473934            1.38\n",
       "2  2022   44677715      272555            0.61"
      ]
     },
     "execution_count": 186,
     "metadata": {},
     "output_type": "execute_result"
    }
   ],
   "source": [
    "total_cases_deaths_per_year[\"mortality_rate\"] = round(\n",
    "    (total_cases_deaths_per_year[\"new_deaths\"]/total_cases_deaths_per_year[\"new_cases\"]) *100, 2)\n",
    "\n",
    "total_cases_deaths_per_year"
   ]
  },
  {
   "cell_type": "code",
   "execution_count": 197,
   "metadata": {},
   "outputs": [
    {
     "data": {
      "image/png": "[encoded data removed]",
      "text/plain": [
       "<Figure size 640x480 with 1 Axes>"
      ]
     },
     "metadata": {},
     "output_type": "display_data"
    }
   ],
   "source": [
    "#gráfico de comparação de mortalidade\n",
    "fig, ax = plt.subplots(layout=\"constrained\")\n",
    "\n",
    "#fazer o gráfico\n",
    "ax.bar(total_cases_deaths_per_year[\"year\"],\n",
    "       total_cases_deaths_per_year[\"mortality_rate\"],\n",
    "       label=\"Mortality Rate\")\n",
    "\n",
    "#costumizar o gráfico\n",
    "ax.set_title(\"Evolution of the Mortality Rate of COVID-19 per Year\")\n",
    "ax.set_ylabel(\"Mortality Rate (%)\")\n",
    "ax.set_xlabel(\"Year\")\n",
    "ax.set_xticks(total_cases_deaths_per_year[\"year\"])\n",
    "ax.legend()\n",
    "\n",
    "plt.show()"
   ]
  },
  {
   "cell_type": "markdown",
   "metadata": {},
   "source": [
    "2 - Visualizar o progresso na vacinação por estado"
   ]
  },
  {
   "cell_type": "code",
   "execution_count": 130,
   "metadata": {},
   "outputs": [
    {
     "data": {
      "text/html": [
       "<div>\n",
       "<style scoped>\n",
       "    .dataframe tbody tr th:only-of-type {\n",
       "        vertical-align: middle;\n",
       "    }\n",
       "\n",
       "    .dataframe tbody tr th {\n",
       "        vertical-align: top;\n",
       "    }\n",
       "\n",
       "    .dataframe thead th {\n",
       "        text-align: right;\n",
       "    }\n",
       "</style>\n",
       "<table border=\"1\" class=\"dataframe\">\n",
       "  <thead>\n",
       "    <tr style=\"text-align: right;\">\n",
       "      <th></th>\n",
       "      <th>date</th>\n",
       "      <th>location</th>\n",
       "      <th>total_vaccinations</th>\n",
       "      <th>total_distributed</th>\n",
       "      <th>people_vaccinated</th>\n",
       "      <th>people_fully_vaccinated_per_hundred</th>\n",
       "      <th>total_vaccinations_per_hundred</th>\n",
       "      <th>people_fully_vaccinated</th>\n",
       "      <th>people_vaccinated_per_hundred</th>\n",
       "      <th>distributed_per_hundred</th>\n",
       "      <th>daily_vaccinations_raw</th>\n",
       "      <th>daily_vaccinations</th>\n",
       "      <th>daily_vaccinations_per_million</th>\n",
       "      <th>share_doses_used</th>\n",
       "      <th>total_boosters</th>\n",
       "      <th>total_boosters_per_hundred</th>\n",
       "    </tr>\n",
       "  </thead>\n",
       "  <tbody>\n",
       "    <tr>\n",
       "      <th>0</th>\n",
       "      <td>2021-01-12</td>\n",
       "      <td>Alabama</td>\n",
       "      <td>78134.0</td>\n",
       "      <td>377025.0</td>\n",
       "      <td>70861.0</td>\n",
       "      <td>0.15</td>\n",
       "      <td>1.59</td>\n",
       "      <td>7270.0</td>\n",
       "      <td>1.45</td>\n",
       "      <td>7.69</td>\n",
       "      <td>NaN</td>\n",
       "      <td>NaN</td>\n",
       "      <td>NaN</td>\n",
       "      <td>0.207</td>\n",
       "      <td>NaN</td>\n",
       "      <td>NaN</td>\n",
       "    </tr>\n",
       "    <tr>\n",
       "      <th>1</th>\n",
       "      <td>2021-01-13</td>\n",
       "      <td>Alabama</td>\n",
       "      <td>84040.0</td>\n",
       "      <td>378975.0</td>\n",
       "      <td>74792.0</td>\n",
       "      <td>0.19</td>\n",
       "      <td>1.71</td>\n",
       "      <td>9245.0</td>\n",
       "      <td>1.53</td>\n",
       "      <td>7.73</td>\n",
       "      <td>5906.0</td>\n",
       "      <td>5906.0</td>\n",
       "      <td>1205.0</td>\n",
       "      <td>0.222</td>\n",
       "      <td>NaN</td>\n",
       "      <td>NaN</td>\n",
       "    </tr>\n",
       "    <tr>\n",
       "      <th>2</th>\n",
       "      <td>2021-01-14</td>\n",
       "      <td>Alabama</td>\n",
       "      <td>92300.0</td>\n",
       "      <td>435350.0</td>\n",
       "      <td>80480.0</td>\n",
       "      <td>NaN</td>\n",
       "      <td>1.88</td>\n",
       "      <td>NaN</td>\n",
       "      <td>1.64</td>\n",
       "      <td>8.88</td>\n",
       "      <td>8260.0</td>\n",
       "      <td>7083.0</td>\n",
       "      <td>1445.0</td>\n",
       "      <td>0.212</td>\n",
       "      <td>NaN</td>\n",
       "      <td>NaN</td>\n",
       "    </tr>\n",
       "    <tr>\n",
       "      <th>3</th>\n",
       "      <td>2021-01-15</td>\n",
       "      <td>Alabama</td>\n",
       "      <td>100567.0</td>\n",
       "      <td>444650.0</td>\n",
       "      <td>86956.0</td>\n",
       "      <td>0.28</td>\n",
       "      <td>2.05</td>\n",
       "      <td>13488.0</td>\n",
       "      <td>1.77</td>\n",
       "      <td>9.07</td>\n",
       "      <td>8267.0</td>\n",
       "      <td>7478.0</td>\n",
       "      <td>1525.0</td>\n",
       "      <td>0.226</td>\n",
       "      <td>NaN</td>\n",
       "      <td>NaN</td>\n",
       "    </tr>\n",
       "    <tr>\n",
       "      <th>4</th>\n",
       "      <td>2021-01-16</td>\n",
       "      <td>Alabama</td>\n",
       "      <td>NaN</td>\n",
       "      <td>NaN</td>\n",
       "      <td>NaN</td>\n",
       "      <td>NaN</td>\n",
       "      <td>NaN</td>\n",
       "      <td>NaN</td>\n",
       "      <td>NaN</td>\n",
       "      <td>NaN</td>\n",
       "      <td>NaN</td>\n",
       "      <td>7498.0</td>\n",
       "      <td>1529.0</td>\n",
       "      <td>NaN</td>\n",
       "      <td>NaN</td>\n",
       "      <td>NaN</td>\n",
       "    </tr>\n",
       "    <tr>\n",
       "      <th>...</th>\n",
       "      <td>...</td>\n",
       "      <td>...</td>\n",
       "      <td>...</td>\n",
       "      <td>...</td>\n",
       "      <td>...</td>\n",
       "      <td>...</td>\n",
       "      <td>...</td>\n",
       "      <td>...</td>\n",
       "      <td>...</td>\n",
       "      <td>...</td>\n",
       "      <td>...</td>\n",
       "      <td>...</td>\n",
       "      <td>...</td>\n",
       "      <td>...</td>\n",
       "      <td>...</td>\n",
       "      <td>...</td>\n",
       "    </tr>\n",
       "    <tr>\n",
       "      <th>54623</th>\n",
       "      <td>2023-05-06</td>\n",
       "      <td>Wyoming</td>\n",
       "      <td>NaN</td>\n",
       "      <td>NaN</td>\n",
       "      <td>NaN</td>\n",
       "      <td>NaN</td>\n",
       "      <td>NaN</td>\n",
       "      <td>NaN</td>\n",
       "      <td>NaN</td>\n",
       "      <td>NaN</td>\n",
       "      <td>NaN</td>\n",
       "      <td>77.0</td>\n",
       "      <td>133.0</td>\n",
       "      <td>NaN</td>\n",
       "      <td>NaN</td>\n",
       "      <td>NaN</td>\n",
       "    </tr>\n",
       "    <tr>\n",
       "      <th>54624</th>\n",
       "      <td>2023-05-07</td>\n",
       "      <td>Wyoming</td>\n",
       "      <td>NaN</td>\n",
       "      <td>NaN</td>\n",
       "      <td>NaN</td>\n",
       "      <td>NaN</td>\n",
       "      <td>NaN</td>\n",
       "      <td>NaN</td>\n",
       "      <td>NaN</td>\n",
       "      <td>NaN</td>\n",
       "      <td>NaN</td>\n",
       "      <td>100.0</td>\n",
       "      <td>173.0</td>\n",
       "      <td>NaN</td>\n",
       "      <td>NaN</td>\n",
       "      <td>NaN</td>\n",
       "    </tr>\n",
       "    <tr>\n",
       "      <th>54625</th>\n",
       "      <td>2023-05-08</td>\n",
       "      <td>Wyoming</td>\n",
       "      <td>NaN</td>\n",
       "      <td>NaN</td>\n",
       "      <td>NaN</td>\n",
       "      <td>NaN</td>\n",
       "      <td>NaN</td>\n",
       "      <td>NaN</td>\n",
       "      <td>NaN</td>\n",
       "      <td>NaN</td>\n",
       "      <td>NaN</td>\n",
       "      <td>123.0</td>\n",
       "      <td>213.0</td>\n",
       "      <td>NaN</td>\n",
       "      <td>NaN</td>\n",
       "      <td>NaN</td>\n",
       "    </tr>\n",
       "    <tr>\n",
       "      <th>54626</th>\n",
       "      <td>2023-05-09</td>\n",
       "      <td>Wyoming</td>\n",
       "      <td>NaN</td>\n",
       "      <td>NaN</td>\n",
       "      <td>NaN</td>\n",
       "      <td>NaN</td>\n",
       "      <td>NaN</td>\n",
       "      <td>NaN</td>\n",
       "      <td>NaN</td>\n",
       "      <td>NaN</td>\n",
       "      <td>NaN</td>\n",
       "      <td>146.0</td>\n",
       "      <td>252.0</td>\n",
       "      <td>NaN</td>\n",
       "      <td>NaN</td>\n",
       "      <td>NaN</td>\n",
       "    </tr>\n",
       "    <tr>\n",
       "      <th>54627</th>\n",
       "      <td>2023-05-10</td>\n",
       "      <td>Wyoming</td>\n",
       "      <td>854132.0</td>\n",
       "      <td>1281755.0</td>\n",
       "      <td>353727.0</td>\n",
       "      <td>53.15</td>\n",
       "      <td>147.58</td>\n",
       "      <td>307619.0</td>\n",
       "      <td>61.12</td>\n",
       "      <td>221.47</td>\n",
       "      <td>NaN</td>\n",
       "      <td>170.0</td>\n",
       "      <td>294.0</td>\n",
       "      <td>0.666</td>\n",
       "      <td>219773.0</td>\n",
       "      <td>37.97</td>\n",
       "    </tr>\n",
       "  </tbody>\n",
       "</table>\n",
       "<p>54628 rows × 16 columns</p>\n",
       "</div>"
      ],
      "text/plain": [
       "             date location  total_vaccinations  total_distributed  \\\n",
       "0      2021-01-12  Alabama             78134.0           377025.0   \n",
       "1      2021-01-13  Alabama             84040.0           378975.0   \n",
       "2      2021-01-14  Alabama             92300.0           435350.0   \n",
       "3      2021-01-15  Alabama            100567.0           444650.0   \n",
       "4      2021-01-16  Alabama                 NaN                NaN   \n",
       "...           ...      ...                 ...                ...   \n",
       "54623  2023-05-06  Wyoming                 NaN                NaN   \n",
       "54624  2023-05-07  Wyoming                 NaN                NaN   \n",
       "54625  2023-05-08  Wyoming                 NaN                NaN   \n",
       "54626  2023-05-09  Wyoming                 NaN                NaN   \n",
       "54627  2023-05-10  Wyoming            854132.0          1281755.0   \n",
       "\n",
       "       people_vaccinated  people_fully_vaccinated_per_hundred  \\\n",
       "0                70861.0                                 0.15   \n",
       "1                74792.0                                 0.19   \n",
       "2                80480.0                                  NaN   \n",
       "3                86956.0                                 0.28   \n",
       "4                    NaN                                  NaN   \n",
       "...                  ...                                  ...   \n",
       "54623                NaN                                  NaN   \n",
       "54624                NaN                                  NaN   \n",
       "54625                NaN                                  NaN   \n",
       "54626                NaN                                  NaN   \n",
       "54627           353727.0                                53.15   \n",
       "\n",
       "       total_vaccinations_per_hundred  people_fully_vaccinated  \\\n",
       "0                                1.59                   7270.0   \n",
       "1                                1.71                   9245.0   \n",
       "2                                1.88                      NaN   \n",
       "3                                2.05                  13488.0   \n",
       "4                                 NaN                      NaN   \n",
       "...                               ...                      ...   \n",
       "54623                             NaN                      NaN   \n",
       "54624                             NaN                      NaN   \n",
       "54625                             NaN                      NaN   \n",
       "54626                             NaN                      NaN   \n",
       "54627                          147.58                 307619.0   \n",
       "\n",
       "       people_vaccinated_per_hundred  distributed_per_hundred  \\\n",
       "0                               1.45                     7.69   \n",
       "1                               1.53                     7.73   \n",
       "2                               1.64                     8.88   \n",
       "3                               1.77                     9.07   \n",
       "4                                NaN                      NaN   \n",
       "...                              ...                      ...   \n",
       "54623                            NaN                      NaN   \n",
       "54624                            NaN                      NaN   \n",
       "54625                            NaN                      NaN   \n",
       "54626                            NaN                      NaN   \n",
       "54627                          61.12                   221.47   \n",
       "\n",
       "       daily_vaccinations_raw  daily_vaccinations  \\\n",
       "0                         NaN                 NaN   \n",
       "1                      5906.0              5906.0   \n",
       "2                      8260.0              7083.0   \n",
       "3                      8267.0              7478.0   \n",
       "4                         NaN              7498.0   \n",
       "...                       ...                 ...   \n",
       "54623                     NaN                77.0   \n",
       "54624                     NaN               100.0   \n",
       "54625                     NaN               123.0   \n",
       "54626                     NaN               146.0   \n",
       "54627                     NaN               170.0   \n",
       "\n",
       "       daily_vaccinations_per_million  share_doses_used  total_boosters  \\\n",
       "0                                 NaN             0.207             NaN   \n",
       "1                              1205.0             0.222             NaN   \n",
       "2                              1445.0             0.212             NaN   \n",
       "3                              1525.0             0.226             NaN   \n",
       "4                              1529.0               NaN             NaN   \n",
       "...                               ...               ...             ...   \n",
       "54623                           133.0               NaN             NaN   \n",
       "54624                           173.0               NaN             NaN   \n",
       "54625                           213.0               NaN             NaN   \n",
       "54626                           252.0               NaN             NaN   \n",
       "54627                           294.0             0.666        219773.0   \n",
       "\n",
       "       total_boosters_per_hundred  \n",
       "0                             NaN  \n",
       "1                             NaN  \n",
       "2                             NaN  \n",
       "3                             NaN  \n",
       "4                             NaN  \n",
       "...                           ...  \n",
       "54623                         NaN  \n",
       "54624                         NaN  \n",
       "54625                         NaN  \n",
       "54626                         NaN  \n",
       "54627                       37.97  \n",
       "\n",
       "[54628 rows x 16 columns]"
      ]
     },
     "execution_count": 130,
     "metadata": {},
     "output_type": "execute_result"
    }
   ],
   "source": [
    "#importar o ficheiro .csv\n",
    "vaccine_df = pd.read_csv(\"us_state_vaccinations.csv\")\n",
    "\n",
    "vaccine_df"
   ]
  },
  {
   "cell_type": "code",
   "execution_count": 131,
   "metadata": {},
   "outputs": [
    {
     "data": {
      "text/plain": [
       "array(['Alabama', 'Alaska', 'American Samoa', 'Arizona', 'Arkansas',\n",
       "       'Bureau of Prisons', 'California', 'Colorado', 'Connecticut',\n",
       "       'Delaware', 'Dept of Defense', 'District of Columbia',\n",
       "       'Federated States of Micronesia', 'Florida', 'Georgia', 'Guam',\n",
       "       'Hawaii', 'Idaho', 'Illinois', 'Indian Health Svc', 'Indiana',\n",
       "       'Iowa', 'Kansas', 'Kentucky', 'Long Term Care', 'Louisiana',\n",
       "       'Maine', 'Marshall Islands', 'Maryland', 'Massachusetts',\n",
       "       'Michigan', 'Minnesota', 'Mississippi', 'Missouri', 'Montana',\n",
       "       'Nebraska', 'Nevada', 'New Hampshire', 'New Jersey', 'New Mexico',\n",
       "       'New York State', 'North Carolina', 'North Dakota',\n",
       "       'Northern Mariana Islands', 'Ohio', 'Oklahoma', 'Oregon',\n",
       "       'Pennsylvania', 'Puerto Rico', 'Republic of Palau', 'Rhode Island',\n",
       "       'South Carolina', 'South Dakota', 'Tennessee', 'Texas',\n",
       "       'United States', 'Utah', 'Vermont', 'Veterans Health',\n",
       "       'Virgin Islands', 'Virginia', 'Washington', 'West Virginia',\n",
       "       'Wisconsin', 'Wyoming'], dtype=object)"
      ]
     },
     "execution_count": 131,
     "metadata": {},
     "output_type": "execute_result"
    }
   ],
   "source": [
    "#Verificar as diferentes localizações presentes nos dados\n",
    "unique_locations = vaccine_df[\"location\"].unique()\n",
    "\n",
    "unique_locations"
   ]
  },
  {
   "cell_type": "code",
   "execution_count": 132,
   "metadata": {},
   "outputs": [],
   "source": [
    "#substituir \"New York State\" por \"New York\"\n",
    "vaccine_df[\"location\"] = vaccine_df[\"location\"].replace(to_replace=\"New York State\", value=\"New York\")"
   ]
  },
  {
   "cell_type": "code",
   "execution_count": 133,
   "metadata": {},
   "outputs": [
    {
     "data": {
      "text/html": [
       "<div>\n",
       "<style scoped>\n",
       "    .dataframe tbody tr th:only-of-type {\n",
       "        vertical-align: middle;\n",
       "    }\n",
       "\n",
       "    .dataframe tbody tr th {\n",
       "        vertical-align: top;\n",
       "    }\n",
       "\n",
       "    .dataframe thead th {\n",
       "        text-align: right;\n",
       "    }\n",
       "</style>\n",
       "<table border=\"1\" class=\"dataframe\">\n",
       "  <thead>\n",
       "    <tr style=\"text-align: right;\">\n",
       "      <th></th>\n",
       "      <th>date</th>\n",
       "      <th>location</th>\n",
       "      <th>total_vaccinations</th>\n",
       "      <th>total_distributed</th>\n",
       "      <th>people_vaccinated</th>\n",
       "      <th>people_fully_vaccinated_per_hundred</th>\n",
       "      <th>total_vaccinations_per_hundred</th>\n",
       "      <th>people_fully_vaccinated</th>\n",
       "      <th>people_vaccinated_per_hundred</th>\n",
       "      <th>distributed_per_hundred</th>\n",
       "      <th>daily_vaccinations_raw</th>\n",
       "      <th>daily_vaccinations</th>\n",
       "      <th>daily_vaccinations_per_million</th>\n",
       "      <th>share_doses_used</th>\n",
       "      <th>total_boosters</th>\n",
       "      <th>total_boosters_per_hundred</th>\n",
       "    </tr>\n",
       "  </thead>\n",
       "  <tbody>\n",
       "    <tr>\n",
       "      <th>33380</th>\n",
       "      <td>2021-01-12</td>\n",
       "      <td>New York</td>\n",
       "      <td>579532.0</td>\n",
       "      <td>1622100.0</td>\n",
       "      <td>543014.0</td>\n",
       "      <td>0.19</td>\n",
       "      <td>2.98</td>\n",
       "      <td>36422.0</td>\n",
       "      <td>2.79</td>\n",
       "      <td>8.34</td>\n",
       "      <td>NaN</td>\n",
       "      <td>NaN</td>\n",
       "      <td>NaN</td>\n",
       "      <td>0.357</td>\n",
       "      <td>NaN</td>\n",
       "      <td>NaN</td>\n",
       "    </tr>\n",
       "    <tr>\n",
       "      <th>33381</th>\n",
       "      <td>2021-01-13</td>\n",
       "      <td>New York</td>\n",
       "      <td>632473.0</td>\n",
       "      <td>1796850.0</td>\n",
       "      <td>587865.0</td>\n",
       "      <td>0.23</td>\n",
       "      <td>3.25</td>\n",
       "      <td>44512.0</td>\n",
       "      <td>3.02</td>\n",
       "      <td>9.24</td>\n",
       "      <td>52941.0</td>\n",
       "      <td>52941.0</td>\n",
       "      <td>2721.0</td>\n",
       "      <td>0.352</td>\n",
       "      <td>NaN</td>\n",
       "      <td>NaN</td>\n",
       "    </tr>\n",
       "    <tr>\n",
       "      <th>33382</th>\n",
       "      <td>2021-01-14</td>\n",
       "      <td>New York</td>\n",
       "      <td>688576.0</td>\n",
       "      <td>1872625.0</td>\n",
       "      <td>617596.0</td>\n",
       "      <td>NaN</td>\n",
       "      <td>3.54</td>\n",
       "      <td>NaN</td>\n",
       "      <td>3.17</td>\n",
       "      <td>9.63</td>\n",
       "      <td>56103.0</td>\n",
       "      <td>54522.0</td>\n",
       "      <td>2803.0</td>\n",
       "      <td>0.368</td>\n",
       "      <td>NaN</td>\n",
       "      <td>NaN</td>\n",
       "    </tr>\n",
       "    <tr>\n",
       "      <th>33383</th>\n",
       "      <td>2021-01-15</td>\n",
       "      <td>New York</td>\n",
       "      <td>757466.0</td>\n",
       "      <td>1884325.0</td>\n",
       "      <td>671311.0</td>\n",
       "      <td>0.38</td>\n",
       "      <td>3.89</td>\n",
       "      <td>73523.0</td>\n",
       "      <td>3.45</td>\n",
       "      <td>9.69</td>\n",
       "      <td>68890.0</td>\n",
       "      <td>59311.0</td>\n",
       "      <td>3049.0</td>\n",
       "      <td>0.402</td>\n",
       "      <td>NaN</td>\n",
       "      <td>NaN</td>\n",
       "    </tr>\n",
       "    <tr>\n",
       "      <th>33384</th>\n",
       "      <td>2021-01-16</td>\n",
       "      <td>New York</td>\n",
       "      <td>NaN</td>\n",
       "      <td>NaN</td>\n",
       "      <td>NaN</td>\n",
       "      <td>NaN</td>\n",
       "      <td>NaN</td>\n",
       "      <td>NaN</td>\n",
       "      <td>NaN</td>\n",
       "      <td>NaN</td>\n",
       "      <td>NaN</td>\n",
       "      <td>59662.0</td>\n",
       "      <td>3067.0</td>\n",
       "      <td>NaN</td>\n",
       "      <td>NaN</td>\n",
       "      <td>NaN</td>\n",
       "    </tr>\n",
       "    <tr>\n",
       "      <th>...</th>\n",
       "      <td>...</td>\n",
       "      <td>...</td>\n",
       "      <td>...</td>\n",
       "      <td>...</td>\n",
       "      <td>...</td>\n",
       "      <td>...</td>\n",
       "      <td>...</td>\n",
       "      <td>...</td>\n",
       "      <td>...</td>\n",
       "      <td>...</td>\n",
       "      <td>...</td>\n",
       "      <td>...</td>\n",
       "      <td>...</td>\n",
       "      <td>...</td>\n",
       "      <td>...</td>\n",
       "      <td>...</td>\n",
       "    </tr>\n",
       "    <tr>\n",
       "      <th>34224</th>\n",
       "      <td>2023-05-06</td>\n",
       "      <td>New York</td>\n",
       "      <td>NaN</td>\n",
       "      <td>NaN</td>\n",
       "      <td>NaN</td>\n",
       "      <td>NaN</td>\n",
       "      <td>NaN</td>\n",
       "      <td>NaN</td>\n",
       "      <td>NaN</td>\n",
       "      <td>NaN</td>\n",
       "      <td>NaN</td>\n",
       "      <td>4989.0</td>\n",
       "      <td>256.0</td>\n",
       "      <td>NaN</td>\n",
       "      <td>NaN</td>\n",
       "      <td>NaN</td>\n",
       "    </tr>\n",
       "    <tr>\n",
       "      <th>34225</th>\n",
       "      <td>2023-05-07</td>\n",
       "      <td>New York</td>\n",
       "      <td>NaN</td>\n",
       "      <td>NaN</td>\n",
       "      <td>NaN</td>\n",
       "      <td>NaN</td>\n",
       "      <td>NaN</td>\n",
       "      <td>NaN</td>\n",
       "      <td>NaN</td>\n",
       "      <td>NaN</td>\n",
       "      <td>NaN</td>\n",
       "      <td>5050.0</td>\n",
       "      <td>260.0</td>\n",
       "      <td>NaN</td>\n",
       "      <td>NaN</td>\n",
       "      <td>NaN</td>\n",
       "    </tr>\n",
       "    <tr>\n",
       "      <th>34226</th>\n",
       "      <td>2023-05-08</td>\n",
       "      <td>New York</td>\n",
       "      <td>NaN</td>\n",
       "      <td>NaN</td>\n",
       "      <td>NaN</td>\n",
       "      <td>NaN</td>\n",
       "      <td>NaN</td>\n",
       "      <td>NaN</td>\n",
       "      <td>NaN</td>\n",
       "      <td>NaN</td>\n",
       "      <td>NaN</td>\n",
       "      <td>5111.0</td>\n",
       "      <td>263.0</td>\n",
       "      <td>NaN</td>\n",
       "      <td>NaN</td>\n",
       "      <td>NaN</td>\n",
       "    </tr>\n",
       "    <tr>\n",
       "      <th>34227</th>\n",
       "      <td>2023-05-09</td>\n",
       "      <td>New York</td>\n",
       "      <td>NaN</td>\n",
       "      <td>NaN</td>\n",
       "      <td>NaN</td>\n",
       "      <td>NaN</td>\n",
       "      <td>NaN</td>\n",
       "      <td>NaN</td>\n",
       "      <td>NaN</td>\n",
       "      <td>NaN</td>\n",
       "      <td>NaN</td>\n",
       "      <td>5172.0</td>\n",
       "      <td>266.0</td>\n",
       "      <td>NaN</td>\n",
       "      <td>NaN</td>\n",
       "      <td>NaN</td>\n",
       "    </tr>\n",
       "    <tr>\n",
       "      <th>34228</th>\n",
       "      <td>2023-05-10</td>\n",
       "      <td>New York</td>\n",
       "      <td>45177512.0</td>\n",
       "      <td>61302975.0</td>\n",
       "      <td>18427712.0</td>\n",
       "      <td>81.03</td>\n",
       "      <td>232.23</td>\n",
       "      <td>15763340.0</td>\n",
       "      <td>94.73</td>\n",
       "      <td>315.12</td>\n",
       "      <td>NaN</td>\n",
       "      <td>5233.0</td>\n",
       "      <td>269.0</td>\n",
       "      <td>0.737</td>\n",
       "      <td>12253801.0</td>\n",
       "      <td>62.99</td>\n",
       "    </tr>\n",
       "  </tbody>\n",
       "</table>\n",
       "<p>849 rows × 16 columns</p>\n",
       "</div>"
      ],
      "text/plain": [
       "             date  location  total_vaccinations  total_distributed  \\\n",
       "33380  2021-01-12  New York            579532.0          1622100.0   \n",
       "33381  2021-01-13  New York            632473.0          1796850.0   \n",
       "33382  2021-01-14  New York            688576.0          1872625.0   \n",
       "33383  2021-01-15  New York            757466.0          1884325.0   \n",
       "33384  2021-01-16  New York                 NaN                NaN   \n",
       "...           ...       ...                 ...                ...   \n",
       "34224  2023-05-06  New York                 NaN                NaN   \n",
       "34225  2023-05-07  New York                 NaN                NaN   \n",
       "34226  2023-05-08  New York                 NaN                NaN   \n",
       "34227  2023-05-09  New York                 NaN                NaN   \n",
       "34228  2023-05-10  New York          45177512.0         61302975.0   \n",
       "\n",
       "       people_vaccinated  people_fully_vaccinated_per_hundred  \\\n",
       "33380           543014.0                                 0.19   \n",
       "33381           587865.0                                 0.23   \n",
       "33382           617596.0                                  NaN   \n",
       "33383           671311.0                                 0.38   \n",
       "33384                NaN                                  NaN   \n",
       "...                  ...                                  ...   \n",
       "34224                NaN                                  NaN   \n",
       "34225                NaN                                  NaN   \n",
       "34226                NaN                                  NaN   \n",
       "34227                NaN                                  NaN   \n",
       "34228         18427712.0                                81.03   \n",
       "\n",
       "       total_vaccinations_per_hundred  people_fully_vaccinated  \\\n",
       "33380                            2.98                  36422.0   \n",
       "33381                            3.25                  44512.0   \n",
       "33382                            3.54                      NaN   \n",
       "33383                            3.89                  73523.0   \n",
       "33384                             NaN                      NaN   \n",
       "...                               ...                      ...   \n",
       "34224                             NaN                      NaN   \n",
       "34225                             NaN                      NaN   \n",
       "34226                             NaN                      NaN   \n",
       "34227                             NaN                      NaN   \n",
       "34228                          232.23               15763340.0   \n",
       "\n",
       "       people_vaccinated_per_hundred  distributed_per_hundred  \\\n",
       "33380                           2.79                     8.34   \n",
       "33381                           3.02                     9.24   \n",
       "33382                           3.17                     9.63   \n",
       "33383                           3.45                     9.69   \n",
       "33384                            NaN                      NaN   \n",
       "...                              ...                      ...   \n",
       "34224                            NaN                      NaN   \n",
       "34225                            NaN                      NaN   \n",
       "34226                            NaN                      NaN   \n",
       "34227                            NaN                      NaN   \n",
       "34228                          94.73                   315.12   \n",
       "\n",
       "       daily_vaccinations_raw  daily_vaccinations  \\\n",
       "33380                     NaN                 NaN   \n",
       "33381                 52941.0             52941.0   \n",
       "33382                 56103.0             54522.0   \n",
       "33383                 68890.0             59311.0   \n",
       "33384                     NaN             59662.0   \n",
       "...                       ...                 ...   \n",
       "34224                     NaN              4989.0   \n",
       "34225                     NaN              5050.0   \n",
       "34226                     NaN              5111.0   \n",
       "34227                     NaN              5172.0   \n",
       "34228                     NaN              5233.0   \n",
       "\n",
       "       daily_vaccinations_per_million  share_doses_used  total_boosters  \\\n",
       "33380                             NaN             0.357             NaN   \n",
       "33381                          2721.0             0.352             NaN   \n",
       "33382                          2803.0             0.368             NaN   \n",
       "33383                          3049.0             0.402             NaN   \n",
       "33384                          3067.0               NaN             NaN   \n",
       "...                               ...               ...             ...   \n",
       "34224                           256.0               NaN             NaN   \n",
       "34225                           260.0               NaN             NaN   \n",
       "34226                           263.0               NaN             NaN   \n",
       "34227                           266.0               NaN             NaN   \n",
       "34228                           269.0             0.737      12253801.0   \n",
       "\n",
       "       total_boosters_per_hundred  \n",
       "33380                         NaN  \n",
       "33381                         NaN  \n",
       "33382                         NaN  \n",
       "33383                         NaN  \n",
       "33384                         NaN  \n",
       "...                           ...  \n",
       "34224                         NaN  \n",
       "34225                         NaN  \n",
       "34226                         NaN  \n",
       "34227                         NaN  \n",
       "34228                       62.99  \n",
       "\n",
       "[849 rows x 16 columns]"
      ]
     },
     "execution_count": 133,
     "metadata": {},
     "output_type": "execute_result"
    }
   ],
   "source": [
    "vaccine_df[vaccine_df[\"location\"] == \"New York\"]"
   ]
  },
  {
   "cell_type": "code",
   "execution_count": 134,
   "metadata": {},
   "outputs": [
    {
     "data": {
      "text/html": [
       "<div>\n",
       "<style scoped>\n",
       "    .dataframe tbody tr th:only-of-type {\n",
       "        vertical-align: middle;\n",
       "    }\n",
       "\n",
       "    .dataframe tbody tr th {\n",
       "        vertical-align: top;\n",
       "    }\n",
       "\n",
       "    .dataframe thead th {\n",
       "        text-align: right;\n",
       "    }\n",
       "</style>\n",
       "<table border=\"1\" class=\"dataframe\">\n",
       "  <thead>\n",
       "    <tr style=\"text-align: right;\">\n",
       "      <th></th>\n",
       "      <th>date</th>\n",
       "      <th>location</th>\n",
       "      <th>total_vaccinations</th>\n",
       "      <th>total_distributed</th>\n",
       "      <th>people_vaccinated</th>\n",
       "      <th>people_fully_vaccinated_per_hundred</th>\n",
       "      <th>total_vaccinations_per_hundred</th>\n",
       "      <th>people_fully_vaccinated</th>\n",
       "      <th>people_vaccinated_per_hundred</th>\n",
       "      <th>distributed_per_hundred</th>\n",
       "      <th>daily_vaccinations_raw</th>\n",
       "      <th>daily_vaccinations</th>\n",
       "      <th>daily_vaccinations_per_million</th>\n",
       "      <th>share_doses_used</th>\n",
       "      <th>total_boosters</th>\n",
       "      <th>total_boosters_per_hundred</th>\n",
       "    </tr>\n",
       "  </thead>\n",
       "  <tbody>\n",
       "    <tr>\n",
       "      <th>0</th>\n",
       "      <td>2021-01-12</td>\n",
       "      <td>AL</td>\n",
       "      <td>78134.0</td>\n",
       "      <td>377025.0</td>\n",
       "      <td>70861.0</td>\n",
       "      <td>0.15</td>\n",
       "      <td>1.59</td>\n",
       "      <td>7270.0</td>\n",
       "      <td>1.45</td>\n",
       "      <td>7.69</td>\n",
       "      <td>NaN</td>\n",
       "      <td>NaN</td>\n",
       "      <td>NaN</td>\n",
       "      <td>0.207</td>\n",
       "      <td>NaN</td>\n",
       "      <td>NaN</td>\n",
       "    </tr>\n",
       "    <tr>\n",
       "      <th>1</th>\n",
       "      <td>2021-01-13</td>\n",
       "      <td>AL</td>\n",
       "      <td>84040.0</td>\n",
       "      <td>378975.0</td>\n",
       "      <td>74792.0</td>\n",
       "      <td>0.19</td>\n",
       "      <td>1.71</td>\n",
       "      <td>9245.0</td>\n",
       "      <td>1.53</td>\n",
       "      <td>7.73</td>\n",
       "      <td>5906.0</td>\n",
       "      <td>5906.0</td>\n",
       "      <td>1205.0</td>\n",
       "      <td>0.222</td>\n",
       "      <td>NaN</td>\n",
       "      <td>NaN</td>\n",
       "    </tr>\n",
       "    <tr>\n",
       "      <th>2</th>\n",
       "      <td>2021-01-14</td>\n",
       "      <td>AL</td>\n",
       "      <td>92300.0</td>\n",
       "      <td>435350.0</td>\n",
       "      <td>80480.0</td>\n",
       "      <td>NaN</td>\n",
       "      <td>1.88</td>\n",
       "      <td>NaN</td>\n",
       "      <td>1.64</td>\n",
       "      <td>8.88</td>\n",
       "      <td>8260.0</td>\n",
       "      <td>7083.0</td>\n",
       "      <td>1445.0</td>\n",
       "      <td>0.212</td>\n",
       "      <td>NaN</td>\n",
       "      <td>NaN</td>\n",
       "    </tr>\n",
       "    <tr>\n",
       "      <th>3</th>\n",
       "      <td>2021-01-15</td>\n",
       "      <td>AL</td>\n",
       "      <td>100567.0</td>\n",
       "      <td>444650.0</td>\n",
       "      <td>86956.0</td>\n",
       "      <td>0.28</td>\n",
       "      <td>2.05</td>\n",
       "      <td>13488.0</td>\n",
       "      <td>1.77</td>\n",
       "      <td>9.07</td>\n",
       "      <td>8267.0</td>\n",
       "      <td>7478.0</td>\n",
       "      <td>1525.0</td>\n",
       "      <td>0.226</td>\n",
       "      <td>NaN</td>\n",
       "      <td>NaN</td>\n",
       "    </tr>\n",
       "    <tr>\n",
       "      <th>4</th>\n",
       "      <td>2021-01-16</td>\n",
       "      <td>AL</td>\n",
       "      <td>NaN</td>\n",
       "      <td>NaN</td>\n",
       "      <td>NaN</td>\n",
       "      <td>NaN</td>\n",
       "      <td>NaN</td>\n",
       "      <td>NaN</td>\n",
       "      <td>NaN</td>\n",
       "      <td>NaN</td>\n",
       "      <td>NaN</td>\n",
       "      <td>7498.0</td>\n",
       "      <td>1529.0</td>\n",
       "      <td>NaN</td>\n",
       "      <td>NaN</td>\n",
       "      <td>NaN</td>\n",
       "    </tr>\n",
       "    <tr>\n",
       "      <th>...</th>\n",
       "      <td>...</td>\n",
       "      <td>...</td>\n",
       "      <td>...</td>\n",
       "      <td>...</td>\n",
       "      <td>...</td>\n",
       "      <td>...</td>\n",
       "      <td>...</td>\n",
       "      <td>...</td>\n",
       "      <td>...</td>\n",
       "      <td>...</td>\n",
       "      <td>...</td>\n",
       "      <td>...</td>\n",
       "      <td>...</td>\n",
       "      <td>...</td>\n",
       "      <td>...</td>\n",
       "      <td>...</td>\n",
       "    </tr>\n",
       "    <tr>\n",
       "      <th>54623</th>\n",
       "      <td>2023-05-06</td>\n",
       "      <td>WY</td>\n",
       "      <td>NaN</td>\n",
       "      <td>NaN</td>\n",
       "      <td>NaN</td>\n",
       "      <td>NaN</td>\n",
       "      <td>NaN</td>\n",
       "      <td>NaN</td>\n",
       "      <td>NaN</td>\n",
       "      <td>NaN</td>\n",
       "      <td>NaN</td>\n",
       "      <td>77.0</td>\n",
       "      <td>133.0</td>\n",
       "      <td>NaN</td>\n",
       "      <td>NaN</td>\n",
       "      <td>NaN</td>\n",
       "    </tr>\n",
       "    <tr>\n",
       "      <th>54624</th>\n",
       "      <td>2023-05-07</td>\n",
       "      <td>WY</td>\n",
       "      <td>NaN</td>\n",
       "      <td>NaN</td>\n",
       "      <td>NaN</td>\n",
       "      <td>NaN</td>\n",
       "      <td>NaN</td>\n",
       "      <td>NaN</td>\n",
       "      <td>NaN</td>\n",
       "      <td>NaN</td>\n",
       "      <td>NaN</td>\n",
       "      <td>100.0</td>\n",
       "      <td>173.0</td>\n",
       "      <td>NaN</td>\n",
       "      <td>NaN</td>\n",
       "      <td>NaN</td>\n",
       "    </tr>\n",
       "    <tr>\n",
       "      <th>54625</th>\n",
       "      <td>2023-05-08</td>\n",
       "      <td>WY</td>\n",
       "      <td>NaN</td>\n",
       "      <td>NaN</td>\n",
       "      <td>NaN</td>\n",
       "      <td>NaN</td>\n",
       "      <td>NaN</td>\n",
       "      <td>NaN</td>\n",
       "      <td>NaN</td>\n",
       "      <td>NaN</td>\n",
       "      <td>NaN</td>\n",
       "      <td>123.0</td>\n",
       "      <td>213.0</td>\n",
       "      <td>NaN</td>\n",
       "      <td>NaN</td>\n",
       "      <td>NaN</td>\n",
       "    </tr>\n",
       "    <tr>\n",
       "      <th>54626</th>\n",
       "      <td>2023-05-09</td>\n",
       "      <td>WY</td>\n",
       "      <td>NaN</td>\n",
       "      <td>NaN</td>\n",
       "      <td>NaN</td>\n",
       "      <td>NaN</td>\n",
       "      <td>NaN</td>\n",
       "      <td>NaN</td>\n",
       "      <td>NaN</td>\n",
       "      <td>NaN</td>\n",
       "      <td>NaN</td>\n",
       "      <td>146.0</td>\n",
       "      <td>252.0</td>\n",
       "      <td>NaN</td>\n",
       "      <td>NaN</td>\n",
       "      <td>NaN</td>\n",
       "    </tr>\n",
       "    <tr>\n",
       "      <th>54627</th>\n",
       "      <td>2023-05-10</td>\n",
       "      <td>WY</td>\n",
       "      <td>854132.0</td>\n",
       "      <td>1281755.0</td>\n",
       "      <td>353727.0</td>\n",
       "      <td>53.15</td>\n",
       "      <td>147.58</td>\n",
       "      <td>307619.0</td>\n",
       "      <td>61.12</td>\n",
       "      <td>221.47</td>\n",
       "      <td>NaN</td>\n",
       "      <td>170.0</td>\n",
       "      <td>294.0</td>\n",
       "      <td>0.666</td>\n",
       "      <td>219773.0</td>\n",
       "      <td>37.97</td>\n",
       "    </tr>\n",
       "  </tbody>\n",
       "</table>\n",
       "<p>54628 rows × 16 columns</p>\n",
       "</div>"
      ],
      "text/plain": [
       "             date location  total_vaccinations  total_distributed  \\\n",
       "0      2021-01-12       AL             78134.0           377025.0   \n",
       "1      2021-01-13       AL             84040.0           378975.0   \n",
       "2      2021-01-14       AL             92300.0           435350.0   \n",
       "3      2021-01-15       AL            100567.0           444650.0   \n",
       "4      2021-01-16       AL                 NaN                NaN   \n",
       "...           ...      ...                 ...                ...   \n",
       "54623  2023-05-06       WY                 NaN                NaN   \n",
       "54624  2023-05-07       WY                 NaN                NaN   \n",
       "54625  2023-05-08       WY                 NaN                NaN   \n",
       "54626  2023-05-09       WY                 NaN                NaN   \n",
       "54627  2023-05-10       WY            854132.0          1281755.0   \n",
       "\n",
       "       people_vaccinated  people_fully_vaccinated_per_hundred  \\\n",
       "0                70861.0                                 0.15   \n",
       "1                74792.0                                 0.19   \n",
       "2                80480.0                                  NaN   \n",
       "3                86956.0                                 0.28   \n",
       "4                    NaN                                  NaN   \n",
       "...                  ...                                  ...   \n",
       "54623                NaN                                  NaN   \n",
       "54624                NaN                                  NaN   \n",
       "54625                NaN                                  NaN   \n",
       "54626                NaN                                  NaN   \n",
       "54627           353727.0                                53.15   \n",
       "\n",
       "       total_vaccinations_per_hundred  people_fully_vaccinated  \\\n",
       "0                                1.59                   7270.0   \n",
       "1                                1.71                   9245.0   \n",
       "2                                1.88                      NaN   \n",
       "3                                2.05                  13488.0   \n",
       "4                                 NaN                      NaN   \n",
       "...                               ...                      ...   \n",
       "54623                             NaN                      NaN   \n",
       "54624                             NaN                      NaN   \n",
       "54625                             NaN                      NaN   \n",
       "54626                             NaN                      NaN   \n",
       "54627                          147.58                 307619.0   \n",
       "\n",
       "       people_vaccinated_per_hundred  distributed_per_hundred  \\\n",
       "0                               1.45                     7.69   \n",
       "1                               1.53                     7.73   \n",
       "2                               1.64                     8.88   \n",
       "3                               1.77                     9.07   \n",
       "4                                NaN                      NaN   \n",
       "...                              ...                      ...   \n",
       "54623                            NaN                      NaN   \n",
       "54624                            NaN                      NaN   \n",
       "54625                            NaN                      NaN   \n",
       "54626                            NaN                      NaN   \n",
       "54627                          61.12                   221.47   \n",
       "\n",
       "       daily_vaccinations_raw  daily_vaccinations  \\\n",
       "0                         NaN                 NaN   \n",
       "1                      5906.0              5906.0   \n",
       "2                      8260.0              7083.0   \n",
       "3                      8267.0              7478.0   \n",
       "4                         NaN              7498.0   \n",
       "...                       ...                 ...   \n",
       "54623                     NaN                77.0   \n",
       "54624                     NaN               100.0   \n",
       "54625                     NaN               123.0   \n",
       "54626                     NaN               146.0   \n",
       "54627                     NaN               170.0   \n",
       "\n",
       "       daily_vaccinations_per_million  share_doses_used  total_boosters  \\\n",
       "0                                 NaN             0.207             NaN   \n",
       "1                              1205.0             0.222             NaN   \n",
       "2                              1445.0             0.212             NaN   \n",
       "3                              1525.0             0.226             NaN   \n",
       "4                              1529.0               NaN             NaN   \n",
       "...                               ...               ...             ...   \n",
       "54623                           133.0               NaN             NaN   \n",
       "54624                           173.0               NaN             NaN   \n",
       "54625                           213.0               NaN             NaN   \n",
       "54626                           252.0               NaN             NaN   \n",
       "54627                           294.0             0.666        219773.0   \n",
       "\n",
       "       total_boosters_per_hundred  \n",
       "0                             NaN  \n",
       "1                             NaN  \n",
       "2                             NaN  \n",
       "3                             NaN  \n",
       "4                             NaN  \n",
       "...                           ...  \n",
       "54623                         NaN  \n",
       "54624                         NaN  \n",
       "54625                         NaN  \n",
       "54626                         NaN  \n",
       "54627                       37.97  \n",
       "\n",
       "[54628 rows x 16 columns]"
      ]
     },
     "execution_count": 134,
     "metadata": {},
     "output_type": "execute_result"
    }
   ],
   "source": [
    "#Dicionário de abreviaturas por estado\n",
    "us_states = {\n",
    "    'Alabama': 'AL', 'Alaska': 'AK', 'Arizona': 'AZ', 'Arkansas': 'AR', 'California': 'CA',\n",
    "    'Colorado': 'CO', 'Connecticut': 'CT', 'Delaware': 'DE', 'Florida': 'FL', 'Georgia': 'GA',\n",
    "    'Hawaii': 'HI', 'Idaho': 'ID', 'Illinois': 'IL', 'Indiana': 'IN', 'Iowa': 'IA',\n",
    "    'Kansas': 'KS', 'Kentucky': 'KY', 'Louisiana': 'LA', 'Maine': 'ME', 'Maryland': 'MD',\n",
    "    'Massachusetts': 'MA', 'Michigan': 'MI', 'Minnesota': 'MN', 'Mississippi': 'MS',\n",
    "    'Missouri': 'MO', 'Montana': 'MT', 'Nebraska': 'NE', 'Nevada': 'NV', 'New Hampshire': 'NH',\n",
    "    'New Jersey': 'NJ', 'New Mexico': 'NM', 'New York': 'NY', 'North Carolina': 'NC',\n",
    "    'North Dakota': 'ND', 'Ohio': 'OH', 'Oklahoma': 'OK', 'Oregon': 'OR', 'Pennsylvania': 'PA',\n",
    "    'Rhode Island': 'RI', 'South Carolina': 'SC', 'South Dakota': 'SD', 'Tennessee': 'TN',\n",
    "    'Texas': 'TX', 'Utah': 'UT', 'Vermont': 'VT', 'Virginia': 'VA', 'Washington': 'WA',\n",
    "    'West Virginia': 'WV', 'Wisconsin': 'WI', 'Wyoming': 'WY'\n",
    "}\n",
    "\n",
    "#Substituir os nomes dos estados pelas abreviaturas correspondentes\n",
    "vaccine_df[\"location\"] = vaccine_df[\"location\"].map(us_states)\n",
    "\n",
    "vaccine_df"
   ]
  },
  {
   "cell_type": "code",
   "execution_count": 135,
   "metadata": {},
   "outputs": [],
   "source": [
    "#Remover valores que não correspondem a um estado dos EUA\n",
    "vaccine_df = vaccine_df.dropna(subset=[\"location\"])\n",
    "\n",
    "#Remover valores de \"total_vaccinations_per_hundred\" nulos\n",
    "vaccine_df = vaccine_df.dropna(subset=\"total_vaccinations_per_hundred\")"
   ]
  },
  {
   "cell_type": "code",
   "execution_count": 136,
   "metadata": {},
   "outputs": [
    {
     "data": {
      "text/html": [
       "<div>\n",
       "<style scoped>\n",
       "    .dataframe tbody tr th:only-of-type {\n",
       "        vertical-align: middle;\n",
       "    }\n",
       "\n",
       "    .dataframe tbody tr th {\n",
       "        vertical-align: top;\n",
       "    }\n",
       "\n",
       "    .dataframe thead th {\n",
       "        text-align: right;\n",
       "    }\n",
       "</style>\n",
       "<table border=\"1\" class=\"dataframe\">\n",
       "  <thead>\n",
       "    <tr style=\"text-align: right;\">\n",
       "      <th></th>\n",
       "      <th>date</th>\n",
       "      <th>location</th>\n",
       "      <th>total_vaccinations</th>\n",
       "      <th>total_distributed</th>\n",
       "      <th>people_vaccinated</th>\n",
       "      <th>people_fully_vaccinated_per_hundred</th>\n",
       "      <th>total_vaccinations_per_hundred</th>\n",
       "      <th>people_fully_vaccinated</th>\n",
       "      <th>people_vaccinated_per_hundred</th>\n",
       "      <th>distributed_per_hundred</th>\n",
       "      <th>daily_vaccinations_raw</th>\n",
       "      <th>daily_vaccinations</th>\n",
       "      <th>daily_vaccinations_per_million</th>\n",
       "      <th>share_doses_used</th>\n",
       "      <th>total_boosters</th>\n",
       "      <th>total_boosters_per_hundred</th>\n",
       "    </tr>\n",
       "  </thead>\n",
       "  <tbody>\n",
       "  </tbody>\n",
       "</table>\n",
       "</div>"
      ],
      "text/plain": [
       "Empty DataFrame\n",
       "Columns: [date, location, total_vaccinations, total_distributed, people_vaccinated, people_fully_vaccinated_per_hundred, total_vaccinations_per_hundred, people_fully_vaccinated, people_vaccinated_per_hundred, distributed_per_hundred, daily_vaccinations_raw, daily_vaccinations, daily_vaccinations_per_million, share_doses_used, total_boosters, total_boosters_per_hundred]\n",
       "Index: []"
      ]
     },
     "execution_count": 136,
     "metadata": {},
     "output_type": "execute_result"
    }
   ],
   "source": [
    "#verificar se existem valores duplicados\n",
    "vaccine_df[vaccine_df.duplicated() == True]"
   ]
  },
  {
   "cell_type": "code",
   "execution_count": 137,
   "metadata": {},
   "outputs": [
    {
     "data": {
      "text/html": [
       "<div>\n",
       "<style scoped>\n",
       "    .dataframe tbody tr th:only-of-type {\n",
       "        vertical-align: middle;\n",
       "    }\n",
       "\n",
       "    .dataframe tbody tr th {\n",
       "        vertical-align: top;\n",
       "    }\n",
       "\n",
       "    .dataframe thead th {\n",
       "        text-align: right;\n",
       "    }\n",
       "</style>\n",
       "<table border=\"1\" class=\"dataframe\">\n",
       "  <thead>\n",
       "    <tr style=\"text-align: right;\">\n",
       "      <th></th>\n",
       "      <th>date</th>\n",
       "      <th>location</th>\n",
       "      <th>total_vaccinations</th>\n",
       "      <th>total_distributed</th>\n",
       "      <th>people_vaccinated</th>\n",
       "      <th>people_fully_vaccinated_per_hundred</th>\n",
       "      <th>total_vaccinations_per_hundred</th>\n",
       "      <th>people_fully_vaccinated</th>\n",
       "      <th>people_vaccinated_per_hundred</th>\n",
       "      <th>distributed_per_hundred</th>\n",
       "      <th>daily_vaccinations_raw</th>\n",
       "      <th>daily_vaccinations</th>\n",
       "      <th>daily_vaccinations_per_million</th>\n",
       "      <th>share_doses_used</th>\n",
       "      <th>total_boosters</th>\n",
       "      <th>total_boosters_per_hundred</th>\n",
       "      <th>year</th>\n",
       "    </tr>\n",
       "  </thead>\n",
       "  <tbody>\n",
       "    <tr>\n",
       "      <th>849</th>\n",
       "      <td>2021-01-12</td>\n",
       "      <td>AK</td>\n",
       "      <td>35838.0</td>\n",
       "      <td>141600.0</td>\n",
       "      <td>22486.0</td>\n",
       "      <td>0.74</td>\n",
       "      <td>4.90</td>\n",
       "      <td>5400.0</td>\n",
       "      <td>3.07</td>\n",
       "      <td>19.36</td>\n",
       "      <td>NaN</td>\n",
       "      <td>NaN</td>\n",
       "      <td>NaN</td>\n",
       "      <td>0.253</td>\n",
       "      <td>NaN</td>\n",
       "      <td>NaN</td>\n",
       "      <td>2021</td>\n",
       "    </tr>\n",
       "    <tr>\n",
       "      <th>850</th>\n",
       "      <td>2021-01-13</td>\n",
       "      <td>AK</td>\n",
       "      <td>38680.0</td>\n",
       "      <td>149475.0</td>\n",
       "      <td>24541.0</td>\n",
       "      <td>0.84</td>\n",
       "      <td>5.29</td>\n",
       "      <td>6166.0</td>\n",
       "      <td>3.35</td>\n",
       "      <td>20.43</td>\n",
       "      <td>2842.0</td>\n",
       "      <td>2842.0</td>\n",
       "      <td>3885.0</td>\n",
       "      <td>0.259</td>\n",
       "      <td>NaN</td>\n",
       "      <td>NaN</td>\n",
       "      <td>2021</td>\n",
       "    </tr>\n",
       "    <tr>\n",
       "      <th>851</th>\n",
       "      <td>2021-01-14</td>\n",
       "      <td>AK</td>\n",
       "      <td>42596.0</td>\n",
       "      <td>150450.0</td>\n",
       "      <td>35508.0</td>\n",
       "      <td>NaN</td>\n",
       "      <td>5.82</td>\n",
       "      <td>NaN</td>\n",
       "      <td>4.85</td>\n",
       "      <td>20.57</td>\n",
       "      <td>3916.0</td>\n",
       "      <td>3379.0</td>\n",
       "      <td>4619.0</td>\n",
       "      <td>0.283</td>\n",
       "      <td>NaN</td>\n",
       "      <td>NaN</td>\n",
       "      <td>2021</td>\n",
       "    </tr>\n",
       "    <tr>\n",
       "      <th>852</th>\n",
       "      <td>2021-01-15</td>\n",
       "      <td>AK</td>\n",
       "      <td>49039.0</td>\n",
       "      <td>150450.0</td>\n",
       "      <td>39546.0</td>\n",
       "      <td>1.29</td>\n",
       "      <td>6.70</td>\n",
       "      <td>9406.0</td>\n",
       "      <td>5.41</td>\n",
       "      <td>20.57</td>\n",
       "      <td>6443.0</td>\n",
       "      <td>4400.0</td>\n",
       "      <td>6015.0</td>\n",
       "      <td>0.326</td>\n",
       "      <td>NaN</td>\n",
       "      <td>NaN</td>\n",
       "      <td>2021</td>\n",
       "    </tr>\n",
       "    <tr>\n",
       "      <th>856</th>\n",
       "      <td>2021-01-19</td>\n",
       "      <td>AK</td>\n",
       "      <td>66331.0</td>\n",
       "      <td>150450.0</td>\n",
       "      <td>55434.0</td>\n",
       "      <td>1.48</td>\n",
       "      <td>9.07</td>\n",
       "      <td>10802.0</td>\n",
       "      <td>7.58</td>\n",
       "      <td>20.57</td>\n",
       "      <td>NaN</td>\n",
       "      <td>4356.0</td>\n",
       "      <td>5955.0</td>\n",
       "      <td>0.441</td>\n",
       "      <td>NaN</td>\n",
       "      <td>NaN</td>\n",
       "      <td>2021</td>\n",
       "    </tr>\n",
       "    <tr>\n",
       "      <th>...</th>\n",
       "      <td>...</td>\n",
       "      <td>...</td>\n",
       "      <td>...</td>\n",
       "      <td>...</td>\n",
       "      <td>...</td>\n",
       "      <td>...</td>\n",
       "      <td>...</td>\n",
       "      <td>...</td>\n",
       "      <td>...</td>\n",
       "      <td>...</td>\n",
       "      <td>...</td>\n",
       "      <td>...</td>\n",
       "      <td>...</td>\n",
       "      <td>...</td>\n",
       "      <td>...</td>\n",
       "      <td>...</td>\n",
       "      <td>...</td>\n",
       "    </tr>\n",
       "    <tr>\n",
       "      <th>54599</th>\n",
       "      <td>2023-04-12</td>\n",
       "      <td>WY</td>\n",
       "      <td>852206.0</td>\n",
       "      <td>1274595.0</td>\n",
       "      <td>353371.0</td>\n",
       "      <td>53.11</td>\n",
       "      <td>147.25</td>\n",
       "      <td>307401.0</td>\n",
       "      <td>61.06</td>\n",
       "      <td>220.23</td>\n",
       "      <td>NaN</td>\n",
       "      <td>86.0</td>\n",
       "      <td>149.0</td>\n",
       "      <td>0.669</td>\n",
       "      <td>218421.0</td>\n",
       "      <td>37.74</td>\n",
       "      <td>2023</td>\n",
       "    </tr>\n",
       "    <tr>\n",
       "      <th>54606</th>\n",
       "      <td>2023-04-19</td>\n",
       "      <td>WY</td>\n",
       "      <td>852573.0</td>\n",
       "      <td>1276035.0</td>\n",
       "      <td>353471.0</td>\n",
       "      <td>53.13</td>\n",
       "      <td>147.31</td>\n",
       "      <td>307470.0</td>\n",
       "      <td>61.07</td>\n",
       "      <td>220.48</td>\n",
       "      <td>NaN</td>\n",
       "      <td>52.0</td>\n",
       "      <td>90.0</td>\n",
       "      <td>0.668</td>\n",
       "      <td>218619.0</td>\n",
       "      <td>37.77</td>\n",
       "      <td>2023</td>\n",
       "    </tr>\n",
       "    <tr>\n",
       "      <th>54613</th>\n",
       "      <td>2023-04-26</td>\n",
       "      <td>WY</td>\n",
       "      <td>852892.0</td>\n",
       "      <td>1277235.0</td>\n",
       "      <td>353546.0</td>\n",
       "      <td>53.13</td>\n",
       "      <td>147.37</td>\n",
       "      <td>307515.0</td>\n",
       "      <td>61.09</td>\n",
       "      <td>220.69</td>\n",
       "      <td>NaN</td>\n",
       "      <td>46.0</td>\n",
       "      <td>79.0</td>\n",
       "      <td>0.668</td>\n",
       "      <td>218818.0</td>\n",
       "      <td>37.81</td>\n",
       "      <td>2023</td>\n",
       "    </tr>\n",
       "    <tr>\n",
       "      <th>54620</th>\n",
       "      <td>2023-05-03</td>\n",
       "      <td>WY</td>\n",
       "      <td>852945.0</td>\n",
       "      <td>1279735.0</td>\n",
       "      <td>353583.0</td>\n",
       "      <td>53.14</td>\n",
       "      <td>147.37</td>\n",
       "      <td>307538.0</td>\n",
       "      <td>61.09</td>\n",
       "      <td>221.12</td>\n",
       "      <td>NaN</td>\n",
       "      <td>8.0</td>\n",
       "      <td>14.0</td>\n",
       "      <td>0.667</td>\n",
       "      <td>218811.0</td>\n",
       "      <td>37.81</td>\n",
       "      <td>2023</td>\n",
       "    </tr>\n",
       "    <tr>\n",
       "      <th>54627</th>\n",
       "      <td>2023-05-10</td>\n",
       "      <td>WY</td>\n",
       "      <td>854132.0</td>\n",
       "      <td>1281755.0</td>\n",
       "      <td>353727.0</td>\n",
       "      <td>53.15</td>\n",
       "      <td>147.58</td>\n",
       "      <td>307619.0</td>\n",
       "      <td>61.12</td>\n",
       "      <td>221.47</td>\n",
       "      <td>NaN</td>\n",
       "      <td>170.0</td>\n",
       "      <td>294.0</td>\n",
       "      <td>0.666</td>\n",
       "      <td>219773.0</td>\n",
       "      <td>37.97</td>\n",
       "      <td>2023</td>\n",
       "    </tr>\n",
       "  </tbody>\n",
       "</table>\n",
       "<p>25241 rows × 17 columns</p>\n",
       "</div>"
      ],
      "text/plain": [
       "            date location  total_vaccinations  total_distributed  \\\n",
       "849   2021-01-12       AK             35838.0           141600.0   \n",
       "850   2021-01-13       AK             38680.0           149475.0   \n",
       "851   2021-01-14       AK             42596.0           150450.0   \n",
       "852   2021-01-15       AK             49039.0           150450.0   \n",
       "856   2021-01-19       AK             66331.0           150450.0   \n",
       "...          ...      ...                 ...                ...   \n",
       "54599 2023-04-12       WY            852206.0          1274595.0   \n",
       "54606 2023-04-19       WY            852573.0          1276035.0   \n",
       "54613 2023-04-26       WY            852892.0          1277235.0   \n",
       "54620 2023-05-03       WY            852945.0          1279735.0   \n",
       "54627 2023-05-10       WY            854132.0          1281755.0   \n",
       "\n",
       "       people_vaccinated  people_fully_vaccinated_per_hundred  \\\n",
       "849              22486.0                                 0.74   \n",
       "850              24541.0                                 0.84   \n",
       "851              35508.0                                  NaN   \n",
       "852              39546.0                                 1.29   \n",
       "856              55434.0                                 1.48   \n",
       "...                  ...                                  ...   \n",
       "54599           353371.0                                53.11   \n",
       "54606           353471.0                                53.13   \n",
       "54613           353546.0                                53.13   \n",
       "54620           353583.0                                53.14   \n",
       "54627           353727.0                                53.15   \n",
       "\n",
       "       total_vaccinations_per_hundred  people_fully_vaccinated  \\\n",
       "849                              4.90                   5400.0   \n",
       "850                              5.29                   6166.0   \n",
       "851                              5.82                      NaN   \n",
       "852                              6.70                   9406.0   \n",
       "856                              9.07                  10802.0   \n",
       "...                               ...                      ...   \n",
       "54599                          147.25                 307401.0   \n",
       "54606                          147.31                 307470.0   \n",
       "54613                          147.37                 307515.0   \n",
       "54620                          147.37                 307538.0   \n",
       "54627                          147.58                 307619.0   \n",
       "\n",
       "       people_vaccinated_per_hundred  distributed_per_hundred  \\\n",
       "849                             3.07                    19.36   \n",
       "850                             3.35                    20.43   \n",
       "851                             4.85                    20.57   \n",
       "852                             5.41                    20.57   \n",
       "856                             7.58                    20.57   \n",
       "...                              ...                      ...   \n",
       "54599                          61.06                   220.23   \n",
       "54606                          61.07                   220.48   \n",
       "54613                          61.09                   220.69   \n",
       "54620                          61.09                   221.12   \n",
       "54627                          61.12                   221.47   \n",
       "\n",
       "       daily_vaccinations_raw  daily_vaccinations  \\\n",
       "849                       NaN                 NaN   \n",
       "850                    2842.0              2842.0   \n",
       "851                    3916.0              3379.0   \n",
       "852                    6443.0              4400.0   \n",
       "856                       NaN              4356.0   \n",
       "...                       ...                 ...   \n",
       "54599                     NaN                86.0   \n",
       "54606                     NaN                52.0   \n",
       "54613                     NaN                46.0   \n",
       "54620                     NaN                 8.0   \n",
       "54627                     NaN               170.0   \n",
       "\n",
       "       daily_vaccinations_per_million  share_doses_used  total_boosters  \\\n",
       "849                               NaN             0.253             NaN   \n",
       "850                            3885.0             0.259             NaN   \n",
       "851                            4619.0             0.283             NaN   \n",
       "852                            6015.0             0.326             NaN   \n",
       "856                            5955.0             0.441             NaN   \n",
       "...                               ...               ...             ...   \n",
       "54599                           149.0             0.669        218421.0   \n",
       "54606                            90.0             0.668        218619.0   \n",
       "54613                            79.0             0.668        218818.0   \n",
       "54620                            14.0             0.667        218811.0   \n",
       "54627                           294.0             0.666        219773.0   \n",
       "\n",
       "       total_boosters_per_hundred  year  \n",
       "849                           NaN  2021  \n",
       "850                           NaN  2021  \n",
       "851                           NaN  2021  \n",
       "852                           NaN  2021  \n",
       "856                           NaN  2021  \n",
       "...                           ...   ...  \n",
       "54599                       37.74  2023  \n",
       "54606                       37.77  2023  \n",
       "54613                       37.81  2023  \n",
       "54620                       37.81  2023  \n",
       "54627                       37.97  2023  \n",
       "\n",
       "[25241 rows x 17 columns]"
      ]
     },
     "execution_count": 137,
     "metadata": {},
     "output_type": "execute_result"
    }
   ],
   "source": [
    "#Converter datas da coluna \"date\" para objetos datetime\n",
    "vaccine_df[\"date\"] = pd.to_datetime(vaccine_df[\"date\"])\n",
    "\n",
    "#Extrair o ano de cada uma das datas\n",
    "vaccine_df['year'] = vaccine_df['date'].dt.year\n",
    "\n",
    "#Ordenar a dataframe por estado e ano (ascendente)\n",
    "sorted_vaccine_df = vaccine_df.sort_values(by=[\"location\", \"year\"])\n",
    "\n",
    "sorted_vaccine_df"
   ]
  },
  {
   "cell_type": "code",
   "execution_count": 138,
   "metadata": {},
   "outputs": [
    {
     "data": {
      "text/html": [
       "<div>\n",
       "<style scoped>\n",
       "    .dataframe tbody tr th:only-of-type {\n",
       "        vertical-align: middle;\n",
       "    }\n",
       "\n",
       "    .dataframe tbody tr th {\n",
       "        vertical-align: top;\n",
       "    }\n",
       "\n",
       "    .dataframe thead th {\n",
       "        text-align: right;\n",
       "    }\n",
       "</style>\n",
       "<table border=\"1\" class=\"dataframe\">\n",
       "  <thead>\n",
       "    <tr style=\"text-align: right;\">\n",
       "      <th></th>\n",
       "      <th>date</th>\n",
       "      <th>location</th>\n",
       "      <th>total_vaccinations</th>\n",
       "      <th>people_vaccinated</th>\n",
       "      <th>people_fully_vaccinated_per_hundred</th>\n",
       "      <th>total_vaccinations_per_hundred</th>\n",
       "      <th>people_fully_vaccinated</th>\n",
       "      <th>people_vaccinated_per_hundred</th>\n",
       "      <th>year</th>\n",
       "    </tr>\n",
       "  </thead>\n",
       "  <tbody>\n",
       "    <tr>\n",
       "      <th>0</th>\n",
       "      <td>2021-01-12</td>\n",
       "      <td>AL</td>\n",
       "      <td>78134.0</td>\n",
       "      <td>70861.0</td>\n",
       "      <td>0.15</td>\n",
       "      <td>1.59</td>\n",
       "      <td>7270.0</td>\n",
       "      <td>1.45</td>\n",
       "      <td>2021</td>\n",
       "    </tr>\n",
       "    <tr>\n",
       "      <th>1</th>\n",
       "      <td>2021-01-13</td>\n",
       "      <td>AL</td>\n",
       "      <td>84040.0</td>\n",
       "      <td>74792.0</td>\n",
       "      <td>0.19</td>\n",
       "      <td>1.71</td>\n",
       "      <td>9245.0</td>\n",
       "      <td>1.53</td>\n",
       "      <td>2021</td>\n",
       "    </tr>\n",
       "    <tr>\n",
       "      <th>2</th>\n",
       "      <td>2021-01-14</td>\n",
       "      <td>AL</td>\n",
       "      <td>92300.0</td>\n",
       "      <td>80480.0</td>\n",
       "      <td>NaN</td>\n",
       "      <td>1.88</td>\n",
       "      <td>NaN</td>\n",
       "      <td>1.64</td>\n",
       "      <td>2021</td>\n",
       "    </tr>\n",
       "    <tr>\n",
       "      <th>3</th>\n",
       "      <td>2021-01-15</td>\n",
       "      <td>AL</td>\n",
       "      <td>100567.0</td>\n",
       "      <td>86956.0</td>\n",
       "      <td>0.28</td>\n",
       "      <td>2.05</td>\n",
       "      <td>13488.0</td>\n",
       "      <td>1.77</td>\n",
       "      <td>2021</td>\n",
       "    </tr>\n",
       "    <tr>\n",
       "      <th>7</th>\n",
       "      <td>2021-01-19</td>\n",
       "      <td>AL</td>\n",
       "      <td>130795.0</td>\n",
       "      <td>114319.0</td>\n",
       "      <td>0.33</td>\n",
       "      <td>2.67</td>\n",
       "      <td>16346.0</td>\n",
       "      <td>2.33</td>\n",
       "      <td>2021</td>\n",
       "    </tr>\n",
       "    <tr>\n",
       "      <th>...</th>\n",
       "      <td>...</td>\n",
       "      <td>...</td>\n",
       "      <td>...</td>\n",
       "      <td>...</td>\n",
       "      <td>...</td>\n",
       "      <td>...</td>\n",
       "      <td>...</td>\n",
       "      <td>...</td>\n",
       "      <td>...</td>\n",
       "    </tr>\n",
       "    <tr>\n",
       "      <th>54599</th>\n",
       "      <td>2023-04-12</td>\n",
       "      <td>WY</td>\n",
       "      <td>852206.0</td>\n",
       "      <td>353371.0</td>\n",
       "      <td>53.11</td>\n",
       "      <td>147.25</td>\n",
       "      <td>307401.0</td>\n",
       "      <td>61.06</td>\n",
       "      <td>2023</td>\n",
       "    </tr>\n",
       "    <tr>\n",
       "      <th>54606</th>\n",
       "      <td>2023-04-19</td>\n",
       "      <td>WY</td>\n",
       "      <td>852573.0</td>\n",
       "      <td>353471.0</td>\n",
       "      <td>53.13</td>\n",
       "      <td>147.31</td>\n",
       "      <td>307470.0</td>\n",
       "      <td>61.07</td>\n",
       "      <td>2023</td>\n",
       "    </tr>\n",
       "    <tr>\n",
       "      <th>54613</th>\n",
       "      <td>2023-04-26</td>\n",
       "      <td>WY</td>\n",
       "      <td>852892.0</td>\n",
       "      <td>353546.0</td>\n",
       "      <td>53.13</td>\n",
       "      <td>147.37</td>\n",
       "      <td>307515.0</td>\n",
       "      <td>61.09</td>\n",
       "      <td>2023</td>\n",
       "    </tr>\n",
       "    <tr>\n",
       "      <th>54620</th>\n",
       "      <td>2023-05-03</td>\n",
       "      <td>WY</td>\n",
       "      <td>852945.0</td>\n",
       "      <td>353583.0</td>\n",
       "      <td>53.14</td>\n",
       "      <td>147.37</td>\n",
       "      <td>307538.0</td>\n",
       "      <td>61.09</td>\n",
       "      <td>2023</td>\n",
       "    </tr>\n",
       "    <tr>\n",
       "      <th>54627</th>\n",
       "      <td>2023-05-10</td>\n",
       "      <td>WY</td>\n",
       "      <td>854132.0</td>\n",
       "      <td>353727.0</td>\n",
       "      <td>53.15</td>\n",
       "      <td>147.58</td>\n",
       "      <td>307619.0</td>\n",
       "      <td>61.12</td>\n",
       "      <td>2023</td>\n",
       "    </tr>\n",
       "  </tbody>\n",
       "</table>\n",
       "<p>25241 rows × 9 columns</p>\n",
       "</div>"
      ],
      "text/plain": [
       "            date location  total_vaccinations  people_vaccinated  \\\n",
       "0     2021-01-12       AL             78134.0            70861.0   \n",
       "1     2021-01-13       AL             84040.0            74792.0   \n",
       "2     2021-01-14       AL             92300.0            80480.0   \n",
       "3     2021-01-15       AL            100567.0            86956.0   \n",
       "7     2021-01-19       AL            130795.0           114319.0   \n",
       "...          ...      ...                 ...                ...   \n",
       "54599 2023-04-12       WY            852206.0           353371.0   \n",
       "54606 2023-04-19       WY            852573.0           353471.0   \n",
       "54613 2023-04-26       WY            852892.0           353546.0   \n",
       "54620 2023-05-03       WY            852945.0           353583.0   \n",
       "54627 2023-05-10       WY            854132.0           353727.0   \n",
       "\n",
       "       people_fully_vaccinated_per_hundred  total_vaccinations_per_hundred  \\\n",
       "0                                     0.15                            1.59   \n",
       "1                                     0.19                            1.71   \n",
       "2                                      NaN                            1.88   \n",
       "3                                     0.28                            2.05   \n",
       "7                                     0.33                            2.67   \n",
       "...                                    ...                             ...   \n",
       "54599                                53.11                          147.25   \n",
       "54606                                53.13                          147.31   \n",
       "54613                                53.13                          147.37   \n",
       "54620                                53.14                          147.37   \n",
       "54627                                53.15                          147.58   \n",
       "\n",
       "       people_fully_vaccinated  people_vaccinated_per_hundred  year  \n",
       "0                       7270.0                           1.45  2021  \n",
       "1                       9245.0                           1.53  2021  \n",
       "2                          NaN                           1.64  2021  \n",
       "3                      13488.0                           1.77  2021  \n",
       "7                      16346.0                           2.33  2021  \n",
       "...                        ...                            ...   ...  \n",
       "54599                 307401.0                          61.06  2023  \n",
       "54606                 307470.0                          61.07  2023  \n",
       "54613                 307515.0                          61.09  2023  \n",
       "54620                 307538.0                          61.09  2023  \n",
       "54627                 307619.0                          61.12  2023  \n",
       "\n",
       "[25241 rows x 9 columns]"
      ]
     },
     "execution_count": 138,
     "metadata": {},
     "output_type": "execute_result"
    }
   ],
   "source": [
    "#remover colunas que não sejam necessárias\n",
    "vaccine_df = vaccine_df.drop([\"total_distributed\", \"total_boosters_per_hundred\",\n",
    "                               \"total_boosters\", \"share_doses_used\",\n",
    "                               \"daily_vaccinations_per_million\",\n",
    "                               \"daily_vaccinations_raw\",\n",
    "                               \"daily_vaccinations\",\n",
    "                               \"distributed_per_hundred\"], axis = 1)\n",
    "\n",
    "vaccine_df"
   ]
  },
  {
   "cell_type": "code",
   "execution_count": 139,
   "metadata": {},
   "outputs": [
    {
     "data": {
      "text/html": [
       "<div>\n",
       "<style scoped>\n",
       "    .dataframe tbody tr th:only-of-type {\n",
       "        vertical-align: middle;\n",
       "    }\n",
       "\n",
       "    .dataframe tbody tr th {\n",
       "        vertical-align: top;\n",
       "    }\n",
       "\n",
       "    .dataframe thead th {\n",
       "        text-align: right;\n",
       "    }\n",
       "</style>\n",
       "<table border=\"1\" class=\"dataframe\">\n",
       "  <thead>\n",
       "    <tr style=\"text-align: right;\">\n",
       "      <th></th>\n",
       "      <th>date</th>\n",
       "      <th>location</th>\n",
       "      <th>total_vaccinations</th>\n",
       "      <th>people_vaccinated</th>\n",
       "      <th>people_fully_vaccinated_per_hundred</th>\n",
       "      <th>total_vaccinations_per_hundred</th>\n",
       "      <th>people_fully_vaccinated</th>\n",
       "      <th>people_vaccinated_per_hundred</th>\n",
       "      <th>year</th>\n",
       "    </tr>\n",
       "  </thead>\n",
       "  <tbody>\n",
       "    <tr>\n",
       "      <th>0</th>\n",
       "      <td>2021-01-12</td>\n",
       "      <td>AL</td>\n",
       "      <td>78134.0</td>\n",
       "      <td>70861.0</td>\n",
       "      <td>0.15</td>\n",
       "      <td>1.59</td>\n",
       "      <td>7270.0</td>\n",
       "      <td>1.45</td>\n",
       "      <td>2021</td>\n",
       "    </tr>\n",
       "    <tr>\n",
       "      <th>1</th>\n",
       "      <td>2021-01-13</td>\n",
       "      <td>AL</td>\n",
       "      <td>84040.0</td>\n",
       "      <td>74792.0</td>\n",
       "      <td>0.19</td>\n",
       "      <td>1.71</td>\n",
       "      <td>9245.0</td>\n",
       "      <td>1.53</td>\n",
       "      <td>2021</td>\n",
       "    </tr>\n",
       "    <tr>\n",
       "      <th>2</th>\n",
       "      <td>2021-01-14</td>\n",
       "      <td>AL</td>\n",
       "      <td>92300.0</td>\n",
       "      <td>80480.0</td>\n",
       "      <td>NaN</td>\n",
       "      <td>1.88</td>\n",
       "      <td>NaN</td>\n",
       "      <td>1.64</td>\n",
       "      <td>2021</td>\n",
       "    </tr>\n",
       "    <tr>\n",
       "      <th>3</th>\n",
       "      <td>2021-01-15</td>\n",
       "      <td>AL</td>\n",
       "      <td>100567.0</td>\n",
       "      <td>86956.0</td>\n",
       "      <td>0.28</td>\n",
       "      <td>2.05</td>\n",
       "      <td>13488.0</td>\n",
       "      <td>1.77</td>\n",
       "      <td>2021</td>\n",
       "    </tr>\n",
       "    <tr>\n",
       "      <th>4</th>\n",
       "      <td>2021-01-19</td>\n",
       "      <td>AL</td>\n",
       "      <td>130795.0</td>\n",
       "      <td>114319.0</td>\n",
       "      <td>0.33</td>\n",
       "      <td>2.67</td>\n",
       "      <td>16346.0</td>\n",
       "      <td>2.33</td>\n",
       "      <td>2021</td>\n",
       "    </tr>\n",
       "    <tr>\n",
       "      <th>...</th>\n",
       "      <td>...</td>\n",
       "      <td>...</td>\n",
       "      <td>...</td>\n",
       "      <td>...</td>\n",
       "      <td>...</td>\n",
       "      <td>...</td>\n",
       "      <td>...</td>\n",
       "      <td>...</td>\n",
       "      <td>...</td>\n",
       "    </tr>\n",
       "    <tr>\n",
       "      <th>25236</th>\n",
       "      <td>2023-04-12</td>\n",
       "      <td>WY</td>\n",
       "      <td>852206.0</td>\n",
       "      <td>353371.0</td>\n",
       "      <td>53.11</td>\n",
       "      <td>147.25</td>\n",
       "      <td>307401.0</td>\n",
       "      <td>61.06</td>\n",
       "      <td>2023</td>\n",
       "    </tr>\n",
       "    <tr>\n",
       "      <th>25237</th>\n",
       "      <td>2023-04-19</td>\n",
       "      <td>WY</td>\n",
       "      <td>852573.0</td>\n",
       "      <td>353471.0</td>\n",
       "      <td>53.13</td>\n",
       "      <td>147.31</td>\n",
       "      <td>307470.0</td>\n",
       "      <td>61.07</td>\n",
       "      <td>2023</td>\n",
       "    </tr>\n",
       "    <tr>\n",
       "      <th>25238</th>\n",
       "      <td>2023-04-26</td>\n",
       "      <td>WY</td>\n",
       "      <td>852892.0</td>\n",
       "      <td>353546.0</td>\n",
       "      <td>53.13</td>\n",
       "      <td>147.37</td>\n",
       "      <td>307515.0</td>\n",
       "      <td>61.09</td>\n",
       "      <td>2023</td>\n",
       "    </tr>\n",
       "    <tr>\n",
       "      <th>25239</th>\n",
       "      <td>2023-05-03</td>\n",
       "      <td>WY</td>\n",
       "      <td>852945.0</td>\n",
       "      <td>353583.0</td>\n",
       "      <td>53.14</td>\n",
       "      <td>147.37</td>\n",
       "      <td>307538.0</td>\n",
       "      <td>61.09</td>\n",
       "      <td>2023</td>\n",
       "    </tr>\n",
       "    <tr>\n",
       "      <th>25240</th>\n",
       "      <td>2023-05-10</td>\n",
       "      <td>WY</td>\n",
       "      <td>854132.0</td>\n",
       "      <td>353727.0</td>\n",
       "      <td>53.15</td>\n",
       "      <td>147.58</td>\n",
       "      <td>307619.0</td>\n",
       "      <td>61.12</td>\n",
       "      <td>2023</td>\n",
       "    </tr>\n",
       "  </tbody>\n",
       "</table>\n",
       "<p>25241 rows × 9 columns</p>\n",
       "</div>"
      ],
      "text/plain": [
       "            date location  total_vaccinations  people_vaccinated  \\\n",
       "0     2021-01-12       AL             78134.0            70861.0   \n",
       "1     2021-01-13       AL             84040.0            74792.0   \n",
       "2     2021-01-14       AL             92300.0            80480.0   \n",
       "3     2021-01-15       AL            100567.0            86956.0   \n",
       "4     2021-01-19       AL            130795.0           114319.0   \n",
       "...          ...      ...                 ...                ...   \n",
       "25236 2023-04-12       WY            852206.0           353371.0   \n",
       "25237 2023-04-19       WY            852573.0           353471.0   \n",
       "25238 2023-04-26       WY            852892.0           353546.0   \n",
       "25239 2023-05-03       WY            852945.0           353583.0   \n",
       "25240 2023-05-10       WY            854132.0           353727.0   \n",
       "\n",
       "       people_fully_vaccinated_per_hundred  total_vaccinations_per_hundred  \\\n",
       "0                                     0.15                            1.59   \n",
       "1                                     0.19                            1.71   \n",
       "2                                      NaN                            1.88   \n",
       "3                                     0.28                            2.05   \n",
       "4                                     0.33                            2.67   \n",
       "...                                    ...                             ...   \n",
       "25236                                53.11                          147.25   \n",
       "25237                                53.13                          147.31   \n",
       "25238                                53.13                          147.37   \n",
       "25239                                53.14                          147.37   \n",
       "25240                                53.15                          147.58   \n",
       "\n",
       "       people_fully_vaccinated  people_vaccinated_per_hundred  year  \n",
       "0                       7270.0                           1.45  2021  \n",
       "1                       9245.0                           1.53  2021  \n",
       "2                          NaN                           1.64  2021  \n",
       "3                      13488.0                           1.77  2021  \n",
       "4                      16346.0                           2.33  2021  \n",
       "...                        ...                            ...   ...  \n",
       "25236                 307401.0                          61.06  2023  \n",
       "25237                 307470.0                          61.07  2023  \n",
       "25238                 307515.0                          61.09  2023  \n",
       "25239                 307538.0                          61.09  2023  \n",
       "25240                 307619.0                          61.12  2023  \n",
       "\n",
       "[25241 rows x 9 columns]"
      ]
     },
     "execution_count": 139,
     "metadata": {},
     "output_type": "execute_result"
    }
   ],
   "source": [
    "#reestabelecer os índices corretos na df\n",
    "vaccine_df = vaccine_df.reset_index(drop = True)\n",
    "\n",
    "vaccine_df"
   ]
  },
  {
   "cell_type": "code",
   "execution_count": 140,
   "metadata": {},
   "outputs": [
    {
     "data": {
      "text/html": [
       "<div>\n",
       "<style scoped>\n",
       "    .dataframe tbody tr th:only-of-type {\n",
       "        vertical-align: middle;\n",
       "    }\n",
       "\n",
       "    .dataframe tbody tr th {\n",
       "        vertical-align: top;\n",
       "    }\n",
       "\n",
       "    .dataframe thead th {\n",
       "        text-align: right;\n",
       "    }\n",
       "</style>\n",
       "<table border=\"1\" class=\"dataframe\">\n",
       "  <thead>\n",
       "    <tr style=\"text-align: right;\">\n",
       "      <th></th>\n",
       "      <th>location</th>\n",
       "      <th>year</th>\n",
       "      <th>vaccines_per_hundred</th>\n",
       "    </tr>\n",
       "  </thead>\n",
       "  <tbody>\n",
       "    <tr>\n",
       "      <th>0</th>\n",
       "      <td>AK</td>\n",
       "      <td>2021</td>\n",
       "      <td>140.07</td>\n",
       "    </tr>\n",
       "    <tr>\n",
       "      <th>1</th>\n",
       "      <td>AK</td>\n",
       "      <td>2022</td>\n",
       "      <td>178.25</td>\n",
       "    </tr>\n",
       "    <tr>\n",
       "      <th>2</th>\n",
       "      <td>AK</td>\n",
       "      <td>2023</td>\n",
       "      <td>181.56</td>\n",
       "    </tr>\n",
       "    <tr>\n",
       "      <th>3</th>\n",
       "      <td>AL</td>\n",
       "      <td>2021</td>\n",
       "      <td>114.71</td>\n",
       "    </tr>\n",
       "    <tr>\n",
       "      <th>4</th>\n",
       "      <td>AL</td>\n",
       "      <td>2022</td>\n",
       "      <td>141.33</td>\n",
       "    </tr>\n",
       "    <tr>\n",
       "      <th>5</th>\n",
       "      <td>AL</td>\n",
       "      <td>2023</td>\n",
       "      <td>143.13</td>\n",
       "    </tr>\n",
       "    <tr>\n",
       "      <th>6</th>\n",
       "      <td>AR</td>\n",
       "      <td>2021</td>\n",
       "      <td>125.92</td>\n",
       "    </tr>\n",
       "    <tr>\n",
       "      <th>7</th>\n",
       "      <td>AR</td>\n",
       "      <td>2022</td>\n",
       "      <td>159.19</td>\n",
       "    </tr>\n",
       "    <tr>\n",
       "      <th>8</th>\n",
       "      <td>AR</td>\n",
       "      <td>2023</td>\n",
       "      <td>161.51</td>\n",
       "    </tr>\n",
       "    <tr>\n",
       "      <th>9</th>\n",
       "      <td>AZ</td>\n",
       "      <td>2021</td>\n",
       "      <td>144.14</td>\n",
       "    </tr>\n",
       "    <tr>\n",
       "      <th>10</th>\n",
       "      <td>AZ</td>\n",
       "      <td>2022</td>\n",
       "      <td>196.50</td>\n",
       "    </tr>\n",
       "    <tr>\n",
       "      <th>11</th>\n",
       "      <td>AZ</td>\n",
       "      <td>2023</td>\n",
       "      <td>201.24</td>\n",
       "    </tr>\n",
       "  </tbody>\n",
       "</table>\n",
       "</div>"
      ],
      "text/plain": [
       "   location  year  vaccines_per_hundred\n",
       "0        AK  2021                140.07\n",
       "1        AK  2022                178.25\n",
       "2        AK  2023                181.56\n",
       "3        AL  2021                114.71\n",
       "4        AL  2022                141.33\n",
       "5        AL  2023                143.13\n",
       "6        AR  2021                125.92\n",
       "7        AR  2022                159.19\n",
       "8        AR  2023                161.51\n",
       "9        AZ  2021                144.14\n",
       "10       AZ  2022                196.50\n",
       "11       AZ  2023                201.24"
      ]
     },
     "execution_count": 140,
     "metadata": {},
     "output_type": "execute_result"
    }
   ],
   "source": [
    "#retirar o número total de vacinas em cada estado (incluindo segundas e terceiras doses)\n",
    "yearly_vaccinations_per_hundred_state = sorted_vaccine_df.groupby(by=['location', 'year']).agg(\n",
    "    vaccines_per_hundred =('total_vaccinations_per_hundred', lambda x: x.iloc[-1])\n",
    ").reset_index()\n",
    "\n",
    "yearly_vaccinations_per_hundred_state.head(12)"
   ]
  },
  {
   "cell_type": "code",
   "execution_count": 141,
   "metadata": {},
   "outputs": [
    {
     "data": {
      "application/vnd.plotly.v1+json": {
       "config": {
        "plotlyServerURL": "https://plot.ly"
       },
       "data": [
        {
         "coloraxis": "coloraxis",
         "geo": "geo",
         "hovertemplate": "<b>%{hovertext}</b><br><br>year=2021<br>location=%{location}<br>Vaccinations=%{z}<extra></extra>",
         "hovertext": [
          "AK",
          "AL",
          "AR",
          "AZ",
          "CA",
          "CO",
          "CT",
          "DE",
          "FL",
          "GA",
          "HI",
          "IA",
          "ID",
          "IL",
          "IN",
          "KS",
          "KY",
          "LA",
          "MA",
          "MD",
          "ME",
          "MI",
          "MN",
          "MO",
          "MS",
          "MT",
          "NC",
          "ND",
          "NE",
          "NH",
          "NJ",
          "NM",
          "NV",
          "NY",
          "OH",
          "OK",
          "OR",
          "PA",
          "RI",
          "SC",
          "SD",
          "TN",
          "TX",
          "UT",
          "VA",
          "VT",
          "WA",
          "WI",
          "WV",
          "WY"
         ],
         "locationmode": "USA-states",
         "locations": [
          "AK",
          "AL",
          "AR",
          "AZ",
          "CA",
          "CO",
          "CT",
          "DE",
          "FL",
          "GA",
          "HI",
          "IA",
          "ID",
          "IL",
          "IN",
          "KS",
          "KY",
          "LA",
          "MA",
          "MD",
          "ME",
          "MI",
          "MN",
          "MO",
          "MS",
          "MT",
          "NC",
          "ND",
          "NE",
          "NH",
          "NJ",
          "NM",
          "NV",
          "NY",
          "OH",
          "OK",
          "OR",
          "PA",
          "RI",
          "SC",
          "SD",
          "TN",
          "TX",
          "UT",
          "VA",
          "VT",
          "WA",
          "WI",
          "WV",
          "WY"
         ],
         "name": "",
         "type": "choropleth",
         "z": {
          "bdata": "CtejcD2CYUA9CtejcK1cQHsUrkfhel9AFK5H4XoEYkBmZmZmZm5jQHE9CtejqGRArkfhehRGZ0C4HoXrUVBkQM3MzMzMlGNApHA9CtdjX0CF61G4HvViQFK4HoXrUWJAmpmZmZlJXECamZmZmXljQFyPwvUonF9Aw/UoXI96YUDhehSuR3lgQOxRuB6FS15AMzMzMzOLZ0B7FK5H4ZJlQHsUrkfhUmdAj8L1KFx/YUBI4XoUrj9kQOF6FK5HeWBA9ihcj8J1XEDsUbgeheNgQIXrUbgexWFA16NwPQqfYECuR+F6FHZiQAAAAAAAEGNAcT0K16MIZUBcj8L1KIRkQArXo3A9gmFAexSuR+ECZkAAAAAAAAhhQBSuR+F6xGBAj8L1KFw/ZEA9CtejcKVjQI/C9Shc/2ZAFK5H4XpMYECamZmZmdFhQIXrUbgeVWBAUrgeheuBYUBSuB6F66FhQOF6FK5HKWVASOF6FK4HaUAfhetRuKZkQOF6FK5HkWNA16NwPQpfYUAzMzMzM5NdQA==",
          "dtype": "f8"
         }
        },
        {
         "coloraxis": "coloraxis",
         "geo": "geo2",
         "hovertemplate": "<b>%{hovertext}</b><br><br>year=2022<br>location=%{location}<br>Vaccinations=%{z}<extra></extra>",
         "hovertext": [
          "AK",
          "AL",
          "AR",
          "AZ",
          "CA",
          "CO",
          "CT",
          "DE",
          "FL",
          "GA",
          "HI",
          "IA",
          "ID",
          "IL",
          "IN",
          "KS",
          "KY",
          "LA",
          "MA",
          "MD",
          "ME",
          "MI",
          "MN",
          "MO",
          "MS",
          "MT",
          "NC",
          "ND",
          "NE",
          "NH",
          "NJ",
          "NM",
          "NV",
          "NY",
          "OH",
          "OK",
          "OR",
          "PA",
          "RI",
          "SC",
          "SD",
          "TN",
          "TX",
          "UT",
          "VA",
          "VT",
          "WA",
          "WI",
          "WV",
          "WY"
         ],
         "locationmode": "USA-states",
         "locations": [
          "AK",
          "AL",
          "AR",
          "AZ",
          "CA",
          "CO",
          "CT",
          "DE",
          "FL",
          "GA",
          "HI",
          "IA",
          "ID",
          "IL",
          "IN",
          "KS",
          "KY",
          "LA",
          "MA",
          "MD",
          "ME",
          "MI",
          "MN",
          "MO",
          "MS",
          "MT",
          "NC",
          "ND",
          "NE",
          "NH",
          "NJ",
          "NM",
          "NV",
          "NY",
          "OH",
          "OK",
          "OR",
          "PA",
          "RI",
          "SC",
          "SD",
          "TN",
          "TX",
          "UT",
          "VA",
          "VT",
          "WA",
          "WI",
          "WV",
          "WY"
         ],
         "name": "",
         "type": "choropleth",
         "z": {
          "bdata": "AAAAAABIZkDD9Shcj6phQK5H4XoU5mNAAAAAAACQaED2KFyPwmVrQIXrUbgetWtAPQrXo3Alb0AAAAAAADhrQGZmZmZmJmhAAAAAAADQY0BxPQrXo3huQFyPwvUo1GdAcT0K16PYY0C4HoXrUeBpQHE9CtejcGRAw/UoXI+qZkDXo3A9Cq9kQClcj8L1eGJAAAAAAAAccEA9CtejcM1tQBSuR+F6FHBASOF6FK4HZ0AAAAAAAMhrQB+F61G4DmVASOF6FK7XYUCamZmZmWllQFyPwvUoPGZA4XoUrkchZUDsUbgehSNoQI/C9Shct2pAw/UoXI9ya0CPwvUoXLdrQAAAAAAAWGZAw/UoXI+KbECPwvUoXCdmQArXo3A9CmVAexSuR+Eqa0DD9Shcj0pqQIXrUbgezW5AKVyPwvWwZEBI4XoUrmdnQOxRuB6Fc2RAUrgehesxZkBSuB6F64lnQLgehetRKGxArkfhehQ2cUAzMzMzM2NsQMP1KFyPKmpArkfhehReZUCPwvUoXD9iQA==",
          "dtype": "f8"
         }
        },
        {
         "coloraxis": "coloraxis",
         "geo": "geo3",
         "hovertemplate": "<b>%{hovertext}</b><br><br>year=2023<br>location=%{location}<br>Vaccinations=%{z}<extra></extra>",
         "hovertext": [
          "AK",
          "AL",
          "AR",
          "AZ",
          "CA",
          "CO",
          "CT",
          "DE",
          "FL",
          "GA",
          "HI",
          "IA",
          "ID",
          "IL",
          "IN",
          "KS",
          "KY",
          "LA",
          "MA",
          "MD",
          "ME",
          "MI",
          "MN",
          "MO",
          "MS",
          "MT",
          "NC",
          "ND",
          "NE",
          "NH",
          "NJ",
          "NM",
          "NV",
          "NY",
          "OH",
          "OK",
          "OR",
          "PA",
          "RI",
          "SC",
          "SD",
          "TN",
          "TX",
          "UT",
          "VA",
          "VT",
          "WA",
          "WI",
          "WV",
          "WY"
         ],
         "locationmode": "USA-states",
         "locations": [
          "AK",
          "AL",
          "AR",
          "AZ",
          "CA",
          "CO",
          "CT",
          "DE",
          "FL",
          "GA",
          "HI",
          "IA",
          "ID",
          "IL",
          "IN",
          "KS",
          "KY",
          "LA",
          "MA",
          "MD",
          "ME",
          "MI",
          "MN",
          "MO",
          "MS",
          "MT",
          "NC",
          "ND",
          "NE",
          "NH",
          "NJ",
          "NM",
          "NV",
          "NY",
          "OH",
          "OK",
          "OR",
          "PA",
          "RI",
          "SC",
          "SD",
          "TN",
          "TX",
          "UT",
          "VA",
          "VT",
          "WA",
          "WI",
          "WV",
          "WY"
         ],
         "name": "",
         "type": "choropleth",
         "z": {
          "bdata": "UrgeheuxZkBcj8L1KORhQLgehetRMGRASOF6FK4naUBmZmZmZv5rQArXo3A9SmxAw/UoXI+yb0C4HoXrUdhrQJqZmZmZmWhA4XoUrkcpZEB7FK5H4SpvQArXo3A9SmhAH4XrUbg+ZEAfhetRuH5qQFyPwvUozGRArkfhehQeZ0AzMzMzMwNlQAAAAAAAuGJAXI/C9Sh8cEBxPQrXo3BuQBSuR+F6eHBArkfhehR+Z0CPwvUoXG9sQI/C9ShcZ2VASOF6FK4XYkBI4XoUrt9lQJqZmZmZKWdASOF6FK6PZUB7FK5H4bJoQBSuR+F6bGtAH4XrUbjma0BSuB6F61FsQLgehetRsGZAj8L1KFwHbUCamZmZmZFmQPYoXI/CZWVAMzMzMzPba0BI4XoUru9qQEjhehSuh29Aw/UoXI8KZUA9CtejcN1nQFK4HoXruWRAMzMzMzOjZkDsUbgehQNoQNejcD0Kt2xA7FG4HoWncUAAAAAAABhtQI/C9Shct2pAzczMzMycZUDD9Shcj3JiQA==",
          "dtype": "f8"
         }
        }
       ],
       "layout": {
        "annotations": [
         {
          "font": {},
          "showarrow": false,
          "text": "year=2021",
          "x": 0.15999999999999998,
          "xanchor": "center",
          "xref": "paper",
          "y": 1,
          "yanchor": "bottom",
          "yref": "paper"
         },
         {
          "font": {},
          "showarrow": false,
          "text": "year=2022",
          "x": 0.49999999999999994,
          "xanchor": "center",
          "xref": "paper",
          "y": 1,
          "yanchor": "bottom",
          "yref": "paper"
         },
         {
          "font": {},
          "showarrow": false,
          "text": "year=2023",
          "x": 0.8399999999999999,
          "xanchor": "center",
          "xref": "paper",
          "y": 1,
          "yanchor": "bottom",
          "yref": "paper"
         }
        ],
        "coloraxis": {
         "colorbar": {
          "title": {
           "text": "Vaccinations"
          }
         },
         "colorscale": [
          [
           0,
           "rgb(247,251,255)"
          ],
          [
           0.125,
           "rgb(222,235,247)"
          ],
          [
           0.25,
           "rgb(198,219,239)"
          ],
          [
           0.375,
           "rgb(158,202,225)"
          ],
          [
           0.5,
           "rgb(107,174,214)"
          ],
          [
           0.625,
           "rgb(66,146,198)"
          ],
          [
           0.75,
           "rgb(33,113,181)"
          ],
          [
           0.875,
           "rgb(8,81,156)"
          ],
          [
           1,
           "rgb(8,48,107)"
          ]
         ]
        },
        "geo": {
         "center": {},
         "domain": {
          "x": [
           0,
           0.31999999999999995
          ],
          "y": [
           0,
           1
          ]
         },
         "scope": "usa"
        },
        "geo2": {
         "center": {},
         "domain": {
          "x": [
           0.33999999999999997,
           0.6599999999999999
          ],
          "y": [
           0,
           1
          ]
         },
         "scope": "usa"
        },
        "geo3": {
         "center": {},
         "domain": {
          "x": [
           0.6799999999999999,
           0.9999999999999999
          ],
          "y": [
           0,
           1
          ]
         },
         "scope": "usa"
        },
        "legend": {
         "tracegroupgap": 0
        },
        "template": {
         "data": {
          "bar": [
           {
            "error_x": {
             "color": "#2a3f5f"
            },
            "error_y": {
             "color": "#2a3f5f"
            },
            "marker": {
             "line": {
              "color": "#E5ECF6",
              "width": 0.5
             },
             "pattern": {
              "fillmode": "overlay",
              "size": 10,
              "solidity": 0.2
             }
            },
            "type": "bar"
           }
          ],
          "barpolar": [
           {
            "marker": {
             "line": {
              "color": "#E5ECF6",
              "width": 0.5
             },
             "pattern": {
              "fillmode": "overlay",
              "size": 10,
              "solidity": 0.2
             }
            },
            "type": "barpolar"
           }
          ],
          "carpet": [
           {
            "aaxis": {
             "endlinecolor": "#2a3f5f",
             "gridcolor": "white",
             "linecolor": "white",
             "minorgridcolor": "white",
             "startlinecolor": "#2a3f5f"
            },
            "baxis": {
             "endlinecolor": "#2a3f5f",
             "gridcolor": "white",
             "linecolor": "white",
             "minorgridcolor": "white",
             "startlinecolor": "#2a3f5f"
            },
            "type": "carpet"
           }
          ],
          "choropleth": [
           {
            "colorbar": {
             "outlinewidth": 0,
             "ticks": ""
            },
            "type": "choropleth"
           }
          ],
          "contour": [
           {
            "colorbar": {
             "outlinewidth": 0,
             "ticks": ""
            },
            "colorscale": [
             [
              0,
              "#0d0887"
             ],
             [
              0.1111111111111111,
              "#46039f"
             ],
             [
              0.2222222222222222,
              "#7201a8"
             ],
             [
              0.3333333333333333,
              "#9c179e"
             ],
             [
              0.4444444444444444,
              "#bd3786"
             ],
             [
              0.5555555555555556,
              "#d8576b"
             ],
             [
              0.6666666666666666,
              "#ed7953"
             ],
             [
              0.7777777777777778,
              "#fb9f3a"
             ],
             [
              0.8888888888888888,
              "#fdca26"
             ],
             [
              1,
              "#f0f921"
             ]
            ],
            "type": "contour"
           }
          ],
          "contourcarpet": [
           {
            "colorbar": {
             "outlinewidth": 0,
             "ticks": ""
            },
            "type": "contourcarpet"
           }
          ],
          "heatmap": [
           {
            "colorbar": {
             "outlinewidth": 0,
             "ticks": ""
            },
            "colorscale": [
             [
              0,
              "#0d0887"
             ],
             [
              0.1111111111111111,
              "#46039f"
             ],
             [
              0.2222222222222222,
              "#7201a8"
             ],
             [
              0.3333333333333333,
              "#9c179e"
             ],
             [
              0.4444444444444444,
              "#bd3786"
             ],
             [
              0.5555555555555556,
              "#d8576b"
             ],
             [
              0.6666666666666666,
              "#ed7953"
             ],
             [
              0.7777777777777778,
              "#fb9f3a"
             ],
             [
              0.8888888888888888,
              "#fdca26"
             ],
             [
              1,
              "#f0f921"
             ]
            ],
            "type": "heatmap"
           }
          ],
          "histogram": [
           {
            "marker": {
             "pattern": {
              "fillmode": "overlay",
              "size": 10,
              "solidity": 0.2
             }
            },
            "type": "histogram"
           }
          ],
          "histogram2d": [
           {
            "colorbar": {
             "outlinewidth": 0,
             "ticks": ""
            },
            "colorscale": [
             [
              0,
              "#0d0887"
             ],
             [
              0.1111111111111111,
              "#46039f"
             ],
             [
              0.2222222222222222,
              "#7201a8"
             ],
             [
              0.3333333333333333,
              "#9c179e"
             ],
             [
              0.4444444444444444,
              "#bd3786"
             ],
             [
              0.5555555555555556,
              "#d8576b"
             ],
             [
              0.6666666666666666,
              "#ed7953"
             ],
             [
              0.7777777777777778,
              "#fb9f3a"
             ],
             [
              0.8888888888888888,
              "#fdca26"
             ],
             [
              1,
              "#f0f921"
             ]
            ],
            "type": "histogram2d"
           }
          ],
          "histogram2dcontour": [
           {
            "colorbar": {
             "outlinewidth": 0,
             "ticks": ""
            },
            "colorscale": [
             [
              0,
              "#0d0887"
             ],
             [
              0.1111111111111111,
              "#46039f"
             ],
             [
              0.2222222222222222,
              "#7201a8"
             ],
             [
              0.3333333333333333,
              "#9c179e"
             ],
             [
              0.4444444444444444,
              "#bd3786"
             ],
             [
              0.5555555555555556,
              "#d8576b"
             ],
             [
              0.6666666666666666,
              "#ed7953"
             ],
             [
              0.7777777777777778,
              "#fb9f3a"
             ],
             [
              0.8888888888888888,
              "#fdca26"
             ],
             [
              1,
              "#f0f921"
             ]
            ],
            "type": "histogram2dcontour"
           }
          ],
          "mesh3d": [
           {
            "colorbar": {
             "outlinewidth": 0,
             "ticks": ""
            },
            "type": "mesh3d"
           }
          ],
          "parcoords": [
           {
            "line": {
             "colorbar": {
              "outlinewidth": 0,
              "ticks": ""
             }
            },
            "type": "parcoords"
           }
          ],
          "pie": [
           {
            "automargin": true,
            "type": "pie"
           }
          ],
          "scatter": [
           {
            "fillpattern": {
             "fillmode": "overlay",
             "size": 10,
             "solidity": 0.2
            },
            "type": "scatter"
           }
          ],
          "scatter3d": [
           {
            "line": {
             "colorbar": {
              "outlinewidth": 0,
              "ticks": ""
             }
            },
            "marker": {
             "colorbar": {
              "outlinewidth": 0,
              "ticks": ""
             }
            },
            "type": "scatter3d"
           }
          ],
          "scattercarpet": [
           {
            "marker": {
             "colorbar": {
              "outlinewidth": 0,
              "ticks": ""
             }
            },
            "type": "scattercarpet"
           }
          ],
          "scattergeo": [
           {
            "marker": {
             "colorbar": {
              "outlinewidth": 0,
              "ticks": ""
             }
            },
            "type": "scattergeo"
           }
          ],
          "scattergl": [
           {
            "marker": {
             "colorbar": {
              "outlinewidth": 0,
              "ticks": ""
             }
            },
            "type": "scattergl"
           }
          ],
          "scattermap": [
           {
            "marker": {
             "colorbar": {
              "outlinewidth": 0,
              "ticks": ""
             }
            },
            "type": "scattermap"
           }
          ],
          "scattermapbox": [
           {
            "marker": {
             "colorbar": {
              "outlinewidth": 0,
              "ticks": ""
             }
            },
            "type": "scattermapbox"
           }
          ],
          "scatterpolar": [
           {
            "marker": {
             "colorbar": {
              "outlinewidth": 0,
              "ticks": ""
             }
            },
            "type": "scatterpolar"
           }
          ],
          "scatterpolargl": [
           {
            "marker": {
             "colorbar": {
              "outlinewidth": 0,
              "ticks": ""
             }
            },
            "type": "scatterpolargl"
           }
          ],
          "scatterternary": [
           {
            "marker": {
             "colorbar": {
              "outlinewidth": 0,
              "ticks": ""
             }
            },
            "type": "scatterternary"
           }
          ],
          "surface": [
           {
            "colorbar": {
             "outlinewidth": 0,
             "ticks": ""
            },
            "colorscale": [
             [
              0,
              "#0d0887"
             ],
             [
              0.1111111111111111,
              "#46039f"
             ],
             [
              0.2222222222222222,
              "#7201a8"
             ],
             [
              0.3333333333333333,
              "#9c179e"
             ],
             [
              0.4444444444444444,
              "#bd3786"
             ],
             [
              0.5555555555555556,
              "#d8576b"
             ],
             [
              0.6666666666666666,
              "#ed7953"
             ],
             [
              0.7777777777777778,
              "#fb9f3a"
             ],
             [
              0.8888888888888888,
              "#fdca26"
             ],
             [
              1,
              "#f0f921"
             ]
            ],
            "type": "surface"
           }
          ],
          "table": [
           {
            "cells": {
             "fill": {
              "color": "#EBF0F8"
             },
             "line": {
              "color": "white"
             }
            },
            "header": {
             "fill": {
              "color": "#C8D4E3"
             },
             "line": {
              "color": "white"
             }
            },
            "type": "table"
           }
          ]
         },
         "layout": {
          "annotationdefaults": {
           "arrowcolor": "#2a3f5f",
           "arrowhead": 0,
           "arrowwidth": 1
          },
          "autotypenumbers": "strict",
          "coloraxis": {
           "colorbar": {
            "outlinewidth": 0,
            "ticks": ""
           }
          },
          "colorscale": {
           "diverging": [
            [
             0,
             "#8e0152"
            ],
            [
             0.1,
             "#c51b7d"
            ],
            [
             0.2,
             "#de77ae"
            ],
            [
             0.3,
             "#f1b6da"
            ],
            [
             0.4,
             "#fde0ef"
            ],
            [
             0.5,
             "#f7f7f7"
            ],
            [
             0.6,
             "#e6f5d0"
            ],
            [
             0.7,
             "#b8e186"
            ],
            [
             0.8,
             "#7fbc41"
            ],
            [
             0.9,
             "#4d9221"
            ],
            [
             1,
             "#276419"
            ]
           ],
           "sequential": [
            [
             0,
             "#0d0887"
            ],
            [
             0.1111111111111111,
             "#46039f"
            ],
            [
             0.2222222222222222,
             "#7201a8"
            ],
            [
             0.3333333333333333,
             "#9c179e"
            ],
            [
             0.4444444444444444,
             "#bd3786"
            ],
            [
             0.5555555555555556,
             "#d8576b"
            ],
            [
             0.6666666666666666,
             "#ed7953"
            ],
            [
             0.7777777777777778,
             "#fb9f3a"
            ],
            [
             0.8888888888888888,
             "#fdca26"
            ],
            [
             1,
             "#f0f921"
            ]
           ],
           "sequentialminus": [
            [
             0,
             "#0d0887"
            ],
            [
             0.1111111111111111,
             "#46039f"
            ],
            [
             0.2222222222222222,
             "#7201a8"
            ],
            [
             0.3333333333333333,
             "#9c179e"
            ],
            [
             0.4444444444444444,
             "#bd3786"
            ],
            [
             0.5555555555555556,
             "#d8576b"
            ],
            [
             0.6666666666666666,
             "#ed7953"
            ],
            [
             0.7777777777777778,
             "#fb9f3a"
            ],
            [
             0.8888888888888888,
             "#fdca26"
            ],
            [
             1,
             "#f0f921"
            ]
           ]
          },
          "colorway": [
           "#636efa",
           "#EF553B",
           "#00cc96",
           "#ab63fa",
           "#FFA15A",
           "#19d3f3",
           "#FF6692",
           "#B6E880",
           "#FF97FF",
           "#FECB52"
          ],
          "font": {
           "color": "#2a3f5f"
          },
          "geo": {
           "bgcolor": "white",
           "lakecolor": "white",
           "landcolor": "#E5ECF6",
           "showlakes": true,
           "showland": true,
           "subunitcolor": "white"
          },
          "hoverlabel": {
           "align": "left"
          },
          "hovermode": "closest",
          "mapbox": {
           "style": "light"
          },
          "paper_bgcolor": "white",
          "plot_bgcolor": "#E5ECF6",
          "polar": {
           "angularaxis": {
            "gridcolor": "white",
            "linecolor": "white",
            "ticks": ""
           },
           "bgcolor": "#E5ECF6",
           "radialaxis": {
            "gridcolor": "white",
            "linecolor": "white",
            "ticks": ""
           }
          },
          "scene": {
           "xaxis": {
            "backgroundcolor": "#E5ECF6",
            "gridcolor": "white",
            "gridwidth": 2,
            "linecolor": "white",
            "showbackground": true,
            "ticks": "",
            "zerolinecolor": "white"
           },
           "yaxis": {
            "backgroundcolor": "#E5ECF6",
            "gridcolor": "white",
            "gridwidth": 2,
            "linecolor": "white",
            "showbackground": true,
            "ticks": "",
            "zerolinecolor": "white"
           },
           "zaxis": {
            "backgroundcolor": "#E5ECF6",
            "gridcolor": "white",
            "gridwidth": 2,
            "linecolor": "white",
            "showbackground": true,
            "ticks": "",
            "zerolinecolor": "white"
           }
          },
          "shapedefaults": {
           "line": {
            "color": "#2a3f5f"
           }
          },
          "ternary": {
           "aaxis": {
            "gridcolor": "white",
            "linecolor": "white",
            "ticks": ""
           },
           "baxis": {
            "gridcolor": "white",
            "linecolor": "white",
            "ticks": ""
           },
           "bgcolor": "#E5ECF6",
           "caxis": {
            "gridcolor": "white",
            "linecolor": "white",
            "ticks": ""
           }
          },
          "title": {
           "x": 0.05
          },
          "xaxis": {
           "automargin": true,
           "gridcolor": "white",
           "linecolor": "white",
           "ticks": "",
           "title": {
            "standoff": 15
           },
           "zerolinecolor": "white",
           "zerolinewidth": 2
          },
          "yaxis": {
           "automargin": true,
           "gridcolor": "white",
           "linecolor": "white",
           "ticks": "",
           "title": {
            "standoff": 15
           },
           "zerolinecolor": "white",
           "zerolinewidth": 2
          }
         }
        },
        "title": {
         "text": "Total Yearly Vaccinations per U.S. State (per hundred people)"
        }
       }
      }
     },
     "metadata": {},
     "output_type": "display_data"
    }
   ],
   "source": [
    "#criar um gráfico dos EUA para a quantitade de vacinas por estado\n",
    "fig = px.choropleth(yearly_vaccinations_per_hundred_state,\n",
    "                    locations=\"location\",\n",
    "                    color_continuous_scale=\"Blues\",\n",
    "                    locationmode=\"USA-states\",\n",
    "                    color=\"vaccines_per_hundred\",\n",
    "                    labels={\"vaccines_per_hundred\": \"Vaccinations\"},\n",
    "                    hover_name=\"location\",\n",
    "                    scope=\"usa\",\n",
    "                    facet_col=\"year\",\n",
    "                    title=\"Total Yearly Vaccinations per U.S. State (per hundred people)\"\n",
    "                )\n",
    "\n",
    "fig.show()"
   ]
  },
  {
   "cell_type": "code",
   "execution_count": 142,
   "metadata": {},
   "outputs": [],
   "source": [
    "vaccination_mean = vaccine_df.groupby([\"location\", \"year\"])[\"total_vaccinations_per_hundred\"].mean().reset_index()"
   ]
  },
  {
   "cell_type": "code",
   "execution_count": 143,
   "metadata": {},
   "outputs": [
    {
     "data": {
      "text/html": [
       "<div>\n",
       "<style scoped>\n",
       "    .dataframe tbody tr th:only-of-type {\n",
       "        vertical-align: middle;\n",
       "    }\n",
       "\n",
       "    .dataframe tbody tr th {\n",
       "        vertical-align: top;\n",
       "    }\n",
       "\n",
       "    .dataframe thead th {\n",
       "        text-align: right;\n",
       "    }\n",
       "</style>\n",
       "<table border=\"1\" class=\"dataframe\">\n",
       "  <thead>\n",
       "    <tr style=\"text-align: right;\">\n",
       "      <th></th>\n",
       "      <th>location</th>\n",
       "      <th>year</th>\n",
       "      <th>total_vaccinations_per_hundred</th>\n",
       "    </tr>\n",
       "  </thead>\n",
       "  <tbody>\n",
       "    <tr>\n",
       "      <th>0</th>\n",
       "      <td>AK</td>\n",
       "      <td>2021</td>\n",
       "      <td>83.981873</td>\n",
       "    </tr>\n",
       "    <tr>\n",
       "      <th>1</th>\n",
       "      <td>AK</td>\n",
       "      <td>2022</td>\n",
       "      <td>154.121409</td>\n",
       "    </tr>\n",
       "    <tr>\n",
       "      <th>2</th>\n",
       "      <td>AK</td>\n",
       "      <td>2023</td>\n",
       "      <td>180.274211</td>\n",
       "    </tr>\n",
       "    <tr>\n",
       "      <th>3</th>\n",
       "      <td>AL</td>\n",
       "      <td>2021</td>\n",
       "      <td>64.643293</td>\n",
       "    </tr>\n",
       "    <tr>\n",
       "      <th>4</th>\n",
       "      <td>AL</td>\n",
       "      <td>2022</td>\n",
       "      <td>126.756145</td>\n",
       "    </tr>\n",
       "    <tr>\n",
       "      <th>5</th>\n",
       "      <td>AL</td>\n",
       "      <td>2023</td>\n",
       "      <td>142.498421</td>\n",
       "    </tr>\n",
       "    <tr>\n",
       "      <th>6</th>\n",
       "      <td>AR</td>\n",
       "      <td>2021</td>\n",
       "      <td>71.359552</td>\n",
       "    </tr>\n",
       "    <tr>\n",
       "      <th>7</th>\n",
       "      <td>AR</td>\n",
       "      <td>2022</td>\n",
       "      <td>139.144833</td>\n",
       "    </tr>\n",
       "    <tr>\n",
       "      <th>8</th>\n",
       "      <td>AR</td>\n",
       "      <td>2023</td>\n",
       "      <td>160.712105</td>\n",
       "    </tr>\n",
       "    <tr>\n",
       "      <th>9</th>\n",
       "      <td>AZ</td>\n",
       "      <td>2021</td>\n",
       "      <td>82.516366</td>\n",
       "    </tr>\n",
       "    <tr>\n",
       "      <th>10</th>\n",
       "      <td>AZ</td>\n",
       "      <td>2022</td>\n",
       "      <td>164.175311</td>\n",
       "    </tr>\n",
       "    <tr>\n",
       "      <th>11</th>\n",
       "      <td>AZ</td>\n",
       "      <td>2023</td>\n",
       "      <td>199.426842</td>\n",
       "    </tr>\n",
       "    <tr>\n",
       "      <th>12</th>\n",
       "      <td>CA</td>\n",
       "      <td>2021</td>\n",
       "      <td>89.530380</td>\n",
       "    </tr>\n",
       "    <tr>\n",
       "      <th>13</th>\n",
       "      <td>CA</td>\n",
       "      <td>2022</td>\n",
       "      <td>188.467586</td>\n",
       "    </tr>\n",
       "    <tr>\n",
       "      <th>14</th>\n",
       "      <td>CA</td>\n",
       "      <td>2023</td>\n",
       "      <td>222.261579</td>\n",
       "    </tr>\n",
       "    <tr>\n",
       "      <th>15</th>\n",
       "      <td>CO</td>\n",
       "      <td>2021</td>\n",
       "      <td>93.101617</td>\n",
       "    </tr>\n",
       "    <tr>\n",
       "      <th>16</th>\n",
       "      <td>CO</td>\n",
       "      <td>2022</td>\n",
       "      <td>185.078556</td>\n",
       "    </tr>\n",
       "    <tr>\n",
       "      <th>17</th>\n",
       "      <td>CO</td>\n",
       "      <td>2023</td>\n",
       "      <td>224.402632</td>\n",
       "    </tr>\n",
       "    <tr>\n",
       "      <th>18</th>\n",
       "      <td>CT</td>\n",
       "      <td>2021</td>\n",
       "      <td>106.694625</td>\n",
       "    </tr>\n",
       "    <tr>\n",
       "      <th>19</th>\n",
       "      <td>CT</td>\n",
       "      <td>2022</td>\n",
       "      <td>211.342458</td>\n",
       "    </tr>\n",
       "    <tr>\n",
       "      <th>20</th>\n",
       "      <td>CT</td>\n",
       "      <td>2023</td>\n",
       "      <td>252.083684</td>\n",
       "    </tr>\n",
       "    <tr>\n",
       "      <th>21</th>\n",
       "      <td>DE</td>\n",
       "      <td>2021</td>\n",
       "      <td>91.203477</td>\n",
       "    </tr>\n",
       "    <tr>\n",
       "      <th>22</th>\n",
       "      <td>DE</td>\n",
       "      <td>2022</td>\n",
       "      <td>183.888444</td>\n",
       "    </tr>\n",
       "    <tr>\n",
       "      <th>23</th>\n",
       "      <td>DE</td>\n",
       "      <td>2023</td>\n",
       "      <td>221.655789</td>\n",
       "    </tr>\n",
       "    <tr>\n",
       "      <th>24</th>\n",
       "      <td>FL</td>\n",
       "      <td>2021</td>\n",
       "      <td>88.949399</td>\n",
       "    </tr>\n",
       "  </tbody>\n",
       "</table>\n",
       "</div>"
      ],
      "text/plain": [
       "   location  year  total_vaccinations_per_hundred\n",
       "0        AK  2021                       83.981873\n",
       "1        AK  2022                      154.121409\n",
       "2        AK  2023                      180.274211\n",
       "3        AL  2021                       64.643293\n",
       "4        AL  2022                      126.756145\n",
       "5        AL  2023                      142.498421\n",
       "6        AR  2021                       71.359552\n",
       "7        AR  2022                      139.144833\n",
       "8        AR  2023                      160.712105\n",
       "9        AZ  2021                       82.516366\n",
       "10       AZ  2022                      164.175311\n",
       "11       AZ  2023                      199.426842\n",
       "12       CA  2021                       89.530380\n",
       "13       CA  2022                      188.467586\n",
       "14       CA  2023                      222.261579\n",
       "15       CO  2021                       93.101617\n",
       "16       CO  2022                      185.078556\n",
       "17       CO  2023                      224.402632\n",
       "18       CT  2021                      106.694625\n",
       "19       CT  2022                      211.342458\n",
       "20       CT  2023                      252.083684\n",
       "21       DE  2021                       91.203477\n",
       "22       DE  2022                      183.888444\n",
       "23       DE  2023                      221.655789\n",
       "24       FL  2021                       88.949399"
      ]
     },
     "execution_count": 143,
     "metadata": {},
     "output_type": "execute_result"
    }
   ],
   "source": [
    "vaccination_mean.head(25)"
   ]
  },
  {
   "cell_type": "code",
   "execution_count": 144,
   "metadata": {},
   "outputs": [
    {
     "data": {
      "application/vnd.plotly.v1+json": {
       "config": {
        "plotlyServerURL": "https://plot.ly"
       },
       "data": [
        {
         "alignmentgroup": "True",
         "hovertemplate": "Year=2021<br>State=%{x}<br>Vaccinations Per Hundred=%{y}<extra></extra>",
         "legendgroup": "2021",
         "marker": {
          "color": "#636efa",
          "pattern": {
           "shape": ""
          }
         },
         "name": "2021",
         "offsetgroup": "2021",
         "orientation": "v",
         "showlegend": true,
         "textposition": "auto",
         "type": "bar",
         "x": [
          "AK",
          "AL",
          "AR",
          "AZ",
          "CA",
          "CO",
          "CT",
          "DE",
          "FL",
          "GA",
          "HI",
          "IA",
          "ID",
          "IL",
          "IN",
          "KS",
          "KY",
          "LA",
          "MA",
          "MD",
          "ME",
          "MI",
          "MN",
          "MO",
          "MS",
          "MT",
          "NC",
          "ND",
          "NE",
          "NH",
          "NJ",
          "NM",
          "NV",
          "NY",
          "OH",
          "OK",
          "OR",
          "PA",
          "RI",
          "SC",
          "SD",
          "TN",
          "TX",
          "UT",
          "VA",
          "VT",
          "WA",
          "WI",
          "WV",
          "WY"
         ],
         "xaxis": "x",
         "y": {
          "bdata": "XPtRAtf+VEAJ1CK4KylQQAS4ZOcC11FAEROEJQyhVECdx+S98WFWQOIsnOOARldAlHDXunSsWkDKhhLEBc1WQMzQsvXCPFZAjIsvtxK2UUBuyUNoPQtYQDkY+68WElVAeAKElnS5UEDN98JHix5TQOjftU6XllJAijdRWRqeU0Aa6mhRpmxSQAgZKjtMfVFAlA71yVe4WkDNUFwqzwBYQOs0D3iGuVlAMzQvQ/MsVEBTp1IQZpNWQA5Z8BgR9FJAqSVQTvI/UED4MDIakaNTQE29ZKQG2FNAmAU1HP1JU0DdZuO5xy1VQOZ2W+E4kFZAZSDvSVzxV0CKdt48TXdXQEoFRUK4HFRAlHBLhKhBWEB20JU6kLRTQIab4BRTXlNAjh2CapneVkDiJclxzQVVQN86Vt0BtVlAPHY86neLUkAtDRswfMNUQJHFduFtKFJA6tYpssTfU0AxHhBNB8xTQIN4Pb3+hFdA/VHlrEoAW0Chcyw0fulWQI2J9EDlPFZAgn0+TkrrUEBRKotIXChRQA==",
          "dtype": "f8"
         },
         "yaxis": "y"
        },
        {
         "alignmentgroup": "True",
         "hovertemplate": "Year=2022<br>State=%{x}<br>Vaccinations Per Hundred=%{y}<extra></extra>",
         "legendgroup": "2022",
         "marker": {
          "color": "#EF553B",
          "pattern": {
           "shape": ""
          }
         },
         "name": "2022",
         "offsetgroup": "2022",
         "orientation": "v",
         "showlegend": true,
         "textposition": "auto",
         "type": "bar",
         "x": [
          "AK",
          "AL",
          "AR",
          "AZ",
          "CA",
          "CO",
          "CT",
          "DE",
          "FL",
          "GA",
          "HI",
          "IA",
          "ID",
          "IL",
          "IN",
          "KS",
          "KY",
          "LA",
          "MA",
          "MD",
          "ME",
          "MI",
          "MN",
          "MO",
          "MS",
          "MT",
          "NC",
          "ND",
          "NE",
          "NH",
          "NJ",
          "NM",
          "NV",
          "NY",
          "OH",
          "OK",
          "OR",
          "PA",
          "RI",
          "SC",
          "SD",
          "TN",
          "TX",
          "UT",
          "VA",
          "VT",
          "WA",
          "WI",
          "WV",
          "WY"
         ],
         "xaxis": "x",
         "y": {
          "bdata": "OCT1leJDY0COcQ2vZLBfQDLBg3miZGFACuVBJZyFZEDOVVl39o5nQPfA8IaDImdAy8SwavVqakB1JgsjbvxmQMSU4yYOmWVAK57C/HdeYUCN7h9xNb5pQIsgHYBJI2RAlXhHWtDDYECvm5W2TDpmQGQV+hFdn2FAJsRQMF+cY0AsZtNzRyBiQKH563edpmBArR+Zj8fGakABtfZYjbRoQOmFXuiFZGpAfitmCOekY0C8ldZ9i8NmQOq5IyfEHGJAeekmMQgcYEBAX83OU3ViQLB5+6A0o2NAtd7xtF/tYUD6pE/6pIVkQCVJkiRJSmlAhtRn67frZ0DR/PW7TjpnQD3P8zzPf2NA6yvT4FTpaECEdYvq2+FiQCGwcmiRg2JAbxKDwMrVZkBvpXXf4j1mQMpDbX66/GlAv2ZzpQIZYkBcj8L1KNJjQLdnUQNyBWJAGKL25YdwY0CR9vGZphhkQM8/AtJU22dAbG0eyPxKbED0y9pl73FnQB2ASXkP5mVAvuZC0pTeYkBLA+FT1htgQA==",
          "dtype": "f8"
         },
         "yaxis": "y"
        },
        {
         "alignmentgroup": "True",
         "hovertemplate": "Year=2023<br>State=%{x}<br>Vaccinations Per Hundred=%{y}<extra></extra>",
         "legendgroup": "2023",
         "marker": {
          "color": "#00cc96",
          "pattern": {
           "shape": ""
          }
         },
         "name": "2023",
         "offsetgroup": "2023",
         "orientation": "v",
         "showlegend": true,
         "textposition": "auto",
         "type": "bar",
         "x": [
          "AK",
          "AL",
          "AR",
          "AZ",
          "CA",
          "CO",
          "CT",
          "DE",
          "FL",
          "GA",
          "HI",
          "IA",
          "ID",
          "IL",
          "IN",
          "KS",
          "KY",
          "LA",
          "MA",
          "MD",
          "ME",
          "MI",
          "MN",
          "MO",
          "MS",
          "MT",
          "NC",
          "ND",
          "NE",
          "NH",
          "NJ",
          "NM",
          "NV",
          "NY",
          "OH",
          "OK",
          "OR",
          "PA",
          "RI",
          "SC",
          "SD",
          "TN",
          "TX",
          "UT",
          "VA",
          "VT",
          "WA",
          "WI",
          "WV",
          "WY"
         ],
         "xaxis": "x",
         "y": {
          "bdata": "2VcnVcaIZkAZFrUQ889hQFMS+pDJFmRAKFXGsKjtaECgCNDaXshrQE39nlviDGxA3myCiq2Cb0Ad0TQ6/LRrQCRHNI0Ob2hAAAAAAAAIZEDPLXHq99xuQLRjBcJII2hAH4XrUbgWZECF61G4HlVqQO8MOEiOqGRA217wZhP0ZkDvDDhIjuhkQNGHTPbVoWJA5TWU11BacEDbsQJhpDVuQMhkX51UUXBArUAYacdKZ0AxLGoh5i9sQOInArS2R2VAZQyLWogBYkDUQswf375lQOxRuB6FI2dAbS94swlqZUB2UmUMi4JoQIoAre0FL2tAkoBvXk3Aa0A4m6BiqxZsQNoEFVs1j2ZAWS4e2P3bbECWiwd2/2pmQOInArS2R2VAW+LU77mVa0Dtq5MqY7BqQM8tcer3RG9ARwK+eTXtZECT0IdM9rVnQAO0the8mWRA5TWU11B2ZkCGmD++jdtnQBSuR+F6hGxAmkaHnwh8cUBd6Z0BB9FsQG3VnKcrhWpAPbD7l5KIZUAHyRFNo1tiQA==",
          "dtype": "f8"
         },
         "yaxis": "y"
        }
       ],
       "layout": {
        "barmode": "group",
        "legend": {
         "title": {
          "text": "Year"
         },
         "tracegroupgap": 0
        },
        "template": {
         "data": {
          "bar": [
           {
            "error_x": {
             "color": "#2a3f5f"
            },
            "error_y": {
             "color": "#2a3f5f"
            },
            "marker": {
             "line": {
              "color": "#E5ECF6",
              "width": 0.5
             },
             "pattern": {
              "fillmode": "overlay",
              "size": 10,
              "solidity": 0.2
             }
            },
            "type": "bar"
           }
          ],
          "barpolar": [
           {
            "marker": {
             "line": {
              "color": "#E5ECF6",
              "width": 0.5
             },
             "pattern": {
              "fillmode": "overlay",
              "size": 10,
              "solidity": 0.2
             }
            },
            "type": "barpolar"
           }
          ],
          "carpet": [
           {
            "aaxis": {
             "endlinecolor": "#2a3f5f",
             "gridcolor": "white",
             "linecolor": "white",
             "minorgridcolor": "white",
             "startlinecolor": "#2a3f5f"
            },
            "baxis": {
             "endlinecolor": "#2a3f5f",
             "gridcolor": "white",
             "linecolor": "white",
             "minorgridcolor": "white",
             "startlinecolor": "#2a3f5f"
            },
            "type": "carpet"
           }
          ],
          "choropleth": [
           {
            "colorbar": {
             "outlinewidth": 0,
             "ticks": ""
            },
            "type": "choropleth"
           }
          ],
          "contour": [
           {
            "colorbar": {
             "outlinewidth": 0,
             "ticks": ""
            },
            "colorscale": [
             [
              0,
              "#0d0887"
             ],
             [
              0.1111111111111111,
              "#46039f"
             ],
             [
              0.2222222222222222,
              "#7201a8"
             ],
             [
              0.3333333333333333,
              "#9c179e"
             ],
             [
              0.4444444444444444,
              "#bd3786"
             ],
             [
              0.5555555555555556,
              "#d8576b"
             ],
             [
              0.6666666666666666,
              "#ed7953"
             ],
             [
              0.7777777777777778,
              "#fb9f3a"
             ],
             [
              0.8888888888888888,
              "#fdca26"
             ],
             [
              1,
              "#f0f921"
             ]
            ],
            "type": "contour"
           }
          ],
          "contourcarpet": [
           {
            "colorbar": {
             "outlinewidth": 0,
             "ticks": ""
            },
            "type": "contourcarpet"
           }
          ],
          "heatmap": [
           {
            "colorbar": {
             "outlinewidth": 0,
             "ticks": ""
            },
            "colorscale": [
             [
              0,
              "#0d0887"
             ],
             [
              0.1111111111111111,
              "#46039f"
             ],
             [
              0.2222222222222222,
              "#7201a8"
             ],
             [
              0.3333333333333333,
              "#9c179e"
             ],
             [
              0.4444444444444444,
              "#bd3786"
             ],
             [
              0.5555555555555556,
              "#d8576b"
             ],
             [
              0.6666666666666666,
              "#ed7953"
             ],
             [
              0.7777777777777778,
              "#fb9f3a"
             ],
             [
              0.8888888888888888,
              "#fdca26"
             ],
             [
              1,
              "#f0f921"
             ]
            ],
            "type": "heatmap"
           }
          ],
          "histogram": [
           {
            "marker": {
             "pattern": {
              "fillmode": "overlay",
              "size": 10,
              "solidity": 0.2
             }
            },
            "type": "histogram"
           }
          ],
          "histogram2d": [
           {
            "colorbar": {
             "outlinewidth": 0,
             "ticks": ""
            },
            "colorscale": [
             [
              0,
              "#0d0887"
             ],
             [
              0.1111111111111111,
              "#46039f"
             ],
             [
              0.2222222222222222,
              "#7201a8"
             ],
             [
              0.3333333333333333,
              "#9c179e"
             ],
             [
              0.4444444444444444,
              "#bd3786"
             ],
             [
              0.5555555555555556,
              "#d8576b"
             ],
             [
              0.6666666666666666,
              "#ed7953"
             ],
             [
              0.7777777777777778,
              "#fb9f3a"
             ],
             [
              0.8888888888888888,
              "#fdca26"
             ],
             [
              1,
              "#f0f921"
             ]
            ],
            "type": "histogram2d"
           }
          ],
          "histogram2dcontour": [
           {
            "colorbar": {
             "outlinewidth": 0,
             "ticks": ""
            },
            "colorscale": [
             [
              0,
              "#0d0887"
             ],
             [
              0.1111111111111111,
              "#46039f"
             ],
             [
              0.2222222222222222,
              "#7201a8"
             ],
             [
              0.3333333333333333,
              "#9c179e"
             ],
             [
              0.4444444444444444,
              "#bd3786"
             ],
             [
              0.5555555555555556,
              "#d8576b"
             ],
             [
              0.6666666666666666,
              "#ed7953"
             ],
             [
              0.7777777777777778,
              "#fb9f3a"
             ],
             [
              0.8888888888888888,
              "#fdca26"
             ],
             [
              1,
              "#f0f921"
             ]
            ],
            "type": "histogram2dcontour"
           }
          ],
          "mesh3d": [
           {
            "colorbar": {
             "outlinewidth": 0,
             "ticks": ""
            },
            "type": "mesh3d"
           }
          ],
          "parcoords": [
           {
            "line": {
             "colorbar": {
              "outlinewidth": 0,
              "ticks": ""
             }
            },
            "type": "parcoords"
           }
          ],
          "pie": [
           {
            "automargin": true,
            "type": "pie"
           }
          ],
          "scatter": [
           {
            "fillpattern": {
             "fillmode": "overlay",
             "size": 10,
             "solidity": 0.2
            },
            "type": "scatter"
           }
          ],
          "scatter3d": [
           {
            "line": {
             "colorbar": {
              "outlinewidth": 0,
              "ticks": ""
             }
            },
            "marker": {
             "colorbar": {
              "outlinewidth": 0,
              "ticks": ""
             }
            },
            "type": "scatter3d"
           }
          ],
          "scattercarpet": [
           {
            "marker": {
             "colorbar": {
              "outlinewidth": 0,
              "ticks": ""
             }
            },
            "type": "scattercarpet"
           }
          ],
          "scattergeo": [
           {
            "marker": {
             "colorbar": {
              "outlinewidth": 0,
              "ticks": ""
             }
            },
            "type": "scattergeo"
           }
          ],
          "scattergl": [
           {
            "marker": {
             "colorbar": {
              "outlinewidth": 0,
              "ticks": ""
             }
            },
            "type": "scattergl"
           }
          ],
          "scattermap": [
           {
            "marker": {
             "colorbar": {
              "outlinewidth": 0,
              "ticks": ""
             }
            },
            "type": "scattermap"
           }
          ],
          "scattermapbox": [
           {
            "marker": {
             "colorbar": {
              "outlinewidth": 0,
              "ticks": ""
             }
            },
            "type": "scattermapbox"
           }
          ],
          "scatterpolar": [
           {
            "marker": {
             "colorbar": {
              "outlinewidth": 0,
              "ticks": ""
             }
            },
            "type": "scatterpolar"
           }
          ],
          "scatterpolargl": [
           {
            "marker": {
             "colorbar": {
              "outlinewidth": 0,
              "ticks": ""
             }
            },
            "type": "scatterpolargl"
           }
          ],
          "scatterternary": [
           {
            "marker": {
             "colorbar": {
              "outlinewidth": 0,
              "ticks": ""
             }
            },
            "type": "scatterternary"
           }
          ],
          "surface": [
           {
            "colorbar": {
             "outlinewidth": 0,
             "ticks": ""
            },
            "colorscale": [
             [
              0,
              "#0d0887"
             ],
             [
              0.1111111111111111,
              "#46039f"
             ],
             [
              0.2222222222222222,
              "#7201a8"
             ],
             [
              0.3333333333333333,
              "#9c179e"
             ],
             [
              0.4444444444444444,
              "#bd3786"
             ],
             [
              0.5555555555555556,
              "#d8576b"
             ],
             [
              0.6666666666666666,
              "#ed7953"
             ],
             [
              0.7777777777777778,
              "#fb9f3a"
             ],
             [
              0.8888888888888888,
              "#fdca26"
             ],
             [
              1,
              "#f0f921"
             ]
            ],
            "type": "surface"
           }
          ],
          "table": [
           {
            "cells": {
             "fill": {
              "color": "#EBF0F8"
             },
             "line": {
              "color": "white"
             }
            },
            "header": {
             "fill": {
              "color": "#C8D4E3"
             },
             "line": {
              "color": "white"
             }
            },
            "type": "table"
           }
          ]
         },
         "layout": {
          "annotationdefaults": {
           "arrowcolor": "#2a3f5f",
           "arrowhead": 0,
           "arrowwidth": 1
          },
          "autotypenumbers": "strict",
          "coloraxis": {
           "colorbar": {
            "outlinewidth": 0,
            "ticks": ""
           }
          },
          "colorscale": {
           "diverging": [
            [
             0,
             "#8e0152"
            ],
            [
             0.1,
             "#c51b7d"
            ],
            [
             0.2,
             "#de77ae"
            ],
            [
             0.3,
             "#f1b6da"
            ],
            [
             0.4,
             "#fde0ef"
            ],
            [
             0.5,
             "#f7f7f7"
            ],
            [
             0.6,
             "#e6f5d0"
            ],
            [
             0.7,
             "#b8e186"
            ],
            [
             0.8,
             "#7fbc41"
            ],
            [
             0.9,
             "#4d9221"
            ],
            [
             1,
             "#276419"
            ]
           ],
           "sequential": [
            [
             0,
             "#0d0887"
            ],
            [
             0.1111111111111111,
             "#46039f"
            ],
            [
             0.2222222222222222,
             "#7201a8"
            ],
            [
             0.3333333333333333,
             "#9c179e"
            ],
            [
             0.4444444444444444,
             "#bd3786"
            ],
            [
             0.5555555555555556,
             "#d8576b"
            ],
            [
             0.6666666666666666,
             "#ed7953"
            ],
            [
             0.7777777777777778,
             "#fb9f3a"
            ],
            [
             0.8888888888888888,
             "#fdca26"
            ],
            [
             1,
             "#f0f921"
            ]
           ],
           "sequentialminus": [
            [
             0,
             "#0d0887"
            ],
            [
             0.1111111111111111,
             "#46039f"
            ],
            [
             0.2222222222222222,
             "#7201a8"
            ],
            [
             0.3333333333333333,
             "#9c179e"
            ],
            [
             0.4444444444444444,
             "#bd3786"
            ],
            [
             0.5555555555555556,
             "#d8576b"
            ],
            [
             0.6666666666666666,
             "#ed7953"
            ],
            [
             0.7777777777777778,
             "#fb9f3a"
            ],
            [
             0.8888888888888888,
             "#fdca26"
            ],
            [
             1,
             "#f0f921"
            ]
           ]
          },
          "colorway": [
           "#636efa",
           "#EF553B",
           "#00cc96",
           "#ab63fa",
           "#FFA15A",
           "#19d3f3",
           "#FF6692",
           "#B6E880",
           "#FF97FF",
           "#FECB52"
          ],
          "font": {
           "color": "#2a3f5f"
          },
          "geo": {
           "bgcolor": "white",
           "lakecolor": "white",
           "landcolor": "#E5ECF6",
           "showlakes": true,
           "showland": true,
           "subunitcolor": "white"
          },
          "hoverlabel": {
           "align": "left"
          },
          "hovermode": "closest",
          "mapbox": {
           "style": "light"
          },
          "paper_bgcolor": "white",
          "plot_bgcolor": "#E5ECF6",
          "polar": {
           "angularaxis": {
            "gridcolor": "white",
            "linecolor": "white",
            "ticks": ""
           },
           "bgcolor": "#E5ECF6",
           "radialaxis": {
            "gridcolor": "white",
            "linecolor": "white",
            "ticks": ""
           }
          },
          "scene": {
           "xaxis": {
            "backgroundcolor": "#E5ECF6",
            "gridcolor": "white",
            "gridwidth": 2,
            "linecolor": "white",
            "showbackground": true,
            "ticks": "",
            "zerolinecolor": "white"
           },
           "yaxis": {
            "backgroundcolor": "#E5ECF6",
            "gridcolor": "white",
            "gridwidth": 2,
            "linecolor": "white",
            "showbackground": true,
            "ticks": "",
            "zerolinecolor": "white"
           },
           "zaxis": {
            "backgroundcolor": "#E5ECF6",
            "gridcolor": "white",
            "gridwidth": 2,
            "linecolor": "white",
            "showbackground": true,
            "ticks": "",
            "zerolinecolor": "white"
           }
          },
          "shapedefaults": {
           "line": {
            "color": "#2a3f5f"
           }
          },
          "ternary": {
           "aaxis": {
            "gridcolor": "white",
            "linecolor": "white",
            "ticks": ""
           },
           "baxis": {
            "gridcolor": "white",
            "linecolor": "white",
            "ticks": ""
           },
           "bgcolor": "#E5ECF6",
           "caxis": {
            "gridcolor": "white",
            "linecolor": "white",
            "ticks": ""
           }
          },
          "title": {
           "x": 0.05
          },
          "xaxis": {
           "automargin": true,
           "gridcolor": "white",
           "linecolor": "white",
           "ticks": "",
           "title": {
            "standoff": 15
           },
           "zerolinecolor": "white",
           "zerolinewidth": 2
          },
          "yaxis": {
           "automargin": true,
           "gridcolor": "white",
           "linecolor": "white",
           "ticks": "",
           "title": {
            "standoff": 15
           },
           "zerolinecolor": "white",
           "zerolinewidth": 2
          }
         }
        },
        "title": {
         "text": "Ecolution of COVID-19 Vaccinations per Hundred by State and Year"
        },
        "xaxis": {
         "anchor": "y",
         "domain": [
          0,
          1
         ],
         "title": {
          "text": "State"
         }
        },
        "yaxis": {
         "anchor": "x",
         "domain": [
          0,
          1
         ],
         "title": {
          "text": "Vaccinations Per Hundred"
         }
        }
       }
      }
     },
     "metadata": {},
     "output_type": "display_data"
    }
   ],
   "source": [
    "#gráfico de barras agrupadas - evolução da vacinação por ano\n",
    "vaccination_mean[\"year\"] = vaccination_mean[\"year\"].astype(str)\n",
    "\n",
    "fig = px.bar(vaccination_mean, x=\"location\", y=\"total_vaccinations_per_hundred\", \n",
    "             color=\"year\", barmode=\"group\",\n",
    "             labels={\"total_vaccinations_per_hundred\": \"Vaccinations Per Hundred\",\n",
    "                     \"year\": \"Year\", \"location\": \"State\"},\n",
    "             title=\"Ecolution of COVID-19 Vaccinations per Hundred by State and Year\")\n",
    "\n",
    "fig.show()"
   ]
  },
  {
   "cell_type": "code",
   "execution_count": null,
   "metadata": {},
   "outputs": [],
   "source": []
  }
 ],
 "metadata": {
  "kernelspec": {
   "display_name": ".venv",
   "language": "python",
   "name": "python3"
  },
  "language_info": {
   "codemirror_mode": {
    "name": "ipython",
    "version": 3
   },
   "file_extension": ".py",
   "mimetype": "text/x-python",
   "name": "python",
   "nbconvert_exporter": "python",
   "pygments_lexer": "ipython3",
   "version": "3.12.2"
  }
 },
 "nbformat": 4,
 "nbformat_minor": 2
}
